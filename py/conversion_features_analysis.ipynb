{
 "cells": [
  {
   "cell_type": "code",
   "execution_count": 1,
   "metadata": {
    "collapsed": true
   },
   "outputs": [],
   "source": [
    "import pandas as pd\n",
    "import numpy as np"
   ]
  },
  {
   "cell_type": "markdown",
   "metadata": {},
   "source": [
    "## Load mail chimp data"
   ]
  },
  {
   "cell_type": "code",
   "execution_count": 98,
   "metadata": {
    "collapsed": true
   },
   "outputs": [],
   "source": [
    "csv_path = '/Users/lindsay/Documents/Data Science/BrazilianDirect/csv/mailchimp/members_export_21_march_2016.csv'\n",
    "mail = pd.read_csv(csv_path)"
   ]
  },
  {
   "cell_type": "code",
   "execution_count": 99,
   "metadata": {
    "collapsed": false
   },
   "outputs": [],
   "source": [
    "mail['CONFIRM_TIME'] = pd.to_datetime(mail['CONFIRM_TIME'])"
   ]
  },
  {
   "cell_type": "code",
   "execution_count": 100,
   "metadata": {
    "collapsed": false
   },
   "outputs": [],
   "source": [
    "first_email = min(mail['CONFIRM_TIME'])"
   ]
  },
  {
   "cell_type": "code",
   "execution_count": 101,
   "metadata": {
    "collapsed": false
   },
   "outputs": [],
   "source": [
    "mail = mail.drop(mail.columns[1:], axis=1)"
   ]
  },
  {
   "cell_type": "code",
   "execution_count": 102,
   "metadata": {
    "collapsed": false
   },
   "outputs": [],
   "source": [
    "mail['mail_chimp'] = 1"
   ]
  },
  {
   "cell_type": "code",
   "execution_count": 103,
   "metadata": {
    "collapsed": false
   },
   "outputs": [],
   "source": [
    "mail.columns = ['email', 'mail_chimp']"
   ]
  },
  {
   "cell_type": "markdown",
   "metadata": {},
   "source": [
    "## Load paypal data"
   ]
  },
  {
   "cell_type": "code",
   "execution_count": 104,
   "metadata": {
    "collapsed": true
   },
   "outputs": [],
   "source": [
    "import os"
   ]
  },
  {
   "cell_type": "code",
   "execution_count": 105,
   "metadata": {
    "collapsed": true
   },
   "outputs": [],
   "source": [
    "csv_dir = '/Users/lindsay/Documents/Data Science/BrazilianDirect/csv/paypal/'\n",
    "csv_files = [os.path.join(csv_dir, x) for x in os.listdir(csv_dir)]"
   ]
  },
  {
   "cell_type": "code",
   "execution_count": 106,
   "metadata": {
    "collapsed": false
   },
   "outputs": [
    {
     "data": {
      "text/plain": [
       "['/Users/lindsay/Documents/Data Science/BrazilianDirect/csv/paypal/paypal_2010_2012.csv',\n",
       " '/Users/lindsay/Documents/Data Science/BrazilianDirect/csv/paypal/paypal_2012_2014.csv',\n",
       " '/Users/lindsay/Documents/Data Science/BrazilianDirect/csv/paypal/paypal_2014_2016.csv']"
      ]
     },
     "execution_count": 106,
     "metadata": {},
     "output_type": "execute_result"
    }
   ],
   "source": [
    "csv_files"
   ]
  },
  {
   "cell_type": "code",
   "execution_count": 107,
   "metadata": {
    "collapsed": true
   },
   "outputs": [],
   "source": [
    "paypal = pd.concat((pd.read_csv(f) for f in csv_files))"
   ]
  },
  {
   "cell_type": "code",
   "execution_count": 108,
   "metadata": {
    "collapsed": false
   },
   "outputs": [],
   "source": [
    "paypal.columns = [x.strip() for x in paypal.columns]"
   ]
  },
  {
   "cell_type": "code",
   "execution_count": 109,
   "metadata": {
    "collapsed": true
   },
   "outputs": [],
   "source": [
    "paypal['Date'] = pd.to_datetime(paypal['Date'])"
   ]
  },
  {
   "cell_type": "code",
   "execution_count": 110,
   "metadata": {
    "collapsed": false
   },
   "outputs": [],
   "source": [
    "first_sample = min(paypal['Date'])"
   ]
  },
  {
   "cell_type": "markdown",
   "metadata": {},
   "source": [
    "### Keep only sample purchases"
   ]
  },
  {
   "cell_type": "code",
   "execution_count": 111,
   "metadata": {
    "collapsed": true
   },
   "outputs": [],
   "source": [
    "paypal = paypal.loc[paypal['Item Title'] == 'Hardwood Flooring Samples', :]"
   ]
  },
  {
   "cell_type": "code",
   "execution_count": 112,
   "metadata": {
    "collapsed": false
   },
   "outputs": [],
   "source": [
    "paypal = pd.DataFrame(paypal['From Email Address'])"
   ]
  },
  {
   "cell_type": "code",
   "execution_count": 113,
   "metadata": {
    "collapsed": false
   },
   "outputs": [],
   "source": [
    "paypal = paypal.drop_duplicates()"
   ]
  },
  {
   "cell_type": "code",
   "execution_count": 114,
   "metadata": {
    "collapsed": false
   },
   "outputs": [],
   "source": [
    "paypal['samples'] = 1"
   ]
  },
  {
   "cell_type": "code",
   "execution_count": 115,
   "metadata": {
    "collapsed": false
   },
   "outputs": [],
   "source": [
    "paypal.columns = ['email', 'samples']"
   ]
  },
  {
   "cell_type": "markdown",
   "metadata": {},
   "source": [
    "## Load MySQL Data"
   ]
  },
  {
   "cell_type": "code",
   "execution_count": 61,
   "metadata": {
    "collapsed": true
   },
   "outputs": [],
   "source": [
    "import bd_mysql"
   ]
  },
  {
   "cell_type": "code",
   "execution_count": 62,
   "metadata": {
    "collapsed": true
   },
   "outputs": [],
   "source": [
    "config_path = '/Users/lindsay/Documents/Data Science/BrazilianDirect/cfg/mysql.cfg'\n",
    "con = bd_mysql.connect_bd_mysql(config_path)\n",
    "df = bd_mysql.download_quote_data(con)\n",
    "df = bd_mysql.pre_process_mysql(df)"
   ]
  },
  {
   "cell_type": "code",
   "execution_count": 68,
   "metadata": {
    "collapsed": false
   },
   "outputs": [
    {
     "data": {
      "text/plain": [
       "Index([u'quote_id', u'email', u'date_created', u'days_until_needed',\n",
       "       u'phone_provided', u'ship_state', u'install_subfloor', u'employee_id',\n",
       "       u'sq_ft', u'cust_price', u'retail_price', u'common_name', u'finish',\n",
       "       u'grade', u'milling', u'width', u'construction',\n",
       "       u'days_until_needed_bin', u'sq_ft_bin', u'converted', u'month',\n",
       "       u'year'],\n",
       "      dtype='object')"
      ]
     },
     "execution_count": 68,
     "metadata": {},
     "output_type": "execute_result"
    }
   ],
   "source": [
    "df.columns"
   ]
  },
  {
   "cell_type": "markdown",
   "metadata": {},
   "source": [
    "## Join MySQL, mail chimp, and paypal"
   ]
  },
  {
   "cell_type": "code",
   "execution_count": 69,
   "metadata": {
    "collapsed": false
   },
   "outputs": [],
   "source": [
    "df_all = pd.merge(df, mail, how='left', on='email')"
   ]
  },
  {
   "cell_type": "code",
   "execution_count": 71,
   "metadata": {
    "collapsed": false
   },
   "outputs": [
    {
     "data": {
      "text/plain": [
       "NaN     26862\n",
       " 1.0    12459\n",
       "Name: mail_chimp, dtype: int64"
      ]
     },
     "execution_count": 71,
     "metadata": {},
     "output_type": "execute_result"
    }
   ],
   "source": [
    "df_all['mail_chimp'].value_counts(dropna=False)"
   ]
  },
  {
   "cell_type": "code",
   "execution_count": 72,
   "metadata": {
    "collapsed": true
   },
   "outputs": [],
   "source": [
    "df_all = pd.merge(df_all, paypal, how='left', on='email')"
   ]
  },
  {
   "cell_type": "code",
   "execution_count": 73,
   "metadata": {
    "collapsed": false
   },
   "outputs": [
    {
     "data": {
      "text/plain": [
       "NaN     37431\n",
       " 1.0     1890\n",
       "Name: samples, dtype: int64"
      ]
     },
     "execution_count": 73,
     "metadata": {},
     "output_type": "execute_result"
    }
   ],
   "source": [
    "df_all['samples'].value_counts(dropna=False)"
   ]
  },
  {
   "cell_type": "code",
   "execution_count": 74,
   "metadata": {
    "collapsed": true
   },
   "outputs": [],
   "source": [
    "# Replace nan with 0\n",
    "df_all['mail_chimp'] = df_all['mail_chimp'].fillna(value=0)\n",
    "df_all['samples'] = df_all['samples'].fillna(value=0)"
   ]
  },
  {
   "cell_type": "markdown",
   "metadata": {},
   "source": [
    "## Filter quotes before samples/mailchimp"
   ]
  },
  {
   "cell_type": "code",
   "execution_count": 125,
   "metadata": {
    "collapsed": false
   },
   "outputs": [
    {
     "data": {
      "text/plain": [
       "datetime.date(2011, 7, 15)"
      ]
     },
     "execution_count": 125,
     "metadata": {},
     "output_type": "execute_result"
    }
   ],
   "source": [
    "earliest_date = pd.datetime.date(max(first_email, first_sample))\n",
    "earliest_date"
   ]
  },
  {
   "cell_type": "code",
   "execution_count": 130,
   "metadata": {
    "collapsed": false
   },
   "outputs": [],
   "source": [
    "df_all = df_all.loc[df_all['date_created'] >= earliest_date, :]"
   ]
  },
  {
   "cell_type": "code",
   "execution_count": 131,
   "metadata": {
    "collapsed": false
   },
   "outputs": [
    {
     "data": {
      "text/plain": [
       "(21673, 24)"
      ]
     },
     "execution_count": 131,
     "metadata": {},
     "output_type": "execute_result"
    }
   ],
   "source": [
    "df_all.shape"
   ]
  },
  {
   "cell_type": "markdown",
   "metadata": {},
   "source": [
    "## Crosstabs"
   ]
  },
  {
   "cell_type": "code",
   "execution_count": 150,
   "metadata": {
    "collapsed": true
   },
   "outputs": [],
   "source": [
    "from scipy.stats import chisquare"
   ]
  },
  {
   "cell_type": "code",
   "execution_count": 147,
   "metadata": {
    "collapsed": false
   },
   "outputs": [
    {
     "data": {
      "text/html": [
       "<div>\n",
       "<table border=\"1\" class=\"dataframe\">\n",
       "  <thead>\n",
       "    <tr style=\"text-align: right;\">\n",
       "      <th></th>\n",
       "      <th>samples</th>\n",
       "      <th>no_purchase</th>\n",
       "      <th>purchase</th>\n",
       "      <th>total</th>\n",
       "      <th>percent</th>\n",
       "    </tr>\n",
       "  </thead>\n",
       "  <tbody>\n",
       "    <tr>\n",
       "      <th>0</th>\n",
       "      <td>0.0</td>\n",
       "      <td>18663</td>\n",
       "      <td>1203</td>\n",
       "      <td>19866</td>\n",
       "      <td>6.055572</td>\n",
       "    </tr>\n",
       "    <tr>\n",
       "      <th>1</th>\n",
       "      <td>1.0</td>\n",
       "      <td>1465</td>\n",
       "      <td>342</td>\n",
       "      <td>1807</td>\n",
       "      <td>18.926397</td>\n",
       "    </tr>\n",
       "  </tbody>\n",
       "</table>\n",
       "</div>"
      ],
      "text/plain": [
       "   samples  no_purchase  purchase  total    percent\n",
       "0      0.0        18663      1203  19866   6.055572\n",
       "1      1.0         1465       342   1807  18.926397"
      ]
     },
     "execution_count": 147,
     "metadata": {},
     "output_type": "execute_result"
    }
   ],
   "source": [
    "xt_samples_converted = pd.crosstab(df_all['samples'], df_all['converted'])\n",
    "xt_samples_converted = xt_samples_converted.reset_index()\n",
    "xt_samples_converted.columns = ['samples', 'no_purchase', 'purchase']\n",
    "xt_samples_converted['total'] = xt_samples_converted['no_purchase'] + xt_samples_converted['purchase']\n",
    "xt_samples_converted['percent'] = xt_samples_converted['purchase'] / xt_samples_converted['total'] * 100\n",
    "xt_samples_converted"
   ]
  },
  {
   "cell_type": "code",
   "execution_count": 153,
   "metadata": {
    "collapsed": false
   },
   "outputs": [
    {
     "data": {
      "text/plain": [
       "Power_divergenceResult(statistic=16464.225861029259, pvalue=0.0)"
      ]
     },
     "execution_count": 153,
     "metadata": {},
     "output_type": "execute_result"
    }
   ],
   "source": [
    "# chisquare test\n",
    "f_exp = xt_samples_converted.loc[0, ['no_purchase', 'purchase']].values\n",
    "f_obs = xt_samples_converted.loc[1, ['no_purchase', 'purchase']].values\n",
    "\n",
    "chisquare(f_obs, f_exp=f_exp)"
   ]
  },
  {
   "cell_type": "code",
   "execution_count": 149,
   "metadata": {
    "collapsed": false
   },
   "outputs": [
    {
     "data": {
      "text/html": [
       "<div>\n",
       "<table border=\"1\" class=\"dataframe\">\n",
       "  <thead>\n",
       "    <tr style=\"text-align: right;\">\n",
       "      <th></th>\n",
       "      <th>mail_chimp</th>\n",
       "      <th>no_purchase</th>\n",
       "      <th>purchase</th>\n",
       "      <th>total</th>\n",
       "      <th>percent</th>\n",
       "    </tr>\n",
       "  </thead>\n",
       "  <tbody>\n",
       "    <tr>\n",
       "      <th>0</th>\n",
       "      <td>0.0</td>\n",
       "      <td>9912</td>\n",
       "      <td>617</td>\n",
       "      <td>10529</td>\n",
       "      <td>5.860006</td>\n",
       "    </tr>\n",
       "    <tr>\n",
       "      <th>1</th>\n",
       "      <td>1.0</td>\n",
       "      <td>10216</td>\n",
       "      <td>928</td>\n",
       "      <td>11144</td>\n",
       "      <td>8.327351</td>\n",
       "    </tr>\n",
       "  </tbody>\n",
       "</table>\n",
       "</div>"
      ],
      "text/plain": [
       "   mail_chimp  no_purchase  purchase  total   percent\n",
       "0         0.0         9912       617  10529  5.860006\n",
       "1         1.0        10216       928  11144  8.327351"
      ]
     },
     "execution_count": 149,
     "metadata": {},
     "output_type": "execute_result"
    }
   ],
   "source": [
    "xt_mail_converted = pd.crosstab(df_all['mail_chimp'], df_all['converted']).reset_index()\n",
    "xt_mail_converted.columns = ['mail_chimp', 'no_purchase', 'purchase']\n",
    "xt_mail_converted['total'] = xt_mail_converted['no_purchase'] + xt_mail_converted['purchase']\n",
    "xt_mail_converted['percent'] = xt_mail_converted['purchase'] / xt_mail_converted['total'] * 100\n",
    "xt_mail_converted"
   ]
  },
  {
   "cell_type": "code",
   "execution_count": 154,
   "metadata": {
    "collapsed": false
   },
   "outputs": [
    {
     "data": {
      "text/plain": [
       "Power_divergenceResult(statistic=166.08377776295256, pvalue=5.3035378643932957e-38)"
      ]
     },
     "execution_count": 154,
     "metadata": {},
     "output_type": "execute_result"
    }
   ],
   "source": [
    "# chisquare test\n",
    "f_exp = xt_mail_converted.loc[0, ['no_purchase', 'purchase']].values\n",
    "f_obs = xt_mail_converted.loc[1, ['no_purchase', 'purchase']].values\n",
    "\n",
    "chisquare(f_obs, f_exp=f_exp)"
   ]
  },
  {
   "cell_type": "code",
   "execution_count": 161,
   "metadata": {
    "collapsed": false
   },
   "outputs": [
    {
     "data": {
      "text/html": [
       "<div>\n",
       "<table border=\"1\" class=\"dataframe\">\n",
       "  <thead>\n",
       "    <tr>\n",
       "      <th>samples</th>\n",
       "      <th colspan=\"2\" halign=\"left\">0.0</th>\n",
       "      <th colspan=\"2\" halign=\"left\">1.0</th>\n",
       "    </tr>\n",
       "    <tr>\n",
       "      <th>mail_chimp</th>\n",
       "      <th>0.0</th>\n",
       "      <th>1.0</th>\n",
       "      <th>0.0</th>\n",
       "      <th>1.0</th>\n",
       "    </tr>\n",
       "    <tr>\n",
       "      <th>converted</th>\n",
       "      <th></th>\n",
       "      <th></th>\n",
       "      <th></th>\n",
       "      <th></th>\n",
       "    </tr>\n",
       "  </thead>\n",
       "  <tbody>\n",
       "    <tr>\n",
       "      <th>0</th>\n",
       "      <td>9292</td>\n",
       "      <td>9371</td>\n",
       "      <td>620</td>\n",
       "      <td>845</td>\n",
       "    </tr>\n",
       "    <tr>\n",
       "      <th>1</th>\n",
       "      <td>500</td>\n",
       "      <td>703</td>\n",
       "      <td>117</td>\n",
       "      <td>225</td>\n",
       "    </tr>\n",
       "  </tbody>\n",
       "</table>\n",
       "</div>"
      ],
      "text/plain": [
       "samples      0.0        1.0     \n",
       "mail_chimp   0.0   1.0  0.0  1.0\n",
       "converted                       \n",
       "0           9292  9371  620  845\n",
       "1            500   703  117  225"
      ]
     },
     "execution_count": 161,
     "metadata": {},
     "output_type": "execute_result"
    }
   ],
   "source": [
    "xt_samples_mail_converted = pd.crosstab(df_all['converted'], [df_all['samples'], df_all['mail_chimp']])\n",
    "xt_samples_mail_converted"
   ]
  },
  {
   "cell_type": "code",
   "execution_count": 156,
   "metadata": {
    "collapsed": false
   },
   "outputs": [
    {
     "data": {
      "text/plain": [
       "Power_divergenceResult(statistic=181.34553349875932, pvalue=2.4640055228580687e-41)"
      ]
     },
     "execution_count": 156,
     "metadata": {},
     "output_type": "execute_result"
    }
   ],
   "source": [
    "chisquare([225, 845], f_exp=([117,620]))"
   ]
  },
  {
   "cell_type": "code",
   "execution_count": 213,
   "metadata": {
    "collapsed": false
   },
   "outputs": [
    {
     "data": {
      "text/html": [
       "<div>\n",
       "<table border=\"1\" class=\"dataframe\">\n",
       "  <thead>\n",
       "    <tr style=\"text-align: right;\">\n",
       "      <th></th>\n",
       "      <th>samples</th>\n",
       "      <th>mail_chimp</th>\n",
       "      <th>converted</th>\n",
       "      <th>count</th>\n",
       "    </tr>\n",
       "  </thead>\n",
       "  <tbody>\n",
       "    <tr>\n",
       "      <th>0</th>\n",
       "      <td>0</td>\n",
       "      <td>0</td>\n",
       "      <td>0</td>\n",
       "      <td>9292</td>\n",
       "    </tr>\n",
       "    <tr>\n",
       "      <th>1</th>\n",
       "      <td>0</td>\n",
       "      <td>0</td>\n",
       "      <td>1</td>\n",
       "      <td>500</td>\n",
       "    </tr>\n",
       "    <tr>\n",
       "      <th>2</th>\n",
       "      <td>0</td>\n",
       "      <td>1</td>\n",
       "      <td>0</td>\n",
       "      <td>9371</td>\n",
       "    </tr>\n",
       "    <tr>\n",
       "      <th>3</th>\n",
       "      <td>0</td>\n",
       "      <td>1</td>\n",
       "      <td>1</td>\n",
       "      <td>703</td>\n",
       "    </tr>\n",
       "    <tr>\n",
       "      <th>4</th>\n",
       "      <td>1</td>\n",
       "      <td>0</td>\n",
       "      <td>0</td>\n",
       "      <td>620</td>\n",
       "    </tr>\n",
       "    <tr>\n",
       "      <th>5</th>\n",
       "      <td>1</td>\n",
       "      <td>0</td>\n",
       "      <td>1</td>\n",
       "      <td>117</td>\n",
       "    </tr>\n",
       "    <tr>\n",
       "      <th>6</th>\n",
       "      <td>1</td>\n",
       "      <td>1</td>\n",
       "      <td>0</td>\n",
       "      <td>845</td>\n",
       "    </tr>\n",
       "    <tr>\n",
       "      <th>7</th>\n",
       "      <td>1</td>\n",
       "      <td>1</td>\n",
       "      <td>1</td>\n",
       "      <td>225</td>\n",
       "    </tr>\n",
       "  </tbody>\n",
       "</table>\n",
       "</div>"
      ],
      "text/plain": [
       "   samples  mail_chimp  converted  count\n",
       "0        0           0          0   9292\n",
       "1        0           0          1    500\n",
       "2        0           1          0   9371\n",
       "3        0           1          1    703\n",
       "4        1           0          0    620\n",
       "5        1           0          1    117\n",
       "6        1           1          0    845\n",
       "7        1           1          1    225"
      ]
     },
     "execution_count": 213,
     "metadata": {},
     "output_type": "execute_result"
    }
   ],
   "source": [
    "tidy_xt = pd.DataFrame(xt_samples_mail_converted.unstack()).reset_index()\n",
    "tidy_xt.columns = ['samples', 'mail_chimp', 'converted', 'count']\n",
    "tidy_xt['samples'] = tidy_xt['samples'].astype(int)\n",
    "tidy_xt['mail_chimp'] = tidy_xt['mail_chimp'].astype(int)\n",
    "tidy_xt"
   ]
  },
  {
   "cell_type": "code",
   "execution_count": 214,
   "metadata": {
    "collapsed": false
   },
   "outputs": [],
   "source": [
    "xt_total = tidy_xt.groupby(['samples', 'mail_chimp']).agg(sum).reset_index().drop('converted', axis=1)\n",
    "xt_total.columns = ['samples', 'mail_chimp', 'total']"
   ]
  },
  {
   "cell_type": "code",
   "execution_count": 215,
   "metadata": {
    "collapsed": false
   },
   "outputs": [
    {
     "data": {
      "text/html": [
       "<div>\n",
       "<table border=\"1\" class=\"dataframe\">\n",
       "  <thead>\n",
       "    <tr style=\"text-align: right;\">\n",
       "      <th></th>\n",
       "      <th>samples</th>\n",
       "      <th>mail_chimp</th>\n",
       "      <th>converted</th>\n",
       "      <th>count</th>\n",
       "      <th>total</th>\n",
       "    </tr>\n",
       "  </thead>\n",
       "  <tbody>\n",
       "    <tr>\n",
       "      <th>0</th>\n",
       "      <td>0</td>\n",
       "      <td>0</td>\n",
       "      <td>0</td>\n",
       "      <td>9292</td>\n",
       "      <td>9792</td>\n",
       "    </tr>\n",
       "    <tr>\n",
       "      <th>1</th>\n",
       "      <td>0</td>\n",
       "      <td>0</td>\n",
       "      <td>1</td>\n",
       "      <td>500</td>\n",
       "      <td>9792</td>\n",
       "    </tr>\n",
       "    <tr>\n",
       "      <th>2</th>\n",
       "      <td>0</td>\n",
       "      <td>1</td>\n",
       "      <td>0</td>\n",
       "      <td>9371</td>\n",
       "      <td>10074</td>\n",
       "    </tr>\n",
       "    <tr>\n",
       "      <th>3</th>\n",
       "      <td>0</td>\n",
       "      <td>1</td>\n",
       "      <td>1</td>\n",
       "      <td>703</td>\n",
       "      <td>10074</td>\n",
       "    </tr>\n",
       "    <tr>\n",
       "      <th>4</th>\n",
       "      <td>1</td>\n",
       "      <td>0</td>\n",
       "      <td>0</td>\n",
       "      <td>620</td>\n",
       "      <td>737</td>\n",
       "    </tr>\n",
       "    <tr>\n",
       "      <th>5</th>\n",
       "      <td>1</td>\n",
       "      <td>0</td>\n",
       "      <td>1</td>\n",
       "      <td>117</td>\n",
       "      <td>737</td>\n",
       "    </tr>\n",
       "    <tr>\n",
       "      <th>6</th>\n",
       "      <td>1</td>\n",
       "      <td>1</td>\n",
       "      <td>0</td>\n",
       "      <td>845</td>\n",
       "      <td>1070</td>\n",
       "    </tr>\n",
       "    <tr>\n",
       "      <th>7</th>\n",
       "      <td>1</td>\n",
       "      <td>1</td>\n",
       "      <td>1</td>\n",
       "      <td>225</td>\n",
       "      <td>1070</td>\n",
       "    </tr>\n",
       "  </tbody>\n",
       "</table>\n",
       "</div>"
      ],
      "text/plain": [
       "   samples  mail_chimp  converted  count  total\n",
       "0        0           0          0   9292   9792\n",
       "1        0           0          1    500   9792\n",
       "2        0           1          0   9371  10074\n",
       "3        0           1          1    703  10074\n",
       "4        1           0          0    620    737\n",
       "5        1           0          1    117    737\n",
       "6        1           1          0    845   1070\n",
       "7        1           1          1    225   1070"
      ]
     },
     "execution_count": 215,
     "metadata": {},
     "output_type": "execute_result"
    }
   ],
   "source": [
    "tidy_xt = pd.merge(tidy_xt, xt_total, on=['samples', 'mail_chimp'])\n",
    "tidy_xt"
   ]
  },
  {
   "cell_type": "code",
   "execution_count": 216,
   "metadata": {
    "collapsed": false
   },
   "outputs": [
    {
     "name": "stderr",
     "output_type": "stream",
     "text": [
      "/anaconda/lib/python2.7/site-packages/ipykernel/__main__.py:2: SettingWithCopyWarning: \n",
      "A value is trying to be set on a copy of a slice from a DataFrame.\n",
      "Try using .loc[row_indexer,col_indexer] = value instead\n",
      "\n",
      "See the caveats in the documentation: http://pandas.pydata.org/pandas-docs/stable/indexing.html#indexing-view-versus-copy\n",
      "  from ipykernel import kernelapp as app\n"
     ]
    }
   ],
   "source": [
    "tidy_xt = tidy_xt.loc[tidy_xt['converted'] == 1, :]\n",
    "tidy_xt['conversion_rate'] = tidy_xt['count'] / tidy_xt['total'] * 100"
   ]
  },
  {
   "cell_type": "code",
   "execution_count": 234,
   "metadata": {
    "collapsed": false
   },
   "outputs": [
    {
     "name": "stderr",
     "output_type": "stream",
     "text": [
      "/anaconda/lib/python2.7/site-packages/ipykernel/__main__.py:1: SettingWithCopyWarning: \n",
      "A value is trying to be set on a copy of a slice from a DataFrame.\n",
      "Try using .loc[row_indexer,col_indexer] = value instead\n",
      "\n",
      "See the caveats in the documentation: http://pandas.pydata.org/pandas-docs/stable/indexing.html#indexing-view-versus-copy\n",
      "  if __name__ == '__main__':\n"
     ]
    }
   ],
   "source": [
    "tidy_xt['label'] = ['None', 'Email Only', 'Samples Only', 'Both']"
   ]
  },
  {
   "cell_type": "code",
   "execution_count": 235,
   "metadata": {
    "collapsed": false
   },
   "outputs": [
    {
     "data": {
      "text/html": [
       "<div>\n",
       "<table border=\"1\" class=\"dataframe\">\n",
       "  <thead>\n",
       "    <tr style=\"text-align: right;\">\n",
       "      <th></th>\n",
       "      <th>samples</th>\n",
       "      <th>mail_chimp</th>\n",
       "      <th>converted</th>\n",
       "      <th>count</th>\n",
       "      <th>total</th>\n",
       "      <th>conversion_rate</th>\n",
       "      <th>label</th>\n",
       "    </tr>\n",
       "  </thead>\n",
       "  <tbody>\n",
       "    <tr>\n",
       "      <th>1</th>\n",
       "      <td>0</td>\n",
       "      <td>0</td>\n",
       "      <td>1</td>\n",
       "      <td>500</td>\n",
       "      <td>9792</td>\n",
       "      <td>5.106209</td>\n",
       "      <td>None</td>\n",
       "    </tr>\n",
       "    <tr>\n",
       "      <th>3</th>\n",
       "      <td>0</td>\n",
       "      <td>1</td>\n",
       "      <td>1</td>\n",
       "      <td>703</td>\n",
       "      <td>10074</td>\n",
       "      <td>6.978360</td>\n",
       "      <td>Email Only</td>\n",
       "    </tr>\n",
       "    <tr>\n",
       "      <th>5</th>\n",
       "      <td>1</td>\n",
       "      <td>0</td>\n",
       "      <td>1</td>\n",
       "      <td>117</td>\n",
       "      <td>737</td>\n",
       "      <td>15.875170</td>\n",
       "      <td>Samples Only</td>\n",
       "    </tr>\n",
       "    <tr>\n",
       "      <th>7</th>\n",
       "      <td>1</td>\n",
       "      <td>1</td>\n",
       "      <td>1</td>\n",
       "      <td>225</td>\n",
       "      <td>1070</td>\n",
       "      <td>21.028037</td>\n",
       "      <td>Both</td>\n",
       "    </tr>\n",
       "  </tbody>\n",
       "</table>\n",
       "</div>"
      ],
      "text/plain": [
       "   samples  mail_chimp  converted  count  total  conversion_rate         label\n",
       "1        0           0          1    500   9792         5.106209          None\n",
       "3        0           1          1    703  10074         6.978360    Email Only\n",
       "5        1           0          1    117    737        15.875170  Samples Only\n",
       "7        1           1          1    225   1070        21.028037          Both"
      ]
     },
     "execution_count": 235,
     "metadata": {},
     "output_type": "execute_result"
    }
   ],
   "source": [
    "tidy_xt"
   ]
  },
  {
   "cell_type": "code",
   "execution_count": 226,
   "metadata": {
    "collapsed": true
   },
   "outputs": [],
   "source": [
    "import seaborn as sns\n",
    "import pylab as plt\n",
    "sns.set;\n",
    "%matplotlib inline"
   ]
  },
  {
   "cell_type": "code",
   "execution_count": 224,
   "metadata": {
    "collapsed": false
   },
   "outputs": [
    {
     "data": {
      "image/png": "[encoded data removed]",
      "text/plain": [
       "<matplotlib.figure.Figure at 0x10c50cc50>"
      ]
     },
     "metadata": {},
     "output_type": "display_data"
    }
   ],
   "source": [
    "color_palette = sns.color_palette('Dark2')\n",
    "sns.palplot(color_palette)\n",
    "sns.set_style('white')\n",
    "sns.set_context('notebook', font_scale=2)"
   ]
  },
  {
   "cell_type": "code",
   "execution_count": 237,
   "metadata": {
    "collapsed": false
   },
   "outputs": [
    {
     "data": {
      "image/png": "[encoded data removed]",
      "text/plain": [
       "<matplotlib.figure.Figure at 0x10c20cd50>"
      ]
     },
     "metadata": {},
     "output_type": "display_data"
    }
   ],
   "source": [
    "fig = plt.figure()\n",
    "fig.set_size_inches(10, 6)\n",
    "sns.barplot(x = 'label', y = 'conversion_rate', data = tidy_xt);\n",
    "plt.xlabel('');\n",
    "plt.ylabel('Conversion Rate (%)');"
   ]
  },
  {
   "cell_type": "markdown",
   "metadata": {},
   "source": [
    "## Purchases by type"
   ]
  },
  {
   "cell_type": "code",
   "execution_count": 240,
   "metadata": {
    "collapsed": false
   },
   "outputs": [
    {
     "data": {
      "text/html": [
       "<div>\n",
       "<table border=\"1\" class=\"dataframe\">\n",
       "  <thead>\n",
       "    <tr style=\"text-align: right;\">\n",
       "      <th></th>\n",
       "      <th>species</th>\n",
       "      <th>no_purchase</th>\n",
       "      <th>purchase</th>\n",
       "      <th>conversion_rate</th>\n",
       "    </tr>\n",
       "  </thead>\n",
       "  <tbody>\n",
       "    <tr>\n",
       "      <th>0</th>\n",
       "      <td>Amendoim</td>\n",
       "      <td>715</td>\n",
       "      <td>81</td>\n",
       "      <td>10.175879</td>\n",
       "    </tr>\n",
       "    <tr>\n",
       "      <th>1</th>\n",
       "      <td>Brazilian Cherry</td>\n",
       "      <td>8438</td>\n",
       "      <td>572</td>\n",
       "      <td>6.348502</td>\n",
       "    </tr>\n",
       "    <tr>\n",
       "      <th>2</th>\n",
       "      <td>Brazilian Teak</td>\n",
       "      <td>2606</td>\n",
       "      <td>255</td>\n",
       "      <td>8.912967</td>\n",
       "    </tr>\n",
       "    <tr>\n",
       "      <th>3</th>\n",
       "      <td>Brazilian Walnut</td>\n",
       "      <td>2362</td>\n",
       "      <td>147</td>\n",
       "      <td>5.858908</td>\n",
       "    </tr>\n",
       "    <tr>\n",
       "      <th>4</th>\n",
       "      <td>Other</td>\n",
       "      <td>536</td>\n",
       "      <td>27</td>\n",
       "      <td>4.795737</td>\n",
       "    </tr>\n",
       "    <tr>\n",
       "      <th>5</th>\n",
       "      <td>Patagonian Rosewood</td>\n",
       "      <td>478</td>\n",
       "      <td>47</td>\n",
       "      <td>8.952381</td>\n",
       "    </tr>\n",
       "    <tr>\n",
       "      <th>6</th>\n",
       "      <td>Santos Mahogany</td>\n",
       "      <td>2259</td>\n",
       "      <td>197</td>\n",
       "      <td>8.021173</td>\n",
       "    </tr>\n",
       "    <tr>\n",
       "      <th>7</th>\n",
       "      <td>Tiete Rosewood</td>\n",
       "      <td>628</td>\n",
       "      <td>93</td>\n",
       "      <td>12.898752</td>\n",
       "    </tr>\n",
       "    <tr>\n",
       "      <th>8</th>\n",
       "      <td>Tigerwood</td>\n",
       "      <td>2106</td>\n",
       "      <td>126</td>\n",
       "      <td>5.645161</td>\n",
       "    </tr>\n",
       "  </tbody>\n",
       "</table>\n",
       "</div>"
      ],
      "text/plain": [
       "               species  no_purchase  purchase  conversion_rate\n",
       "0             Amendoim          715        81        10.175879\n",
       "1     Brazilian Cherry         8438       572         6.348502\n",
       "2       Brazilian Teak         2606       255         8.912967\n",
       "3     Brazilian Walnut         2362       147         5.858908\n",
       "4                Other          536        27         4.795737\n",
       "5  Patagonian Rosewood          478        47         8.952381\n",
       "6      Santos Mahogany         2259       197         8.021173\n",
       "7       Tiete Rosewood          628        93        12.898752\n",
       "8            Tigerwood         2106       126         5.645161"
      ]
     },
     "execution_count": 240,
     "metadata": {},
     "output_type": "execute_result"
    }
   ],
   "source": [
    "xt_species = pd.crosstab(df_all['common_name'], df_all['converted']).reset_index()\n",
    "xt_species.columns = ['species', 'no_purchase', 'purchase']\n",
    "xt_species['conversion_rate'] = xt_species['purchase'] / (xt_species['purchase'] + xt_species['no_purchase']) * 100\n",
    "xt_species"
   ]
  },
  {
   "cell_type": "code",
   "execution_count": 269,
   "metadata": {
    "collapsed": true
   },
   "outputs": [],
   "source": [
    "from pylab import rcParams\n",
    "rcParams['figure.figsize'] = 8,6"
   ]
  },
  {
   "cell_type": "code",
   "execution_count": 270,
   "metadata": {
    "collapsed": false
   },
   "outputs": [
    {
     "data": {
      "image/png": "[encoded data removed]",
      "text/plain": [
       "<matplotlib.figure.Figure at 0x116601d10>"
      ]
     },
     "metadata": {},
     "output_type": "display_data"
    }
   ],
   "source": [
    "ax = xt_species.sort_values(by='purchase', ascending=True).plot.barh(x='species', y='purchase', legend=False);\n",
    "plt.ylabel('');\n",
    "plt.xlabel('Total Purchases');\n"
   ]
  },
  {
   "cell_type": "code",
   "execution_count": 249,
   "metadata": {
    "collapsed": false
   },
   "outputs": [
    {
     "data": {
      "text/plain": [
       "0.068360418097199976"
      ]
     },
     "execution_count": 249,
     "metadata": {},
     "output_type": "execute_result"
    }
   ],
   "source": [
    "# all time conversion rate\n",
    "np.mean(df['converted'].values)"
   ]
  },
  {
   "cell_type": "code",
   "execution_count": 257,
   "metadata": {
    "collapsed": false
   },
   "outputs": [
    {
     "data": {
      "text/plain": [
       "0.37022653721682847"
      ]
     },
     "execution_count": 257,
     "metadata": {},
     "output_type": "execute_result"
    }
   ],
   "source": [
    "# percent of brazilian cherry\n",
    "572.0/sum(xt_species['purchase'].values)"
   ]
  },
  {
   "cell_type": "code",
   "execution_count": 272,
   "metadata": {
    "collapsed": false
   },
   "outputs": [
    {
     "data": {
      "image/png": "[encoded data removed]",
      "text/plain": [
       "<matplotlib.figure.Figure at 0x115db0650>"
      ]
     },
     "metadata": {},
     "output_type": "display_data"
    }
   ],
   "source": [
    "ax = xt_species.sort_values(by='conversion_rate', ascending=True).plot.barh(x='species', y='conversion_rate', legend=False);\n",
    "plt.ylabel('');\n",
    "plt.xlabel('Conversion Rate (%)');"
   ]
  },
  {
   "cell_type": "code",
   "execution_count": 273,
   "metadata": {
    "collapsed": false
   },
   "outputs": [
    {
     "data": {
      "text/html": [
       "<div>\n",
       "<table border=\"1\" class=\"dataframe\">\n",
       "  <thead>\n",
       "    <tr style=\"text-align: right;\">\n",
       "      <th>construction</th>\n",
       "      <th>Engineered</th>\n",
       "      <th>Missing</th>\n",
       "      <th>Solid</th>\n",
       "    </tr>\n",
       "    <tr>\n",
       "      <th>converted</th>\n",
       "      <th></th>\n",
       "      <th></th>\n",
       "      <th></th>\n",
       "    </tr>\n",
       "  </thead>\n",
       "  <tbody>\n",
       "    <tr>\n",
       "      <th>0</th>\n",
       "      <td>1770</td>\n",
       "      <td>300</td>\n",
       "      <td>18058</td>\n",
       "    </tr>\n",
       "    <tr>\n",
       "      <th>1</th>\n",
       "      <td>96</td>\n",
       "      <td>15</td>\n",
       "      <td>1434</td>\n",
       "    </tr>\n",
       "  </tbody>\n",
       "</table>\n",
       "</div>"
      ],
      "text/plain": [
       "construction  Engineered  Missing  Solid\n",
       "converted                               \n",
       "0                   1770      300  18058\n",
       "1                     96       15   1434"
      ]
     },
     "execution_count": 273,
     "metadata": {},
     "output_type": "execute_result"
    }
   ],
   "source": [
    "pd.crosstab(df_all['converted'], df_all['construction'])"
   ]
  },
  {
   "cell_type": "code",
   "execution_count": 275,
   "metadata": {
    "collapsed": false
   },
   "outputs": [
    {
     "data": {
      "text/plain": [
       "0.05144694533762058"
      ]
     },
     "execution_count": 275,
     "metadata": {},
     "output_type": "execute_result"
    }
   ],
   "source": [
    "96.0/(96+1770)"
   ]
  },
  {
   "cell_type": "code",
   "execution_count": 276,
   "metadata": {
    "collapsed": false
   },
   "outputs": [
    {
     "data": {
      "text/plain": [
       "0.07356864354607018"
      ]
     },
     "execution_count": 276,
     "metadata": {},
     "output_type": "execute_result"
    }
   ],
   "source": [
    "1434./(1434+18058)"
   ]
  },
  {
   "cell_type": "code",
   "execution_count": 307,
   "metadata": {
    "collapsed": true
   },
   "outputs": [],
   "source": [
    "from statsmodels.stats import proportion"
   ]
  },
  {
   "cell_type": "code",
   "execution_count": 282,
   "metadata": {
    "collapsed": true
   },
   "outputs": [],
   "source": [
    "def xt_converted(column, df):\n",
    "    xt = pd.crosstab(df[column], df['converted']).reset_index()\n",
    "    xt.columns = [column, 'no_purchase', 'purchase']\n",
    "    xt['total'] = xt['no_purchase'] + xt['purchase']\n",
    "    xt['conversion_rate'] = xt['purchase'] / xt['total'] * 100\n",
    "    return xt"
   ]
  },
  {
   "cell_type": "code",
   "execution_count": 308,
   "metadata": {
    "collapsed": false
   },
   "outputs": [
    {
     "data": {
      "text/html": [
       "<div>\n",
       "<table border=\"1\" class=\"dataframe\">\n",
       "  <thead>\n",
       "    <tr style=\"text-align: right;\">\n",
       "      <th></th>\n",
       "      <th>finish</th>\n",
       "      <th>no_purchase</th>\n",
       "      <th>purchase</th>\n",
       "      <th>total</th>\n",
       "      <th>conversion_rate</th>\n",
       "    </tr>\n",
       "  </thead>\n",
       "  <tbody>\n",
       "    <tr>\n",
       "      <th>0</th>\n",
       "      <td>Missing</td>\n",
       "      <td>379</td>\n",
       "      <td>16</td>\n",
       "      <td>395</td>\n",
       "      <td>4.050633</td>\n",
       "    </tr>\n",
       "    <tr>\n",
       "      <th>1</th>\n",
       "      <td>Prefinished</td>\n",
       "      <td>15800</td>\n",
       "      <td>1174</td>\n",
       "      <td>16974</td>\n",
       "      <td>6.916460</td>\n",
       "    </tr>\n",
       "    <tr>\n",
       "      <th>2</th>\n",
       "      <td>Unfinished</td>\n",
       "      <td>3949</td>\n",
       "      <td>355</td>\n",
       "      <td>4304</td>\n",
       "      <td>8.248141</td>\n",
       "    </tr>\n",
       "  </tbody>\n",
       "</table>\n",
       "</div>"
      ],
      "text/plain": [
       "        finish  no_purchase  purchase  total  conversion_rate\n",
       "0      Missing          379        16    395         4.050633\n",
       "1  Prefinished        15800      1174  16974         6.916460\n",
       "2   Unfinished         3949       355   4304         8.248141"
      ]
     },
     "execution_count": 308,
     "metadata": {},
     "output_type": "execute_result"
    }
   ],
   "source": [
    "xt_finish = xt_converted('finish', df_all)\n",
    "xt_finish"
   ]
  },
  {
   "cell_type": "code",
   "execution_count": 321,
   "metadata": {
    "collapsed": false
   },
   "outputs": [
    {
     "data": {
      "text/plain": [
       "0.0025155527736590213"
      ]
     },
     "execution_count": 321,
     "metadata": {},
     "output_type": "execute_result"
    }
   ],
   "source": [
    "proportion.proportions_chisquare([1174, 355], [16974, 4304])[1]"
   ]
  },
  {
   "cell_type": "code",
   "execution_count": 284,
   "metadata": {
    "collapsed": false
   },
   "outputs": [
    {
     "data": {
      "text/html": [
       "<div>\n",
       "<table border=\"1\" class=\"dataframe\">\n",
       "  <thead>\n",
       "    <tr style=\"text-align: right;\">\n",
       "      <th></th>\n",
       "      <th>construction</th>\n",
       "      <th>no_purchase</th>\n",
       "      <th>purchase</th>\n",
       "      <th>total</th>\n",
       "      <th>conversion_rate</th>\n",
       "    </tr>\n",
       "  </thead>\n",
       "  <tbody>\n",
       "    <tr>\n",
       "      <th>0</th>\n",
       "      <td>Engineered</td>\n",
       "      <td>1770</td>\n",
       "      <td>96</td>\n",
       "      <td>1866</td>\n",
       "      <td>5.144695</td>\n",
       "    </tr>\n",
       "    <tr>\n",
       "      <th>1</th>\n",
       "      <td>Missing</td>\n",
       "      <td>300</td>\n",
       "      <td>15</td>\n",
       "      <td>315</td>\n",
       "      <td>4.761905</td>\n",
       "    </tr>\n",
       "    <tr>\n",
       "      <th>2</th>\n",
       "      <td>Solid</td>\n",
       "      <td>18058</td>\n",
       "      <td>1434</td>\n",
       "      <td>19492</td>\n",
       "      <td>7.356864</td>\n",
       "    </tr>\n",
       "  </tbody>\n",
       "</table>\n",
       "</div>"
      ],
      "text/plain": [
       "  construction  no_purchase  purchase  total  conversion_rate\n",
       "0   Engineered         1770        96   1866         5.144695\n",
       "1      Missing          300        15    315         4.761905\n",
       "2        Solid        18058      1434  19492         7.356864"
      ]
     },
     "execution_count": 284,
     "metadata": {},
     "output_type": "execute_result"
    }
   ],
   "source": [
    "xt_converted('construction', df_all)"
   ]
  },
  {
   "cell_type": "code",
   "execution_count": 322,
   "metadata": {
    "collapsed": false
   },
   "outputs": [
    {
     "data": {
      "text/plain": [
       "0.00040019694984658037"
      ]
     },
     "execution_count": 322,
     "metadata": {},
     "output_type": "execute_result"
    }
   ],
   "source": [
    "proportion.proportions_chisquare([96, 1434], [1866, 19492])[1]"
   ]
  },
  {
   "cell_type": "code",
   "execution_count": 288,
   "metadata": {
    "collapsed": false
   },
   "outputs": [
    {
     "data": {
      "text/html": [
       "<div>\n",
       "<table border=\"1\" class=\"dataframe\">\n",
       "  <thead>\n",
       "    <tr style=\"text-align: right;\">\n",
       "      <th></th>\n",
       "      <th>phone_provided</th>\n",
       "      <th>no_purchase</th>\n",
       "      <th>purchase</th>\n",
       "      <th>total</th>\n",
       "      <th>conversion_rate</th>\n",
       "    </tr>\n",
       "  </thead>\n",
       "  <tbody>\n",
       "    <tr>\n",
       "      <th>0</th>\n",
       "      <td>0</td>\n",
       "      <td>12953</td>\n",
       "      <td>660</td>\n",
       "      <td>13613</td>\n",
       "      <td>4.848307</td>\n",
       "    </tr>\n",
       "    <tr>\n",
       "      <th>1</th>\n",
       "      <td>1</td>\n",
       "      <td>7175</td>\n",
       "      <td>885</td>\n",
       "      <td>8060</td>\n",
       "      <td>10.980149</td>\n",
       "    </tr>\n",
       "  </tbody>\n",
       "</table>\n",
       "</div>"
      ],
      "text/plain": [
       "   phone_provided  no_purchase  purchase  total  conversion_rate\n",
       "0               0        12953       660  13613         4.848307\n",
       "1               1         7175       885   8060        10.980149"
      ]
     },
     "execution_count": 288,
     "metadata": {},
     "output_type": "execute_result"
    }
   ],
   "source": [
    "xt_converted('phone_provided', df_all)"
   ]
  },
  {
   "cell_type": "code",
   "execution_count": 323,
   "metadata": {
    "collapsed": false
   },
   "outputs": [
    {
     "data": {
      "text/plain": [
       "1.7297762723674187e-64"
      ]
     },
     "execution_count": 323,
     "metadata": {},
     "output_type": "execute_result"
    }
   ],
   "source": [
    "proportion.proportions_chisquare([660, 885], [13613, 8060])[1]"
   ]
  },
  {
   "cell_type": "code",
   "execution_count": 290,
   "metadata": {
    "collapsed": false
   },
   "outputs": [
    {
     "data": {
      "text/html": [
       "<div>\n",
       "<table border=\"1\" class=\"dataframe\">\n",
       "  <thead>\n",
       "    <tr style=\"text-align: right;\">\n",
       "      <th></th>\n",
       "      <th>sq_ft_bin</th>\n",
       "      <th>no_purchase</th>\n",
       "      <th>purchase</th>\n",
       "      <th>total</th>\n",
       "      <th>conversion_rate</th>\n",
       "    </tr>\n",
       "  </thead>\n",
       "  <tbody>\n",
       "    <tr>\n",
       "      <th>0</th>\n",
       "      <td>0-500</td>\n",
       "      <td>3820</td>\n",
       "      <td>325</td>\n",
       "      <td>4145</td>\n",
       "      <td>7.840772</td>\n",
       "    </tr>\n",
       "    <tr>\n",
       "      <th>1</th>\n",
       "      <td>1001-1500</td>\n",
       "      <td>3921</td>\n",
       "      <td>330</td>\n",
       "      <td>4251</td>\n",
       "      <td>7.762879</td>\n",
       "    </tr>\n",
       "    <tr>\n",
       "      <th>2</th>\n",
       "      <td>1501-2000</td>\n",
       "      <td>2151</td>\n",
       "      <td>157</td>\n",
       "      <td>2308</td>\n",
       "      <td>6.802426</td>\n",
       "    </tr>\n",
       "    <tr>\n",
       "      <th>3</th>\n",
       "      <td>2001-5000</td>\n",
       "      <td>2059</td>\n",
       "      <td>172</td>\n",
       "      <td>2231</td>\n",
       "      <td>7.709547</td>\n",
       "    </tr>\n",
       "    <tr>\n",
       "      <th>4</th>\n",
       "      <td>5001+</td>\n",
       "      <td>228</td>\n",
       "      <td>9</td>\n",
       "      <td>237</td>\n",
       "      <td>3.797468</td>\n",
       "    </tr>\n",
       "    <tr>\n",
       "      <th>5</th>\n",
       "      <td>501-1000</td>\n",
       "      <td>7947</td>\n",
       "      <td>551</td>\n",
       "      <td>8498</td>\n",
       "      <td>6.483879</td>\n",
       "    </tr>\n",
       "  </tbody>\n",
       "</table>\n",
       "</div>"
      ],
      "text/plain": [
       "   sq_ft_bin  no_purchase  purchase  total  conversion_rate\n",
       "0      0-500         3820       325   4145         7.840772\n",
       "1  1001-1500         3921       330   4251         7.762879\n",
       "2  1501-2000         2151       157   2308         6.802426\n",
       "3  2001-5000         2059       172   2231         7.709547\n",
       "4      5001+          228         9    237         3.797468\n",
       "5   501-1000         7947       551   8498         6.483879"
      ]
     },
     "execution_count": 290,
     "metadata": {},
     "output_type": "execute_result"
    }
   ],
   "source": [
    "xt_converted('sq_ft_bin', df_all)"
   ]
  },
  {
   "cell_type": "code",
   "execution_count": 292,
   "metadata": {
    "collapsed": false
   },
   "outputs": [
    {
     "data": {
      "text/html": [
       "<div>\n",
       "<table border=\"1\" class=\"dataframe\">\n",
       "  <thead>\n",
       "    <tr style=\"text-align: right;\">\n",
       "      <th></th>\n",
       "      <th>milling</th>\n",
       "      <th>no_purchase</th>\n",
       "      <th>purchase</th>\n",
       "      <th>total</th>\n",
       "      <th>conversion_rate</th>\n",
       "    </tr>\n",
       "  </thead>\n",
       "  <tbody>\n",
       "    <tr>\n",
       "      <th>0</th>\n",
       "      <td>Micro Bevel 4 Sides</td>\n",
       "      <td>15741</td>\n",
       "      <td>1171</td>\n",
       "      <td>16912</td>\n",
       "      <td>6.924078</td>\n",
       "    </tr>\n",
       "    <tr>\n",
       "      <th>1</th>\n",
       "      <td>Missing</td>\n",
       "      <td>704</td>\n",
       "      <td>32</td>\n",
       "      <td>736</td>\n",
       "      <td>4.347826</td>\n",
       "    </tr>\n",
       "    <tr>\n",
       "      <th>2</th>\n",
       "      <td>Square Edges</td>\n",
       "      <td>3683</td>\n",
       "      <td>342</td>\n",
       "      <td>4025</td>\n",
       "      <td>8.496894</td>\n",
       "    </tr>\n",
       "  </tbody>\n",
       "</table>\n",
       "</div>"
      ],
      "text/plain": [
       "               milling  no_purchase  purchase  total  conversion_rate\n",
       "0  Micro Bevel 4 Sides        15741      1171  16912         6.924078\n",
       "1              Missing          704        32    736         4.347826\n",
       "2         Square Edges         3683       342   4025         8.496894"
      ]
     },
     "execution_count": 292,
     "metadata": {},
     "output_type": "execute_result"
    }
   ],
   "source": [
    "xt_converted('milling', df_all)"
   ]
  },
  {
   "cell_type": "code",
   "execution_count": 325,
   "metadata": {
    "collapsed": false
   },
   "outputs": [
    {
     "data": {
      "text/plain": [
       "0.00053300993751817787"
      ]
     },
     "execution_count": 325,
     "metadata": {},
     "output_type": "execute_result"
    }
   ],
   "source": [
    "proportion.proportions_chisquare([1171, 342], [16912, 4025])[1]"
   ]
  },
  {
   "cell_type": "code",
   "execution_count": 293,
   "metadata": {
    "collapsed": false
   },
   "outputs": [
    {
     "data": {
      "text/html": [
       "<div>\n",
       "<table border=\"1\" class=\"dataframe\">\n",
       "  <thead>\n",
       "    <tr style=\"text-align: right;\">\n",
       "      <th></th>\n",
       "      <th>width</th>\n",
       "      <th>no_purchase</th>\n",
       "      <th>purchase</th>\n",
       "      <th>total</th>\n",
       "      <th>conversion_rate</th>\n",
       "    </tr>\n",
       "  </thead>\n",
       "  <tbody>\n",
       "    <tr>\n",
       "      <th>0</th>\n",
       "      <td>3</td>\n",
       "      <td>3049</td>\n",
       "      <td>242</td>\n",
       "      <td>3291</td>\n",
       "      <td>7.353388</td>\n",
       "    </tr>\n",
       "    <tr>\n",
       "      <th>1</th>\n",
       "      <td>3 1/4</td>\n",
       "      <td>6980</td>\n",
       "      <td>513</td>\n",
       "      <td>7493</td>\n",
       "      <td>6.846390</td>\n",
       "    </tr>\n",
       "    <tr>\n",
       "      <th>2</th>\n",
       "      <td>4</td>\n",
       "      <td>2988</td>\n",
       "      <td>271</td>\n",
       "      <td>3259</td>\n",
       "      <td>8.315434</td>\n",
       "    </tr>\n",
       "    <tr>\n",
       "      <th>3</th>\n",
       "      <td>4 3/4</td>\n",
       "      <td>1208</td>\n",
       "      <td>55</td>\n",
       "      <td>1263</td>\n",
       "      <td>4.354711</td>\n",
       "    </tr>\n",
       "    <tr>\n",
       "      <th>4</th>\n",
       "      <td>5</td>\n",
       "      <td>4864</td>\n",
       "      <td>424</td>\n",
       "      <td>5288</td>\n",
       "      <td>8.018154</td>\n",
       "    </tr>\n",
       "    <tr>\n",
       "      <th>5</th>\n",
       "      <td>Other</td>\n",
       "      <td>1039</td>\n",
       "      <td>40</td>\n",
       "      <td>1079</td>\n",
       "      <td>3.707136</td>\n",
       "    </tr>\n",
       "  </tbody>\n",
       "</table>\n",
       "</div>"
      ],
      "text/plain": [
       "   width  no_purchase  purchase  total  conversion_rate\n",
       "0      3         3049       242   3291         7.353388\n",
       "1  3 1/4         6980       513   7493         6.846390\n",
       "2      4         2988       271   3259         8.315434\n",
       "3  4 3/4         1208        55   1263         4.354711\n",
       "4      5         4864       424   5288         8.018154\n",
       "5  Other         1039        40   1079         3.707136"
      ]
     },
     "execution_count": 293,
     "metadata": {},
     "output_type": "execute_result"
    }
   ],
   "source": [
    "xt_converted('width', df_all)"
   ]
  },
  {
   "cell_type": "code",
   "execution_count": 326,
   "metadata": {
    "collapsed": false
   },
   "outputs": [
    {
     "data": {
      "text/plain": [
       "0.14735153744966914"
      ]
     },
     "execution_count": 326,
     "metadata": {},
     "output_type": "execute_result"
    }
   ],
   "source": [
    "# 3 vs 4\n",
    "proportion.proportions_chisquare([242, 271], [3291, 3259])[1]"
   ]
  },
  {
   "cell_type": "code",
   "execution_count": 327,
   "metadata": {
    "collapsed": false
   },
   "outputs": [
    {
     "data": {
      "text/plain": [
       "0.26318498900029796"
      ]
     },
     "execution_count": 327,
     "metadata": {},
     "output_type": "execute_result"
    }
   ],
   "source": [
    "# 3 vs 5\n",
    "proportion.proportions_chisquare([242, 424], [3291, 5288])[1]"
   ]
  },
  {
   "cell_type": "code",
   "execution_count": 328,
   "metadata": {
    "collapsed": false
   },
   "outputs": [
    {
     "data": {
      "text/plain": [
       "0.0070876636062558798"
      ]
     },
     "execution_count": 328,
     "metadata": {},
     "output_type": "execute_result"
    }
   ],
   "source": [
    "# 4 vs 3 1/4\n",
    "proportion.proportions_chisquare([513, 271], [7493, 3259])[1]"
   ]
  },
  {
   "cell_type": "code",
   "execution_count": 329,
   "metadata": {
    "collapsed": false
   },
   "outputs": [
    {
     "data": {
      "text/plain": [
       "0.012311257462911217"
      ]
     },
     "execution_count": 329,
     "metadata": {},
     "output_type": "execute_result"
    }
   ],
   "source": [
    "# 5 vs 3 1/4\n",
    "proportion.proportions_chisquare([513, 424], [7493, 5288])[1]"
   ]
  },
  {
   "cell_type": "code",
   "execution_count": 330,
   "metadata": {
    "collapsed": false
   },
   "outputs": [
    {
     "data": {
      "text/html": [
       "<div>\n",
       "<table border=\"1\" class=\"dataframe\">\n",
       "  <thead>\n",
       "    <tr style=\"text-align: right;\">\n",
       "      <th></th>\n",
       "      <th>employee_id</th>\n",
       "      <th>no_purchase</th>\n",
       "      <th>purchase</th>\n",
       "      <th>total</th>\n",
       "      <th>conversion_rate</th>\n",
       "    </tr>\n",
       "  </thead>\n",
       "  <tbody>\n",
       "    <tr>\n",
       "      <th>0</th>\n",
       "      <td>DC</td>\n",
       "      <td>4276</td>\n",
       "      <td>331</td>\n",
       "      <td>4607</td>\n",
       "      <td>7.184719</td>\n",
       "    </tr>\n",
       "    <tr>\n",
       "      <th>1</th>\n",
       "      <td>NP</td>\n",
       "      <td>5864</td>\n",
       "      <td>486</td>\n",
       "      <td>6350</td>\n",
       "      <td>7.653543</td>\n",
       "    </tr>\n",
       "    <tr>\n",
       "      <th>2</th>\n",
       "      <td>OTHER</td>\n",
       "      <td>1904</td>\n",
       "      <td>65</td>\n",
       "      <td>1969</td>\n",
       "      <td>3.301168</td>\n",
       "    </tr>\n",
       "    <tr>\n",
       "      <th>3</th>\n",
       "      <td>SO</td>\n",
       "      <td>8084</td>\n",
       "      <td>663</td>\n",
       "      <td>8747</td>\n",
       "      <td>7.579742</td>\n",
       "    </tr>\n",
       "  </tbody>\n",
       "</table>\n",
       "</div>"
      ],
      "text/plain": [
       "  employee_id  no_purchase  purchase  total  conversion_rate\n",
       "0          DC         4276       331   4607         7.184719\n",
       "1          NP         5864       486   6350         7.653543\n",
       "2       OTHER         1904        65   1969         3.301168\n",
       "3          SO         8084       663   8747         7.579742"
      ]
     },
     "execution_count": 330,
     "metadata": {},
     "output_type": "execute_result"
    }
   ],
   "source": [
    "xt_converted('employee_id', df_all)"
   ]
  },
  {
   "cell_type": "code",
   "execution_count": 331,
   "metadata": {
    "collapsed": false
   },
   "outputs": [
    {
     "data": {
      "text/plain": [
       "0.40838978420347005"
      ]
     },
     "execution_count": 331,
     "metadata": {},
     "output_type": "execute_result"
    }
   ],
   "source": [
    "proportion.proportions_chisquare([331, 663], [4607, 8747])[1]"
   ]
  },
  {
   "cell_type": "code",
   "execution_count": 285,
   "metadata": {
    "collapsed": false
   },
   "outputs": [
    {
     "data": {
      "text/plain": [
       "Index([u'quote_id', u'email', u'date_created', u'days_until_needed',\n",
       "       u'phone_provided', u'ship_state', u'install_subfloor', u'employee_id',\n",
       "       u'sq_ft', u'cust_price', u'retail_price', u'common_name', u'finish',\n",
       "       u'grade', u'milling', u'width', u'construction',\n",
       "       u'days_until_needed_bin', u'sq_ft_bin', u'converted', u'month', u'year',\n",
       "       u'mail_chimp', u'samples'],\n",
       "      dtype='object')"
      ]
     },
     "execution_count": 285,
     "metadata": {},
     "output_type": "execute_result"
    }
   ],
   "source": [
    "df_all.columns"
   ]
  },
  {
   "cell_type": "code",
   "execution_count": 340,
   "metadata": {
    "collapsed": false
   },
   "outputs": [
    {
     "data": {
      "text/html": [
       "<div>\n",
       "<table border=\"1\" class=\"dataframe\">\n",
       "  <thead>\n",
       "    <tr style=\"text-align: right;\">\n",
       "      <th></th>\n",
       "      <th>days_until_needed_bin</th>\n",
       "      <th>no_purchase</th>\n",
       "      <th>purchase</th>\n",
       "      <th>total</th>\n",
       "      <th>conversion_rate</th>\n",
       "    </tr>\n",
       "  </thead>\n",
       "  <tbody>\n",
       "    <tr>\n",
       "      <th>0</th>\n",
       "      <td>0-30</td>\n",
       "      <td>2647</td>\n",
       "      <td>155</td>\n",
       "      <td>2802</td>\n",
       "      <td>5.531763</td>\n",
       "    </tr>\n",
       "    <tr>\n",
       "      <th>1</th>\n",
       "      <td>31-60</td>\n",
       "      <td>3991</td>\n",
       "      <td>273</td>\n",
       "      <td>4264</td>\n",
       "      <td>6.402439</td>\n",
       "    </tr>\n",
       "    <tr>\n",
       "      <th>2</th>\n",
       "      <td>61-90</td>\n",
       "      <td>630</td>\n",
       "      <td>68</td>\n",
       "      <td>698</td>\n",
       "      <td>9.742120</td>\n",
       "    </tr>\n",
       "    <tr>\n",
       "      <th>3</th>\n",
       "      <td>91+</td>\n",
       "      <td>2764</td>\n",
       "      <td>173</td>\n",
       "      <td>2937</td>\n",
       "      <td>5.890364</td>\n",
       "    </tr>\n",
       "  </tbody>\n",
       "</table>\n",
       "</div>"
      ],
      "text/plain": [
       "  days_until_needed_bin  no_purchase  purchase  total  conversion_rate\n",
       "0                  0-30         2647       155   2802         5.531763\n",
       "1                 31-60         3991       273   4264         6.402439\n",
       "2                 61-90          630        68    698         9.742120\n",
       "3                   91+         2764       173   2937         5.890364"
      ]
     },
     "execution_count": 340,
     "metadata": {},
     "output_type": "execute_result"
    }
   ],
   "source": [
    "xt_converted('days_until_needed_bin', df_all)"
   ]
  },
  {
   "cell_type": "code",
   "execution_count": 341,
   "metadata": {
    "collapsed": false
   },
   "outputs": [
    {
     "data": {
      "text/plain": [
       "0.13338698334365676"
      ]
     },
     "execution_count": 341,
     "metadata": {},
     "output_type": "execute_result"
    }
   ],
   "source": [
    "proportion.proportions_chisquare([273, 155], [4264, 2802])[1]"
   ]
  },
  {
   "cell_type": "code",
   "execution_count": 342,
   "metadata": {
    "collapsed": false
   },
   "outputs": [
    {
     "data": {
      "text/plain": [
       "4.6020863272119286e-05"
      ]
     },
     "execution_count": 342,
     "metadata": {},
     "output_type": "execute_result"
    }
   ],
   "source": [
    "proportion.proportions_chisquare([68, 155],[698, 2802])[1]"
   ]
  },
  {
   "cell_type": "code",
   "execution_count": 357,
   "metadata": {
    "collapsed": true
   },
   "outputs": [],
   "source": [
    "# create grouping for states\n",
    "# http://www2.census.gov/geo/pdfs/maps-data/maps/reference/us_regdiv.pdf\n",
    "state_divisions = {}\n",
    "pacific = ['WA', 'OR', 'CA', 'AK', 'HI']\n",
    "mountain = ['MT', 'ID', 'WY', 'NV', 'UT', 'CO', 'AZ', 'NM']\n",
    "west_north_central = ['ND', 'SD', 'NE', 'KS', 'MN', 'IA', 'MO']\n",
    "west_south_central = ['TX', 'OK', 'AR', 'LA']\n",
    "east_north_central = ['WI', 'MI', 'IL', 'IN', 'OH']\n",
    "east_south_central = ['KY', 'TN', 'MS', 'AL']\n",
    "south_atlantic = ['FL', 'GA', 'SC', 'NC', 'VA', 'WV', 'MD', 'DE', 'DC']\n",
    "middle_atlantic = ['NY', 'PA', 'NJ']\n",
    "new_england = ['ME', 'VT', 'NH', 'MA', 'CT', 'RI']\n",
    "\n",
    "state_regions = {}\n",
    "west = pacific + mountain\n",
    "midwest = west_north_central + east_north_central\n",
    "south = west_south_central + east_south_central + south_atlantic\n",
    "northeast = middle_atlantic + new_england"
   ]
  },
  {
   "cell_type": "code",
   "execution_count": 358,
   "metadata": {
    "collapsed": true
   },
   "outputs": [],
   "source": [
    "def state_dict(the_dict, the_list, region):\n",
    "    for state in the_list:\n",
    "        the_dict[state] = region"
   ]
  },
  {
   "cell_type": "code",
   "execution_count": 359,
   "metadata": {
    "collapsed": false
   },
   "outputs": [],
   "source": [
    "# create divisions dict\n",
    "state_divisions = state_dict(state_divisions, pacific, 'pacific')\n",
    "state_divisions = state_dict(state_divisions, mountain, 'mountain')\n",
    "state_divisions = state_dict(state_divisions, west_north_central, 'west_north_central')\n",
    "state_divisions = state_dict(state_divisions, west_south_central, 'west_south_central')\n",
    "state_divisions = state_dict(state_divisions, east_north_central, 'east_north_central')\n",
    "state_divisions = state_dict(state_divisions, east_south_central, 'east_south_central')\n",
    "state_divisions = state_dict(state_divisions, south_atlantic, 'south_atlantic')\n",
    "state_divisions = state_dict(state_divisions, middle_atlantic, 'middle_atlantic')\n",
    "state_divisions = state_dict(state_divisions, new_england, 'new_england')\n",
    "\n",
    "# create regions dict\n",
    "state_regions = state_dict(state_regions, west, 'west')\n",
    "state_regions = state_dict(state_regions, midwest, 'midwest')\n",
    "state_regions = state_dict(state_regions, south, 'south')\n",
    "state_regions = state_dict(state_regions, northeast, 'northeast')"
   ]
  },
  {
   "cell_type": "code",
   "execution_count": 360,
   "metadata": {
    "collapsed": true
   },
   "outputs": [],
   "source": [
    "df_all['state_division'] = [state_divisions[x] if x in state_divisions else 'Other' for x in df_all['ship_state']]"
   ]
  },
  {
   "cell_type": "code",
   "execution_count": 361,
   "metadata": {
    "collapsed": false
   },
   "outputs": [],
   "source": [
    "df_all['state_region'] = [state_regions[x] if x in state_regions else 'Other' for x in df_all['ship_state']]"
   ]
  },
  {
   "cell_type": "code",
   "execution_count": 362,
   "metadata": {
    "collapsed": false
   },
   "outputs": [
    {
     "data": {
      "text/html": [
       "<div>\n",
       "<table border=\"1\" class=\"dataframe\">\n",
       "  <thead>\n",
       "    <tr style=\"text-align: right;\">\n",
       "      <th></th>\n",
       "      <th>state_region</th>\n",
       "      <th>no_purchase</th>\n",
       "      <th>purchase</th>\n",
       "      <th>total</th>\n",
       "      <th>conversion_rate</th>\n",
       "    </tr>\n",
       "  </thead>\n",
       "  <tbody>\n",
       "    <tr>\n",
       "      <th>0</th>\n",
       "      <td>Other</td>\n",
       "      <td>779</td>\n",
       "      <td>9</td>\n",
       "      <td>788</td>\n",
       "      <td>1.142132</td>\n",
       "    </tr>\n",
       "    <tr>\n",
       "      <th>1</th>\n",
       "      <td>midwest</td>\n",
       "      <td>3699</td>\n",
       "      <td>279</td>\n",
       "      <td>3978</td>\n",
       "      <td>7.013575</td>\n",
       "    </tr>\n",
       "    <tr>\n",
       "      <th>2</th>\n",
       "      <td>northeast</td>\n",
       "      <td>5528</td>\n",
       "      <td>555</td>\n",
       "      <td>6083</td>\n",
       "      <td>9.123788</td>\n",
       "    </tr>\n",
       "    <tr>\n",
       "      <th>3</th>\n",
       "      <td>south</td>\n",
       "      <td>5978</td>\n",
       "      <td>438</td>\n",
       "      <td>6416</td>\n",
       "      <td>6.826683</td>\n",
       "    </tr>\n",
       "    <tr>\n",
       "      <th>4</th>\n",
       "      <td>west</td>\n",
       "      <td>4144</td>\n",
       "      <td>264</td>\n",
       "      <td>4408</td>\n",
       "      <td>5.989111</td>\n",
       "    </tr>\n",
       "  </tbody>\n",
       "</table>\n",
       "</div>"
      ],
      "text/plain": [
       "  state_region  no_purchase  purchase  total  conversion_rate\n",
       "0        Other          779         9    788         1.142132\n",
       "1      midwest         3699       279   3978         7.013575\n",
       "2    northeast         5528       555   6083         9.123788\n",
       "3        south         5978       438   6416         6.826683\n",
       "4         west         4144       264   4408         5.989111"
      ]
     },
     "execution_count": 362,
     "metadata": {},
     "output_type": "execute_result"
    }
   ],
   "source": [
    "xt_converted('state_region', df_all)"
   ]
  },
  {
   "cell_type": "code",
   "execution_count": 363,
   "metadata": {
    "collapsed": false
   },
   "outputs": [
    {
     "data": {
      "text/plain": [
       "0.00017445202704928766"
      ]
     },
     "execution_count": 363,
     "metadata": {},
     "output_type": "execute_result"
    }
   ],
   "source": [
    "proportion.proportions_chisquare([555, 279], [6083, 3978])[1]"
   ]
  },
  {
   "cell_type": "code",
   "execution_count": 364,
   "metadata": {
    "collapsed": false
   },
   "outputs": [
    {
     "data": {
      "text/plain": [
       "2.0697630612539759e-06"
      ]
     },
     "execution_count": 364,
     "metadata": {},
     "output_type": "execute_result"
    }
   ],
   "source": [
    "proportion.proportions_chisquare([555, 438], [6083, 6416])[1]"
   ]
  },
  {
   "cell_type": "code",
   "execution_count": 365,
   "metadata": {
    "collapsed": false
   },
   "outputs": [
    {
     "data": {
      "text/plain": [
       "3.4799539322200921e-09"
      ]
     },
     "execution_count": 365,
     "metadata": {},
     "output_type": "execute_result"
    }
   ],
   "source": [
    "proportion.proportions_chisquare([555, 264], [6083, 4408])[1]"
   ]
  },
  {
   "cell_type": "code",
   "execution_count": 366,
   "metadata": {
    "collapsed": false
   },
   "outputs": [
    {
     "data": {
      "text/plain": [
       "Index([u'quote_id', u'email', u'date_created', u'days_until_needed',\n",
       "       u'phone_provided', u'ship_state', u'install_subfloor', u'employee_id',\n",
       "       u'sq_ft', u'cust_price', u'retail_price', u'common_name', u'finish',\n",
       "       u'grade', u'milling', u'width', u'construction',\n",
       "       u'days_until_needed_bin', u'sq_ft_bin', u'converted', u'month', u'year',\n",
       "       u'mail_chimp', u'samples', u'state_division', u'state_region'],\n",
       "      dtype='object')"
      ]
     },
     "execution_count": 366,
     "metadata": {},
     "output_type": "execute_result"
    }
   ],
   "source": [
    "df_all.columns"
   ]
  },
  {
   "cell_type": "code",
   "execution_count": 367,
   "metadata": {
    "collapsed": false
   },
   "outputs": [
    {
     "data": {
      "text/html": [
       "<div>\n",
       "<table border=\"1\" class=\"dataframe\">\n",
       "  <thead>\n",
       "    <tr style=\"text-align: right;\">\n",
       "      <th></th>\n",
       "      <th>phone_provided</th>\n",
       "      <th>no_purchase</th>\n",
       "      <th>purchase</th>\n",
       "      <th>total</th>\n",
       "      <th>conversion_rate</th>\n",
       "    </tr>\n",
       "  </thead>\n",
       "  <tbody>\n",
       "    <tr>\n",
       "      <th>0</th>\n",
       "      <td>0</td>\n",
       "      <td>12953</td>\n",
       "      <td>660</td>\n",
       "      <td>13613</td>\n",
       "      <td>4.848307</td>\n",
       "    </tr>\n",
       "    <tr>\n",
       "      <th>1</th>\n",
       "      <td>1</td>\n",
       "      <td>7175</td>\n",
       "      <td>885</td>\n",
       "      <td>8060</td>\n",
       "      <td>10.980149</td>\n",
       "    </tr>\n",
       "  </tbody>\n",
       "</table>\n",
       "</div>"
      ],
      "text/plain": [
       "   phone_provided  no_purchase  purchase  total  conversion_rate\n",
       "0               0        12953       660  13613         4.848307\n",
       "1               1         7175       885   8060        10.980149"
      ]
     },
     "execution_count": 367,
     "metadata": {},
     "output_type": "execute_result"
    }
   ],
   "source": [
    "xt_converted('phone_provided', df_all)"
   ]
  },
  {
   "cell_type": "code",
   "execution_count": 368,
   "metadata": {
    "collapsed": false
   },
   "outputs": [
    {
     "data": {
      "text/html": [
       "<div>\n",
       "<table border=\"1\" class=\"dataframe\">\n",
       "  <thead>\n",
       "    <tr style=\"text-align: right;\">\n",
       "      <th></th>\n",
       "      <th>grade</th>\n",
       "      <th>no_purchase</th>\n",
       "      <th>purchase</th>\n",
       "      <th>total</th>\n",
       "      <th>conversion_rate</th>\n",
       "    </tr>\n",
       "  </thead>\n",
       "  <tbody>\n",
       "    <tr>\n",
       "      <th>0</th>\n",
       "      <td>Clear</td>\n",
       "      <td>16655</td>\n",
       "      <td>1247</td>\n",
       "      <td>17902</td>\n",
       "      <td>6.965702</td>\n",
       "    </tr>\n",
       "    <tr>\n",
       "      <th>1</th>\n",
       "      <td>Missing</td>\n",
       "      <td>513</td>\n",
       "      <td>50</td>\n",
       "      <td>563</td>\n",
       "      <td>8.880995</td>\n",
       "    </tr>\n",
       "    <tr>\n",
       "      <th>2</th>\n",
       "      <td>Premium/A</td>\n",
       "      <td>1643</td>\n",
       "      <td>119</td>\n",
       "      <td>1762</td>\n",
       "      <td>6.753689</td>\n",
       "    </tr>\n",
       "    <tr>\n",
       "      <th>3</th>\n",
       "      <td>Select &amp; Better</td>\n",
       "      <td>1317</td>\n",
       "      <td>129</td>\n",
       "      <td>1446</td>\n",
       "      <td>8.921162</td>\n",
       "    </tr>\n",
       "  </tbody>\n",
       "</table>\n",
       "</div>"
      ],
      "text/plain": [
       "             grade  no_purchase  purchase  total  conversion_rate\n",
       "0            Clear        16655      1247  17902         6.965702\n",
       "1          Missing          513        50    563         8.880995\n",
       "2        Premium/A         1643       119   1762         6.753689\n",
       "3  Select & Better         1317       129   1446         8.921162"
      ]
     },
     "execution_count": 368,
     "metadata": {},
     "output_type": "execute_result"
    }
   ],
   "source": [
    "xt_converted('grade', df_all)"
   ]
  },
  {
   "cell_type": "code",
   "execution_count": 369,
   "metadata": {
    "collapsed": false
   },
   "outputs": [
    {
     "data": {
      "text/html": [
       "<div>\n",
       "<table border=\"1\" class=\"dataframe\">\n",
       "  <thead>\n",
       "    <tr style=\"text-align: right;\">\n",
       "      <th></th>\n",
       "      <th>state_division</th>\n",
       "      <th>no_purchase</th>\n",
       "      <th>purchase</th>\n",
       "      <th>total</th>\n",
       "      <th>conversion_rate</th>\n",
       "    </tr>\n",
       "  </thead>\n",
       "  <tbody>\n",
       "    <tr>\n",
       "      <th>0</th>\n",
       "      <td>Other</td>\n",
       "      <td>779</td>\n",
       "      <td>9</td>\n",
       "      <td>788</td>\n",
       "      <td>1.142132</td>\n",
       "    </tr>\n",
       "    <tr>\n",
       "      <th>1</th>\n",
       "      <td>east_north_central</td>\n",
       "      <td>2866</td>\n",
       "      <td>220</td>\n",
       "      <td>3086</td>\n",
       "      <td>7.128970</td>\n",
       "    </tr>\n",
       "    <tr>\n",
       "      <th>2</th>\n",
       "      <td>east_south_central</td>\n",
       "      <td>713</td>\n",
       "      <td>61</td>\n",
       "      <td>774</td>\n",
       "      <td>7.881137</td>\n",
       "    </tr>\n",
       "    <tr>\n",
       "      <th>3</th>\n",
       "      <td>middle_atlantic</td>\n",
       "      <td>4301</td>\n",
       "      <td>450</td>\n",
       "      <td>4751</td>\n",
       "      <td>9.471690</td>\n",
       "    </tr>\n",
       "    <tr>\n",
       "      <th>4</th>\n",
       "      <td>mountain</td>\n",
       "      <td>816</td>\n",
       "      <td>60</td>\n",
       "      <td>876</td>\n",
       "      <td>6.849315</td>\n",
       "    </tr>\n",
       "    <tr>\n",
       "      <th>5</th>\n",
       "      <td>new_england</td>\n",
       "      <td>1227</td>\n",
       "      <td>105</td>\n",
       "      <td>1332</td>\n",
       "      <td>7.882883</td>\n",
       "    </tr>\n",
       "    <tr>\n",
       "      <th>6</th>\n",
       "      <td>pacific</td>\n",
       "      <td>3328</td>\n",
       "      <td>204</td>\n",
       "      <td>3532</td>\n",
       "      <td>5.775764</td>\n",
       "    </tr>\n",
       "    <tr>\n",
       "      <th>7</th>\n",
       "      <td>south_atlantic</td>\n",
       "      <td>4198</td>\n",
       "      <td>322</td>\n",
       "      <td>4520</td>\n",
       "      <td>7.123894</td>\n",
       "    </tr>\n",
       "    <tr>\n",
       "      <th>8</th>\n",
       "      <td>west_north_central</td>\n",
       "      <td>833</td>\n",
       "      <td>59</td>\n",
       "      <td>892</td>\n",
       "      <td>6.614350</td>\n",
       "    </tr>\n",
       "    <tr>\n",
       "      <th>9</th>\n",
       "      <td>west_south_central</td>\n",
       "      <td>1067</td>\n",
       "      <td>55</td>\n",
       "      <td>1122</td>\n",
       "      <td>4.901961</td>\n",
       "    </tr>\n",
       "  </tbody>\n",
       "</table>\n",
       "</div>"
      ],
      "text/plain": [
       "       state_division  no_purchase  purchase  total  conversion_rate\n",
       "0               Other          779         9    788         1.142132\n",
       "1  east_north_central         2866       220   3086         7.128970\n",
       "2  east_south_central          713        61    774         7.881137\n",
       "3     middle_atlantic         4301       450   4751         9.471690\n",
       "4            mountain          816        60    876         6.849315\n",
       "5         new_england         1227       105   1332         7.882883\n",
       "6             pacific         3328       204   3532         5.775764\n",
       "7      south_atlantic         4198       322   4520         7.123894\n",
       "8  west_north_central          833        59    892         6.614350\n",
       "9  west_south_central         1067        55   1122         4.901961"
      ]
     },
     "execution_count": 369,
     "metadata": {},
     "output_type": "execute_result"
    }
   ],
   "source": [
    "xt_converted('state_division', df_all)"
   ]
  },
  {
   "cell_type": "code",
   "execution_count": 372,
   "metadata": {
    "collapsed": false
   },
   "outputs": [
    {
     "data": {
      "text/plain": [
       "0.00    35691\n",
       "5.00     1344\n",
       "7.00      929\n",
       "2.00      246\n",
       "8.00      242\n",
       "4.00      231\n",
       "6.00      219\n",
       "1.00      159\n",
       "9.00      130\n",
       "3.00      122\n",
       "5.25        1\n",
       "2.70        1\n",
       "7.80        1\n",
       "0.37        1\n",
       "2.56        1\n",
       "5.50        1\n",
       "9.80        1\n",
       "7.40        1\n",
       "Name: sq_ft, dtype: int64"
      ]
     },
     "execution_count": 372,
     "metadata": {},
     "output_type": "execute_result"
    }
   ],
   "source": [
    "pd.DataFrame({'sq_ft' : df['sq_ft'].values % 10})['sq_ft'].value_counts()"
   ]
  },
  {
   "cell_type": "code",
   "execution_count": 373,
   "metadata": {
    "collapsed": false
   },
   "outputs": [
    {
     "data": {
      "text/plain": [
       "(39321, 22)"
      ]
     },
     "execution_count": 373,
     "metadata": {},
     "output_type": "execute_result"
    }
   ],
   "source": [
    "df.shape"
   ]
  },
  {
   "cell_type": "code",
   "execution_count": 374,
   "metadata": {
    "collapsed": false
   },
   "outputs": [
    {
     "data": {
      "text/plain": [
       "(38392, 22)"
      ]
     },
     "execution_count": 374,
     "metadata": {},
     "output_type": "execute_result"
    }
   ],
   "source": [
    "df.loc[df['sq_ft']%10 != 7, :].shape"
   ]
  },
  {
   "cell_type": "code",
   "execution_count": null,
   "metadata": {
    "collapsed": true
   },
   "outputs": [],
   "source": []
  }
 ],
 "metadata": {
  "kernelspec": {
   "display_name": "Python 2",
   "language": "python",
   "name": "python2"
  },
  "language_info": {
   "codemirror_mode": {
    "name": "ipython",
    "version": 2
   },
   "file_extension": ".py",
   "mimetype": "text/x-python",
   "name": "python",
   "nbconvert_exporter": "python",
   "pygments_lexer": "ipython2",
   "version": "2.7.11"
  }
 },
 "nbformat": 4,
 "nbformat_minor": 0
}
