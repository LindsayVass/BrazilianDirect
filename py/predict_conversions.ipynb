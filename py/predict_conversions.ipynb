{
 "cells": [
  {
   "cell_type": "markdown",
   "metadata": {},
   "source": [
    "# Predict Conversions from Quotes\n",
    "\n",
    "**Goal**: Build a model to predict whether a quote will convert to a purchase.\n",
    "\n",
    "**Data Sources**\n",
    "* MySQL records of quote details and outcome\n",
    "* Paypal records of flooring samples purchases\n",
    "* Mailchimp subscriber list"
   ]
  },
  {
   "cell_type": "code",
   "execution_count": 10,
   "metadata": {
    "collapsed": true
   },
   "outputs": [],
   "source": [
    "import bd_mailchimp\n",
    "import bd_paypal\n",
    "import bd_mysql\n",
    "\n",
    "import pandas as pd\n",
    "import numpy as np"
   ]
  },
  {
   "cell_type": "markdown",
   "metadata": {},
   "source": [
    "## Load data"
   ]
  },
  {
   "cell_type": "code",
   "execution_count": 2,
   "metadata": {
    "collapsed": false
   },
   "outputs": [],
   "source": [
    "# Load mailchimp data\n",
    "csv_path = '/Users/lindsay/Documents/Data Science/BrazilianDirect/csv/mailchimp/members_export_21_march_2016.csv'\n",
    "mail, first_email = bd_mailchimp.process_mailchimp(csv_path)"
   ]
  },
  {
   "cell_type": "code",
   "execution_count": 6,
   "metadata": {
    "collapsed": false
   },
   "outputs": [],
   "source": [
    "# Load paypal data\n",
    "csv_dir = '/Users/lindsay/Documents/Data Science/BrazilianDirect/csv/paypal/'\n",
    "paypal, first_sample = bd_paypal.process_paypal(csv_dir)"
   ]
  },
  {
   "cell_type": "code",
   "execution_count": 11,
   "metadata": {
    "collapsed": true
   },
   "outputs": [],
   "source": [
    "# Load MySQL data\n",
    "config_path = '/Users/lindsay/Documents/Data Science/BrazilianDirect/cfg/mysql.cfg'\n",
    "con = bd_mysql.connect_bd_mysql(config_path)\n",
    "df = bd_mysql.download_quote_data(con)\n",
    "df = bd_mysql.pre_process_mysql(df)"
   ]
  },
  {
   "cell_type": "markdown",
   "metadata": {},
   "source": [
    "## Join data"
   ]
  },
  {
   "cell_type": "code",
   "execution_count": 14,
   "metadata": {
    "collapsed": true
   },
   "outputs": [],
   "source": [
    "# merge mysql & mail chimp\n",
    "df_all = pd.merge(df, mail, how='left', on='email')\n",
    "\n",
    "# add paypal\n",
    "df_all = pd.merge(df_all, paypal, how='left', on='email')"
   ]
  },
  {
   "cell_type": "code",
   "execution_count": 15,
   "metadata": {
    "collapsed": true
   },
   "outputs": [],
   "source": [
    "# Replace nan with 0\n",
    "df_all['mail_chimp'] = df_all['mail_chimp'].fillna(value=0)\n",
    "df_all['samples'] = df_all['samples'].fillna(value=0)"
   ]
  },
  {
   "cell_type": "markdown",
   "metadata": {},
   "source": [
    "## Filter out quotes before mail chimp & samples"
   ]
  },
  {
   "cell_type": "code",
   "execution_count": 16,
   "metadata": {
    "collapsed": false
   },
   "outputs": [
    {
     "data": {
      "text/plain": [
       "(20821, 26)"
      ]
     },
     "execution_count": 16,
     "metadata": {},
     "output_type": "execute_result"
    }
   ],
   "source": [
    "earliest_date = pd.datetime.date(max(first_email, first_sample))\n",
    "df_all = df_all.loc[df_all['date_created'] >= earliest_date, :]\n",
    "df_all.shape"
   ]
  },
  {
   "cell_type": "markdown",
   "metadata": {},
   "source": [
    "## Drop columns that won't be used for predictions\n",
    "\n",
    "* `quote_id`: unique identifier\n",
    "* `email`: nearly unique identifier (not many repeat customers)\n",
    "* `date_created`: too fine grained to use\n",
    "* `days_until_needed`: transformed into a binned variable\n",
    "* `ship_state`: transformed into a grouped variable for regions\n",
    "* `install_subfloor`: too many missing values\n",
    "* `sq_ft`: transformed into a binned variable\n",
    "* `milling`: milling is perfectly correlated with `finish` (unfinished = square edge, prefinished = micro bevel)\n",
    "* `year`: interested only in monthly seasonality\n",
    "* `state_division`: will use the regional divisions, which have fewer categories"
   ]
  },
  {
   "cell_type": "code",
   "execution_count": 18,
   "metadata": {
    "collapsed": true
   },
   "outputs": [],
   "source": [
    "drop_cols = ['quote_id',\n",
    "             'email',\n",
    "             'date_created',\n",
    "             'days_until_needed',\n",
    "             'ship_state',\n",
    "             'install_subfloor',\n",
    "             'sq_ft',\n",
    "             'milling',\n",
    "             'year',\n",
    "             'state_division']\n",
    "df_all = df_all.drop(drop_cols, axis=1)"
   ]
  },
  {
   "cell_type": "code",
   "execution_count": null,
   "metadata": {
    "collapsed": true
   },
   "outputs": [],
   "source": []
  }
 ],
 "metadata": {
  "kernelspec": {
   "display_name": "Python 2",
   "language": "python",
   "name": "python2"
  },
  "language_info": {
   "codemirror_mode": {
    "name": "ipython",
    "version": 2
   },
   "file_extension": ".py",
   "mimetype": "text/x-python",
   "name": "python",
   "nbconvert_exporter": "python",
   "pygments_lexer": "ipython2",
   "version": "2.7.11"
  }
 },
 "nbformat": 4,
 "nbformat_minor": 0
}
