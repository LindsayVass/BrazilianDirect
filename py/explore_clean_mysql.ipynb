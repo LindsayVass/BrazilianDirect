{
 "cells": [
  {
   "cell_type": "markdown",
   "metadata": {},
   "source": [
    "# Explore and Clean Brazilian Direct MySQL \n",
    "\n",
    "**Sources**: \n",
    "* MySQL database\n",
    "\n",
    "**Goal**: The ultimate goal is to determine the most important features that predict whether a quote will convert to a purchase. The goal in this notebook is to explore the features available in the MySQL data and clean them up. Since many columns are categorical data, and I will ultimately be performing classification analyses, I'm going to try to merge the more unusual values into an `Other` label.\n",
    "\n",
    "**MySQL Data Description**:\n",
    "* `quote_id`: unique identifier for each quote\n",
    "* `email`: email address associated with the quote\n",
    "* `quote_status`: str indicating the current or final status of a quote; quotes that ultimately converted all have 'Converted' as their quote status, whereas quotes that did not convert fall into one of many reasons (e.g., lower price elsewhere)\n",
    "* `date_created`: date the quote was created\n",
    "* `days_until_needed`: number of days between quote creation date and the date the customer reported needing the product\n",
    "* `urgency`: int indicating the urgency of the quote\n",
    "* `phone_provided`: int indicating whether customer provided a phone number\n",
    "* `ship_state`: state abbreviation (e.g., 'CA')\n",
    "* `install_subfloor`: str indicating type of subfloor customer will install over\n",
    "* `installation_needed`: int indicating whether customer requires installation\n",
    "* `employee_id`: str indicating the employee handling the quote (e.g., 'DC')\n",
    "* `sq_ft`: square footage requested in quote\n",
    "* `cust_price`: price quoted to customer\n",
    "* `retail_price`: retail price (determined by Dan?)\n",
    "* `common_name`: species name\n",
    "* `finish`: product finish (e.g., 'Prefinished')\n",
    "* `grade`: product grade (i.e., quality)\n",
    "* `milling`: product milling (e.g., 'Micro Bevel 4 Sides' ])\n",
    "* `thickness`: product thickness - this column is not clean and contains duplicates (e.g., 3/4, 3/4\")\n",
    "* `width`: product width - this column is not clean and may contain multiple values (e.g., \"3 or 3 1/4\")\n",
    "* `construction`: product construction (e.g., 'Solid') - there are multiple values that may want to merge (e.g., 'Solid' and 'Solid Long Lengths')\n",
    "* `samples_avail`: int indicating whether samples are available for this product\n",
    "* `accessories_avail`: int indicating whether accessories are available for this product\n",
    "* `product_line`: str indicating the product line\n",
    "* `product_line_category`: str, either 'HF' (hardwood floors), 'A' (accessories), 'V' (vents)"
   ]
  },
  {
   "cell_type": "code",
   "execution_count": 109,
   "metadata": {
    "collapsed": false
   },
   "outputs": [],
   "source": [
    "import MySQLdb\n",
    "import pandas as pd\n",
    "import numpy as np\n",
    "import pylab as plt\n",
    "import seaborn as sns\n",
    "import bd_mysql\n",
    "\n",
    "sns.set();\n",
    "%matplotlib inline"
   ]
  },
  {
   "cell_type": "markdown",
   "metadata": {},
   "source": [
    "## Download MySQL data"
   ]
  },
  {
   "cell_type": "code",
   "execution_count": 110,
   "metadata": {
    "collapsed": true
   },
   "outputs": [],
   "source": [
    "config_path = '/Users/lindsay/Documents/Data Science/BrazilianDirect/cfg/mysql.cfg'\n",
    "myDB = bd_mysql.connect_bd_mysql(config_path)"
   ]
  },
  {
   "cell_type": "code",
   "execution_count": 3,
   "metadata": {
    "collapsed": true
   },
   "outputs": [],
   "source": [
    "# Get quote data\n",
    "quote_query = \"\"\"\n",
    "SELECT  q.quote_id, \n",
    "        c.email,\n",
    "        sq.title AS quote_status,\n",
    "        q.date_created, \n",
    "        DATEDIFF(q.date_needed, q.date_created) AS days_until_needed,\n",
    "        q.urgency,\n",
    "        CASE WHEN c.phone_home <> \"\"\n",
    "             THEN 1\n",
    "             ELSE 0\n",
    "             END AS phone_provided,\n",
    "        q.ship_state,\n",
    "        q.install_subfloor,\n",
    "        q.installation_needed,\n",
    "        q.employee_id,\n",
    "        ql.sq_ft,\n",
    "        ql.cust_price,\n",
    "        p.retail_price,\n",
    "        s.common_name,\n",
    "        p.finish,\n",
    "        p.grade,\n",
    "        p.milling,\n",
    "        p.thickness,\n",
    "        p.width,\n",
    "        p.construction,\n",
    "        p.samples_avail,\n",
    "        p.accessories_avail, \n",
    "        pl.title AS product_line,\n",
    "        pl.category_id AS product_line_category\n",
    "FROM    brazdir_crm.quote q, \n",
    "        brazdir_crm.quote_line_item ql, \n",
    "        brazdir_crm.status_quote sq, \n",
    "        brazdir_crm.product p, \n",
    "        brazdir_crm.product_line pl,\n",
    "        brazdir_crm.species s,\n",
    "        brazdir_crm.contact c\n",
    "WHERE   q.quote_id = ql.quote_id\n",
    "AND     sq.status_quote_id = q.status_id\n",
    "AND     ql.product_id = p.product_id\n",
    "AND     p.product_line_id = pl.product_line_id\n",
    "AND     p.species_id = s.species_id\n",
    "AND     q.contact_id = c.contact_id\n",
    ";\n",
    "\"\"\"\n",
    "quote_query = quote_query.replace('\\n', ' ')"
   ]
  },
  {
   "cell_type": "code",
   "execution_count": 4,
   "metadata": {
    "collapsed": false
   },
   "outputs": [],
   "source": [
    "df = pd.read_sql(quote_query, myDB)"
   ]
  },
  {
   "cell_type": "code",
   "execution_count": 5,
   "metadata": {
    "collapsed": false
   },
   "outputs": [
    {
     "data": {
      "text/plain": [
       "(52372, 25)"
      ]
     },
     "execution_count": 5,
     "metadata": {},
     "output_type": "execute_result"
    }
   ],
   "source": [
    "df.shape"
   ]
  },
  {
   "cell_type": "markdown",
   "metadata": {},
   "source": [
    "## Clean MySQL data"
   ]
  },
  {
   "cell_type": "code",
   "execution_count": 6,
   "metadata": {
    "collapsed": false
   },
   "outputs": [
    {
     "data": {
      "text/html": [
       "<div>\n",
       "<table border=\"1\" class=\"dataframe\">\n",
       "  <thead>\n",
       "    <tr style=\"text-align: right;\">\n",
       "      <th></th>\n",
       "      <th>quote_id</th>\n",
       "      <th>email</th>\n",
       "      <th>quote_status</th>\n",
       "      <th>date_created</th>\n",
       "      <th>days_until_needed</th>\n",
       "      <th>urgency</th>\n",
       "      <th>phone_provided</th>\n",
       "      <th>ship_state</th>\n",
       "      <th>install_subfloor</th>\n",
       "      <th>installation_needed</th>\n",
       "      <th>...</th>\n",
       "      <th>finish</th>\n",
       "      <th>grade</th>\n",
       "      <th>milling</th>\n",
       "      <th>thickness</th>\n",
       "      <th>width</th>\n",
       "      <th>construction</th>\n",
       "      <th>samples_avail</th>\n",
       "      <th>accessories_avail</th>\n",
       "      <th>product_line</th>\n",
       "      <th>product_line_category</th>\n",
       "    </tr>\n",
       "  </thead>\n",
       "  <tbody>\n",
       "    <tr>\n",
       "      <th>0</th>\n",
       "      <td>081210150226</td>\n",
       "      <td>andy@modinds.com</td>\n",
       "      <td>Cancelled-Customer</td>\n",
       "      <td>2008-12-10 15:02:26</td>\n",
       "      <td>-338.0</td>\n",
       "      <td>2</td>\n",
       "      <td>1</td>\n",
       "      <td>AZ</td>\n",
       "      <td>Concrete</td>\n",
       "      <td>0</td>\n",
       "      <td>...</td>\n",
       "      <td>Prefinished</td>\n",
       "      <td>Clear</td>\n",
       "      <td>Micro Bevel 4 Sides</td>\n",
       "      <td>3/4</td>\n",
       "      <td>5</td>\n",
       "      <td>Solid</td>\n",
       "      <td>1</td>\n",
       "      <td>1</td>\n",
       "      <td>Classic Collection</td>\n",
       "      <td>HF</td>\n",
       "    </tr>\n",
       "    <tr>\n",
       "      <th>1</th>\n",
       "      <td>100524232259</td>\n",
       "      <td>scoulbourne@cs.com</td>\n",
       "      <td>Cancelled-NoResponse</td>\n",
       "      <td>2010-05-24 23:22:59</td>\n",
       "      <td>22.0</td>\n",
       "      <td>2</td>\n",
       "      <td>0</td>\n",
       "      <td>VA</td>\n",
       "      <td>Plywood</td>\n",
       "      <td>0</td>\n",
       "      <td>...</td>\n",
       "      <td>Prefinished</td>\n",
       "      <td>Clear</td>\n",
       "      <td>Micro Bevel 4 Sides</td>\n",
       "      <td>3/4</td>\n",
       "      <td>5</td>\n",
       "      <td>Solid</td>\n",
       "      <td>1</td>\n",
       "      <td>1</td>\n",
       "      <td>Classic Collection</td>\n",
       "      <td>HF</td>\n",
       "    </tr>\n",
       "    <tr>\n",
       "      <th>2</th>\n",
       "      <td>090921092443</td>\n",
       "      <td>tm1824@yahoo.com</td>\n",
       "      <td>Cancelled-Price</td>\n",
       "      <td>2009-09-21 09:24:43</td>\n",
       "      <td>0.0</td>\n",
       "      <td>2</td>\n",
       "      <td>0</td>\n",
       "      <td>NJ</td>\n",
       "      <td>Plywood</td>\n",
       "      <td>0</td>\n",
       "      <td>...</td>\n",
       "      <td>Prefinished</td>\n",
       "      <td>Clear</td>\n",
       "      <td>Micro Bevel 4 Sides</td>\n",
       "      <td>3/4</td>\n",
       "      <td>3</td>\n",
       "      <td>Solid</td>\n",
       "      <td>1</td>\n",
       "      <td>1</td>\n",
       "      <td>Classic Collection</td>\n",
       "      <td>HF</td>\n",
       "    </tr>\n",
       "    <tr>\n",
       "      <th>3</th>\n",
       "      <td>100105084629</td>\n",
       "      <td>tm1824@yahoo.com</td>\n",
       "      <td>Cancelled-Customer</td>\n",
       "      <td>2010-01-05 08:46:29</td>\n",
       "      <td>0.0</td>\n",
       "      <td>2</td>\n",
       "      <td>0</td>\n",
       "      <td>NJ</td>\n",
       "      <td>Plywood</td>\n",
       "      <td>0</td>\n",
       "      <td>...</td>\n",
       "      <td>Prefinished</td>\n",
       "      <td>Clear</td>\n",
       "      <td>Micro Bevel 4 Sides</td>\n",
       "      <td>3/4</td>\n",
       "      <td>4</td>\n",
       "      <td>Solid</td>\n",
       "      <td>1</td>\n",
       "      <td>1</td>\n",
       "      <td>Classic Collection</td>\n",
       "      <td>HF</td>\n",
       "    </tr>\n",
       "    <tr>\n",
       "      <th>4</th>\n",
       "      <td>070119035153</td>\n",
       "      <td>ybeckas@hotmail.com</td>\n",
       "      <td>Cancelled-Customer</td>\n",
       "      <td>2007-01-19 03:51:53</td>\n",
       "      <td>59.0</td>\n",
       "      <td>2</td>\n",
       "      <td>1</td>\n",
       "      <td>CA</td>\n",
       "      <td>Plywood</td>\n",
       "      <td>0</td>\n",
       "      <td>...</td>\n",
       "      <td>Prefinished</td>\n",
       "      <td>Clear</td>\n",
       "      <td>Micro Bevel 4 Sides</td>\n",
       "      <td>3/4</td>\n",
       "      <td>4 or 5</td>\n",
       "      <td>Solid</td>\n",
       "      <td>1</td>\n",
       "      <td>1</td>\n",
       "      <td>Classic Collection</td>\n",
       "      <td>HF</td>\n",
       "    </tr>\n",
       "  </tbody>\n",
       "</table>\n",
       "<p>5 rows × 25 columns</p>\n",
       "</div>"
      ],
      "text/plain": [
       "       quote_id                email          quote_status  \\\n",
       "0  081210150226     andy@modinds.com    Cancelled-Customer   \n",
       "1  100524232259   scoulbourne@cs.com  Cancelled-NoResponse   \n",
       "2  090921092443     tm1824@yahoo.com       Cancelled-Price   \n",
       "3  100105084629     tm1824@yahoo.com    Cancelled-Customer   \n",
       "4  070119035153  ybeckas@hotmail.com    Cancelled-Customer   \n",
       "\n",
       "         date_created  days_until_needed urgency  phone_provided ship_state  \\\n",
       "0 2008-12-10 15:02:26             -338.0       2               1         AZ   \n",
       "1 2010-05-24 23:22:59               22.0       2               0         VA   \n",
       "2 2009-09-21 09:24:43                0.0       2               0         NJ   \n",
       "3 2010-01-05 08:46:29                0.0       2               0         NJ   \n",
       "4 2007-01-19 03:51:53               59.0       2               1         CA   \n",
       "\n",
       "  install_subfloor  installation_needed          ...                finish  \\\n",
       "0         Concrete                    0          ...           Prefinished   \n",
       "1          Plywood                    0          ...           Prefinished   \n",
       "2          Plywood                    0          ...           Prefinished   \n",
       "3          Plywood                    0          ...           Prefinished   \n",
       "4          Plywood                    0          ...           Prefinished   \n",
       "\n",
       "   grade              milling  thickness   width construction samples_avail  \\\n",
       "0  Clear  Micro Bevel 4 Sides        3/4       5        Solid             1   \n",
       "1  Clear  Micro Bevel 4 Sides        3/4       5        Solid             1   \n",
       "2  Clear  Micro Bevel 4 Sides        3/4       3        Solid             1   \n",
       "3  Clear  Micro Bevel 4 Sides        3/4       4        Solid             1   \n",
       "4  Clear  Micro Bevel 4 Sides        3/4  4 or 5        Solid             1   \n",
       "\n",
       "  accessories_avail        product_line product_line_category  \n",
       "0                 1  Classic Collection                    HF  \n",
       "1                 1  Classic Collection                    HF  \n",
       "2                 1  Classic Collection                    HF  \n",
       "3                 1  Classic Collection                    HF  \n",
       "4                 1  Classic Collection                    HF  \n",
       "\n",
       "[5 rows x 25 columns]"
      ]
     },
     "execution_count": 6,
     "metadata": {},
     "output_type": "execute_result"
    }
   ],
   "source": [
    "df.head()"
   ]
  },
  {
   "cell_type": "markdown",
   "metadata": {},
   "source": [
    "### Fix data types"
   ]
  },
  {
   "cell_type": "code",
   "execution_count": 7,
   "metadata": {
    "collapsed": false
   },
   "outputs": [
    {
     "data": {
      "text/plain": [
       "quote_id                         object\n",
       "email                            object\n",
       "quote_status                     object\n",
       "date_created             datetime64[ns]\n",
       "days_until_needed               float64\n",
       "urgency                          object\n",
       "phone_provided                    int64\n",
       "ship_state                       object\n",
       "install_subfloor                 object\n",
       "installation_needed               int64\n",
       "employee_id                      object\n",
       "sq_ft                           float64\n",
       "cust_price                      float64\n",
       "retail_price                    float64\n",
       "common_name                      object\n",
       "finish                           object\n",
       "grade                            object\n",
       "milling                          object\n",
       "thickness                        object\n",
       "width                            object\n",
       "construction                     object\n",
       "samples_avail                     int64\n",
       "accessories_avail                 int64\n",
       "product_line                     object\n",
       "product_line_category            object\n",
       "dtype: object"
      ]
     },
     "execution_count": 7,
     "metadata": {},
     "output_type": "execute_result"
    }
   ],
   "source": [
    "df.dtypes"
   ]
  },
  {
   "cell_type": "code",
   "execution_count": 8,
   "metadata": {
    "collapsed": true
   },
   "outputs": [],
   "source": [
    "# Convert quote_id to int\n",
    "df['quote_id'] = df['quote_id'].astype(int)"
   ]
  },
  {
   "cell_type": "code",
   "execution_count": 9,
   "metadata": {
    "collapsed": false
   },
   "outputs": [],
   "source": [
    "# Convert urgency to float after replacing empty strings with np.nan\n",
    "df.loc[df['urgency'] == \"\", 'urgency'] = np.nan\n",
    "df['urgency'] = df['urgency'].astype(float)"
   ]
  },
  {
   "cell_type": "markdown",
   "metadata": {},
   "source": [
    "## Examine numerical variables"
   ]
  },
  {
   "cell_type": "code",
   "execution_count": 10,
   "metadata": {
    "collapsed": false
   },
   "outputs": [
    {
     "data": {
      "text/html": [
       "<div>\n",
       "<table border=\"1\" class=\"dataframe\">\n",
       "  <thead>\n",
       "    <tr style=\"text-align: right;\">\n",
       "      <th></th>\n",
       "      <th>quote_id</th>\n",
       "      <th>days_until_needed</th>\n",
       "      <th>urgency</th>\n",
       "      <th>phone_provided</th>\n",
       "      <th>installation_needed</th>\n",
       "      <th>sq_ft</th>\n",
       "      <th>cust_price</th>\n",
       "      <th>retail_price</th>\n",
       "      <th>samples_avail</th>\n",
       "      <th>accessories_avail</th>\n",
       "    </tr>\n",
       "  </thead>\n",
       "  <tbody>\n",
       "    <tr>\n",
       "      <th>count</th>\n",
       "      <td>5.237200e+04</td>\n",
       "      <td>52060.000000</td>\n",
       "      <td>52370.000000</td>\n",
       "      <td>52372.000000</td>\n",
       "      <td>52372.000000</td>\n",
       "      <td>52372.000000</td>\n",
       "      <td>50610.00000</td>\n",
       "      <td>52372.000000</td>\n",
       "      <td>52372.000000</td>\n",
       "      <td>52372.000000</td>\n",
       "    </tr>\n",
       "    <tr>\n",
       "      <th>mean</th>\n",
       "      <td>1.067064e+11</td>\n",
       "      <td>29.389301</td>\n",
       "      <td>2.103800</td>\n",
       "      <td>0.456198</td>\n",
       "      <td>0.007027</td>\n",
       "      <td>1352.650919</td>\n",
       "      <td>5.43334</td>\n",
       "      <td>7.872207</td>\n",
       "      <td>0.953315</td>\n",
       "      <td>0.968323</td>\n",
       "    </tr>\n",
       "    <tr>\n",
       "      <th>std</th>\n",
       "      <td>2.611091e+10</td>\n",
       "      <td>139.584560</td>\n",
       "      <td>0.312365</td>\n",
       "      <td>0.498082</td>\n",
       "      <td>0.083531</td>\n",
       "      <td>2123.795599</td>\n",
       "      <td>2.19922</td>\n",
       "      <td>1.386618</td>\n",
       "      <td>0.210966</td>\n",
       "      <td>0.175141</td>\n",
       "    </tr>\n",
       "    <tr>\n",
       "      <th>min</th>\n",
       "      <td>6.090609e+10</td>\n",
       "      <td>-2193.000000</td>\n",
       "      <td>1.000000</td>\n",
       "      <td>0.000000</td>\n",
       "      <td>0.000000</td>\n",
       "      <td>0.000000</td>\n",
       "      <td>0.00000</td>\n",
       "      <td>0.000000</td>\n",
       "      <td>0.000000</td>\n",
       "      <td>0.000000</td>\n",
       "    </tr>\n",
       "    <tr>\n",
       "      <th>25%</th>\n",
       "      <td>9.010312e+10</td>\n",
       "      <td>0.000000</td>\n",
       "      <td>2.000000</td>\n",
       "      <td>0.000000</td>\n",
       "      <td>0.000000</td>\n",
       "      <td>600.000000</td>\n",
       "      <td>4.89000</td>\n",
       "      <td>7.500000</td>\n",
       "      <td>1.000000</td>\n",
       "      <td>1.000000</td>\n",
       "    </tr>\n",
       "    <tr>\n",
       "      <th>50%</th>\n",
       "      <td>1.010242e+11</td>\n",
       "      <td>10.000000</td>\n",
       "      <td>2.000000</td>\n",
       "      <td>0.000000</td>\n",
       "      <td>0.000000</td>\n",
       "      <td>1000.000000</td>\n",
       "      <td>5.40000</td>\n",
       "      <td>8.500000</td>\n",
       "      <td>1.000000</td>\n",
       "      <td>1.000000</td>\n",
       "    </tr>\n",
       "    <tr>\n",
       "      <th>75%</th>\n",
       "      <td>1.302222e+11</td>\n",
       "      <td>31.000000</td>\n",
       "      <td>2.000000</td>\n",
       "      <td>1.000000</td>\n",
       "      <td>0.000000</td>\n",
       "      <td>1500.000000</td>\n",
       "      <td>5.87000</td>\n",
       "      <td>8.900000</td>\n",
       "      <td>1.000000</td>\n",
       "      <td>1.000000</td>\n",
       "    </tr>\n",
       "    <tr>\n",
       "      <th>max</th>\n",
       "      <td>1.603212e+11</td>\n",
       "      <td>4202.000000</td>\n",
       "      <td>3.000000</td>\n",
       "      <td>1.000000</td>\n",
       "      <td>1.000000</td>\n",
       "      <td>97058.000000</td>\n",
       "      <td>440.00000</td>\n",
       "      <td>16.990000</td>\n",
       "      <td>1.000000</td>\n",
       "      <td>1.000000</td>\n",
       "    </tr>\n",
       "  </tbody>\n",
       "</table>\n",
       "</div>"
      ],
      "text/plain": [
       "           quote_id  days_until_needed       urgency  phone_provided  \\\n",
       "count  5.237200e+04       52060.000000  52370.000000    52372.000000   \n",
       "mean   1.067064e+11          29.389301      2.103800        0.456198   \n",
       "std    2.611091e+10         139.584560      0.312365        0.498082   \n",
       "min    6.090609e+10       -2193.000000      1.000000        0.000000   \n",
       "25%    9.010312e+10           0.000000      2.000000        0.000000   \n",
       "50%    1.010242e+11          10.000000      2.000000        0.000000   \n",
       "75%    1.302222e+11          31.000000      2.000000        1.000000   \n",
       "max    1.603212e+11        4202.000000      3.000000        1.000000   \n",
       "\n",
       "       installation_needed         sq_ft   cust_price  retail_price  \\\n",
       "count         52372.000000  52372.000000  50610.00000  52372.000000   \n",
       "mean              0.007027   1352.650919      5.43334      7.872207   \n",
       "std               0.083531   2123.795599      2.19922      1.386618   \n",
       "min               0.000000      0.000000      0.00000      0.000000   \n",
       "25%               0.000000    600.000000      4.89000      7.500000   \n",
       "50%               0.000000   1000.000000      5.40000      8.500000   \n",
       "75%               0.000000   1500.000000      5.87000      8.900000   \n",
       "max               1.000000  97058.000000    440.00000     16.990000   \n",
       "\n",
       "       samples_avail  accessories_avail  \n",
       "count   52372.000000       52372.000000  \n",
       "mean        0.953315           0.968323  \n",
       "std         0.210966           0.175141  \n",
       "min         0.000000           0.000000  \n",
       "25%         1.000000           1.000000  \n",
       "50%         1.000000           1.000000  \n",
       "75%         1.000000           1.000000  \n",
       "max         1.000000           1.000000  "
      ]
     },
     "execution_count": 10,
     "metadata": {},
     "output_type": "execute_result"
    }
   ],
   "source": [
    "df.describe(include=['int', 'float'])"
   ]
  },
  {
   "cell_type": "markdown",
   "metadata": {},
   "source": [
    "**Conclusions**: \n",
    "* There are some missing values and incorrect values for days_until_needed (can't have negative) so these need to be fixed\n",
    "* There are very few non-zero values for `installation_needed`, so we can drop this variable\n",
    "* There are some zero values for `cust_price` so these need to be dealt with\n",
    "* There are also some very high values for `cust_price` -- these are likely either non-square footage prices or typos\n",
    "* The vast majority of values for `samples_avail` and `accessories_avail` are 1, so can drop this variable"
   ]
  },
  {
   "cell_type": "markdown",
   "metadata": {},
   "source": [
    "### Drop columns that have no variability"
   ]
  },
  {
   "cell_type": "code",
   "execution_count": 11,
   "metadata": {
    "collapsed": true
   },
   "outputs": [],
   "source": [
    "# Drop installation_needed, samples_avail, accessories_avail\n",
    "df = df.drop(['installation_needed', 'samples_avail', 'accessories_avail'], axis=1)"
   ]
  },
  {
   "cell_type": "code",
   "execution_count": 12,
   "metadata": {
    "collapsed": true
   },
   "outputs": [],
   "source": [
    "# Replace days_until_needed < 1 with np.nan\n",
    "df.loc[df['days_until_needed'] < 1, 'days_until_needed'] = np.nan"
   ]
  },
  {
   "cell_type": "markdown",
   "metadata": {},
   "source": [
    "Based on the histogram above, I'm going to bin `days_until_needed` into 0-30, 31-60, 61-90, >90."
   ]
  },
  {
   "cell_type": "markdown",
   "metadata": {},
   "source": [
    "### Create binned versions of variables\n",
    "* `days_until_needed`\n",
    "* `sq_ft`"
   ]
  },
  {
   "cell_type": "code",
   "execution_count": 14,
   "metadata": {
    "collapsed": false
   },
   "outputs": [
    {
     "data": {
      "image/png": "[encoded data removed]",
      "text/plain": [
       "<matplotlib.figure.Figure at 0x10ef44a90>"
      ]
     },
     "metadata": {},
     "output_type": "display_data"
    }
   ],
   "source": [
    "# Examine days_until_needed\n",
    "df['days_until_needed'].hist(bins = np.linspace(0, 360, 20));"
   ]
  },
  {
   "cell_type": "code",
   "execution_count": 15,
   "metadata": {
    "collapsed": false
   },
   "outputs": [],
   "source": [
    "# bin days_until needed\n",
    "bins = [0, 30, 60, 90, np.nanmax(df['days_until_needed'].values) + 1]\n",
    "labels = ['0-30', '31-60', '61-90', '91+']\n",
    "df['days_until_needed_bin'] = pd.cut(df['days_until_needed'], bins, labels=labels)"
   ]
  },
  {
   "cell_type": "code",
   "execution_count": 16,
   "metadata": {
    "collapsed": false
   },
   "outputs": [
    {
     "data": {
      "text/plain": [
       "NaN      23457\n",
       "0-30     12313\n",
       "31-60     8460\n",
       "91+       5569\n",
       "61-90     2573\n",
       "dtype: int64"
      ]
     },
     "execution_count": 16,
     "metadata": {},
     "output_type": "execute_result"
    }
   ],
   "source": [
    "df['days_until_needed_bin'].value_counts(dropna=False)"
   ]
  },
  {
   "cell_type": "code",
   "execution_count": 17,
   "metadata": {
    "collapsed": false
   },
   "outputs": [
    {
     "data": {
      "image/png": "[encoded data removed]",
      "text/plain": [
       "<matplotlib.figure.Figure at 0x10e8cf310>"
      ]
     },
     "metadata": {},
     "output_type": "display_data"
    }
   ],
   "source": [
    "# Examine sq_ft\n",
    "df['sq_ft'].hist(bins = np.linspace(0, 10000, 20));"
   ]
  },
  {
   "cell_type": "code",
   "execution_count": 18,
   "metadata": {
    "collapsed": false
   },
   "outputs": [],
   "source": [
    "# bin sq_ft\n",
    "bins = [0, 500, 1000, 1500, 2000, 5000, max(df['sq_ft'].values) + 1]\n",
    "labels = ['0-500', '501-1000', '1001-1500', '1501-2000', '2001-5000', '5001+']\n",
    "df['sq_ft_bin'] = pd.cut(df['sq_ft'], bins, labels=labels)"
   ]
  },
  {
   "cell_type": "code",
   "execution_count": 19,
   "metadata": {
    "collapsed": false
   },
   "outputs": [
    {
     "data": {
      "text/plain": [
       "501-1000     20101\n",
       "1001-1500    10636\n",
       "0-500         9059\n",
       "2001-5000     6092\n",
       "1501-2000     5776\n",
       "5001+          705\n",
       "NaN              3\n",
       "dtype: int64"
      ]
     },
     "execution_count": 19,
     "metadata": {},
     "output_type": "execute_result"
    }
   ],
   "source": [
    "df['sq_ft_bin'].value_counts(dropna=False)"
   ]
  },
  {
   "cell_type": "markdown",
   "metadata": {},
   "source": [
    "### Deal with outlier values for price"
   ]
  },
  {
   "cell_type": "code",
   "execution_count": 20,
   "metadata": {
    "collapsed": false
   },
   "outputs": [
    {
     "data": {
      "text/html": [
       "<div>\n",
       "<table border=\"1\" class=\"dataframe\">\n",
       "  <thead>\n",
       "    <tr style=\"text-align: right;\">\n",
       "      <th></th>\n",
       "      <th>cust_price</th>\n",
       "      <th>retail_price</th>\n",
       "      <th>grade</th>\n",
       "      <th>width</th>\n",
       "      <th>construction</th>\n",
       "    </tr>\n",
       "  </thead>\n",
       "  <tbody>\n",
       "    <tr>\n",
       "      <th>35681</th>\n",
       "      <td>440.0</td>\n",
       "      <td>5.99</td>\n",
       "      <td>Premium/A</td>\n",
       "      <td>4 3/4</td>\n",
       "      <td>Engineered</td>\n",
       "    </tr>\n",
       "    <tr>\n",
       "      <th>39754</th>\n",
       "      <td>99.0</td>\n",
       "      <td>8.50</td>\n",
       "      <td>Clear</td>\n",
       "      <td>3 1/4</td>\n",
       "      <td>Solid</td>\n",
       "    </tr>\n",
       "    <tr>\n",
       "      <th>48754</th>\n",
       "      <td>100.0</td>\n",
       "      <td>8.50</td>\n",
       "      <td>Select &amp; Better</td>\n",
       "      <td>3</td>\n",
       "      <td>Solid</td>\n",
       "    </tr>\n",
       "  </tbody>\n",
       "</table>\n",
       "</div>"
      ],
      "text/plain": [
       "       cust_price  retail_price            grade  width construction\n",
       "35681       440.0          5.99        Premium/A  4 3/4   Engineered\n",
       "39754        99.0          8.50            Clear  3 1/4        Solid\n",
       "48754       100.0          8.50  Select & Better      3        Solid"
      ]
     },
     "execution_count": 20,
     "metadata": {},
     "output_type": "execute_result"
    }
   ],
   "source": [
    "# Examine high values for 'cust_price'\n",
    "df[['cust_price', 'retail_price', 'grade', 'width', 'construction']][df['cust_price'] > 20]"
   ]
  },
  {
   "cell_type": "markdown",
   "metadata": {},
   "source": [
    "Looks like the super high values for `cust_price` were typos, so we'll set them to np.nan."
   ]
  },
  {
   "cell_type": "code",
   "execution_count": 21,
   "metadata": {
    "collapsed": false
   },
   "outputs": [],
   "source": [
    "# Replace zero values for customer price\n",
    "df.loc[df['cust_price'] == 0, 'cust_price'] = np.nan\n",
    "\n",
    "# Replace outlier values for customer price with np.nan\n",
    "df.loc[df['cust_price'] > 20, 'cust_price'] = np.nan"
   ]
  },
  {
   "cell_type": "code",
   "execution_count": 22,
   "metadata": {
    "collapsed": false
   },
   "outputs": [
    {
     "data": {
      "image/png": "[encoded data removed]",
      "text/plain": [
       "<matplotlib.figure.Figure at 0x10eb3c690>"
      ]
     },
     "metadata": {},
     "output_type": "display_data"
    }
   ],
   "source": [
    "# Examine retail price\n",
    "df['retail_price'].hist();"
   ]
  },
  {
   "cell_type": "code",
   "execution_count": 23,
   "metadata": {
    "collapsed": false
   },
   "outputs": [
    {
     "data": {
      "text/plain": [
       "8.50     14866\n",
       "8.95      7895\n",
       "8.90      5770\n",
       "6.50      4181\n",
       "7.50      3981\n",
       "7.80      3171\n",
       "5.99      2387\n",
       "7.70      1640\n",
       "7.75      1623\n",
       "5.50      1576\n",
       "7.25      1295\n",
       "9.50       889\n",
       "6.29       762\n",
       "0.00       727\n",
       "7.00       580\n",
       "6.00       543\n",
       "6.49       145\n",
       "10.95       96\n",
       "8.55        87\n",
       "8.99        54\n",
       "7.95        53\n",
       "7.65        38\n",
       "4.50        10\n",
       "13.99        2\n",
       "16.99        1\n",
       "Name: retail_price, dtype: int64"
      ]
     },
     "execution_count": 23,
     "metadata": {},
     "output_type": "execute_result"
    }
   ],
   "source": [
    "df['retail_price'].value_counts(dropna=False)"
   ]
  },
  {
   "cell_type": "code",
   "execution_count": 24,
   "metadata": {
    "collapsed": false
   },
   "outputs": [],
   "source": [
    "# Replace zero values for retail price\n",
    "df.loc[df['retail_price'] == 0, 'retail_price'] = np.nan"
   ]
  },
  {
   "cell_type": "markdown",
   "metadata": {},
   "source": [
    "## Examine categorical variables"
   ]
  },
  {
   "cell_type": "code",
   "execution_count": 25,
   "metadata": {
    "collapsed": false
   },
   "outputs": [
    {
     "data": {
      "text/html": [
       "<div>\n",
       "<table border=\"1\" class=\"dataframe\">\n",
       "  <thead>\n",
       "    <tr style=\"text-align: right;\">\n",
       "      <th></th>\n",
       "      <th>email</th>\n",
       "      <th>quote_status</th>\n",
       "      <th>date_created</th>\n",
       "      <th>ship_state</th>\n",
       "      <th>install_subfloor</th>\n",
       "      <th>employee_id</th>\n",
       "      <th>common_name</th>\n",
       "      <th>finish</th>\n",
       "      <th>grade</th>\n",
       "      <th>milling</th>\n",
       "      <th>thickness</th>\n",
       "      <th>width</th>\n",
       "      <th>construction</th>\n",
       "      <th>product_line</th>\n",
       "      <th>product_line_category</th>\n",
       "    </tr>\n",
       "  </thead>\n",
       "  <tbody>\n",
       "    <tr>\n",
       "      <th>count</th>\n",
       "      <td>52372</td>\n",
       "      <td>52372</td>\n",
       "      <td>52371</td>\n",
       "      <td>52372</td>\n",
       "      <td>30914</td>\n",
       "      <td>52372</td>\n",
       "      <td>52372</td>\n",
       "      <td>52368</td>\n",
       "      <td>52368</td>\n",
       "      <td>52311</td>\n",
       "      <td>52368</td>\n",
       "      <td>52368</td>\n",
       "      <td>52368</td>\n",
       "      <td>52372</td>\n",
       "      <td>52372</td>\n",
       "    </tr>\n",
       "    <tr>\n",
       "      <th>unique</th>\n",
       "      <td>39446</td>\n",
       "      <td>14</td>\n",
       "      <td>52226</td>\n",
       "      <td>64</td>\n",
       "      <td>4</td>\n",
       "      <td>19</td>\n",
       "      <td>23</td>\n",
       "      <td>4</td>\n",
       "      <td>6</td>\n",
       "      <td>3</td>\n",
       "      <td>11</td>\n",
       "      <td>20</td>\n",
       "      <td>5</td>\n",
       "      <td>5</td>\n",
       "      <td>1</td>\n",
       "    </tr>\n",
       "    <tr>\n",
       "      <th>top</th>\n",
       "      <td>tonyk731@hotpop.com</td>\n",
       "      <td>Cancelled-Customer</td>\n",
       "      <td>2013-11-20 00:06:24</td>\n",
       "      <td>CA</td>\n",
       "      <td>Plywood</td>\n",
       "      <td>SO</td>\n",
       "      <td>Brazilian Cherry</td>\n",
       "      <td>Prefinished</td>\n",
       "      <td>Clear</td>\n",
       "      <td>Micro Bevel 4 Sides</td>\n",
       "      <td>3/4</td>\n",
       "      <td>3 1/4</td>\n",
       "      <td>Solid</td>\n",
       "      <td>Classic Collection</td>\n",
       "      <td>HF</td>\n",
       "    </tr>\n",
       "    <tr>\n",
       "      <th>freq</th>\n",
       "      <td>41</td>\n",
       "      <td>33990</td>\n",
       "      <td>5</td>\n",
       "      <td>6042</td>\n",
       "      <td>22254</td>\n",
       "      <td>21478</td>\n",
       "      <td>22094</td>\n",
       "      <td>40719</td>\n",
       "      <td>45867</td>\n",
       "      <td>40738</td>\n",
       "      <td>48693</td>\n",
       "      <td>12720</td>\n",
       "      <td>48936</td>\n",
       "      <td>51955</td>\n",
       "      <td>52372</td>\n",
       "    </tr>\n",
       "    <tr>\n",
       "      <th>first</th>\n",
       "      <td>NaN</td>\n",
       "      <td>NaN</td>\n",
       "      <td>2006-09-06 07:37:32</td>\n",
       "      <td>NaN</td>\n",
       "      <td>NaN</td>\n",
       "      <td>NaN</td>\n",
       "      <td>NaN</td>\n",
       "      <td>NaN</td>\n",
       "      <td>NaN</td>\n",
       "      <td>NaN</td>\n",
       "      <td>NaN</td>\n",
       "      <td>NaN</td>\n",
       "      <td>NaN</td>\n",
       "      <td>NaN</td>\n",
       "      <td>NaN</td>\n",
       "    </tr>\n",
       "    <tr>\n",
       "      <th>last</th>\n",
       "      <td>NaN</td>\n",
       "      <td>NaN</td>\n",
       "      <td>2016-03-21 20:22:09</td>\n",
       "      <td>NaN</td>\n",
       "      <td>NaN</td>\n",
       "      <td>NaN</td>\n",
       "      <td>NaN</td>\n",
       "      <td>NaN</td>\n",
       "      <td>NaN</td>\n",
       "      <td>NaN</td>\n",
       "      <td>NaN</td>\n",
       "      <td>NaN</td>\n",
       "      <td>NaN</td>\n",
       "      <td>NaN</td>\n",
       "      <td>NaN</td>\n",
       "    </tr>\n",
       "  </tbody>\n",
       "</table>\n",
       "</div>"
      ],
      "text/plain": [
       "                      email        quote_status         date_created  \\\n",
       "count                 52372               52372                52371   \n",
       "unique                39446                  14                52226   \n",
       "top     tonyk731@hotpop.com  Cancelled-Customer  2013-11-20 00:06:24   \n",
       "freq                     41               33990                    5   \n",
       "first                   NaN                 NaN  2006-09-06 07:37:32   \n",
       "last                    NaN                 NaN  2016-03-21 20:22:09   \n",
       "\n",
       "       ship_state install_subfloor employee_id       common_name       finish  \\\n",
       "count       52372            30914       52372             52372        52368   \n",
       "unique         64                4          19                23            4   \n",
       "top            CA          Plywood          SO  Brazilian Cherry  Prefinished   \n",
       "freq         6042            22254       21478             22094        40719   \n",
       "first         NaN              NaN         NaN               NaN          NaN   \n",
       "last          NaN              NaN         NaN               NaN          NaN   \n",
       "\n",
       "        grade              milling thickness  width construction  \\\n",
       "count   52368                52311     52368  52368        52368   \n",
       "unique      6                    3        11     20            5   \n",
       "top     Clear  Micro Bevel 4 Sides       3/4  3 1/4        Solid   \n",
       "freq    45867                40738     48693  12720        48936   \n",
       "first     NaN                  NaN       NaN    NaN          NaN   \n",
       "last      NaN                  NaN       NaN    NaN          NaN   \n",
       "\n",
       "              product_line product_line_category  \n",
       "count                52372                 52372  \n",
       "unique                   5                     1  \n",
       "top     Classic Collection                    HF  \n",
       "freq                 51955                 52372  \n",
       "first                  NaN                   NaN  \n",
       "last                   NaN                   NaN  "
      ]
     },
     "execution_count": 25,
     "metadata": {},
     "output_type": "execute_result"
    }
   ],
   "source": [
    "df.describe(include=['object', 'datetime'])"
   ]
  },
  {
   "cell_type": "markdown",
   "metadata": {},
   "source": [
    "**Conclusions**:\n",
    "* Nearly all values for `product_line` and `product_line_category` are identical, so drop them\n",
    "* `date_created` is too precise for my needs (includes timestamp)\n",
    "* More than 50 values for `ship_state` -- what are the others?"
   ]
  },
  {
   "cell_type": "markdown",
   "metadata": {},
   "source": [
    "### Drop columns with no variability"
   ]
  },
  {
   "cell_type": "code",
   "execution_count": 26,
   "metadata": {
    "collapsed": true
   },
   "outputs": [],
   "source": [
    "# drop product_line and product_line_category\n",
    "df = df.drop(['product_line', 'product_line_category'], axis=1)"
   ]
  },
  {
   "cell_type": "markdown",
   "metadata": {},
   "source": [
    "### Create a column for whether quote converted"
   ]
  },
  {
   "cell_type": "code",
   "execution_count": 27,
   "metadata": {
    "collapsed": true
   },
   "outputs": [],
   "source": [
    "# Create a column for whether the quote converted\n",
    "df['converted'] = np.where(df['quote_status'] == 'Converted', 1, 0)"
   ]
  },
  {
   "cell_type": "code",
   "execution_count": 28,
   "metadata": {
    "collapsed": false
   },
   "outputs": [
    {
     "data": {
      "text/plain": [
       "0    49512\n",
       "1     2860\n",
       "Name: converted, dtype: int64"
      ]
     },
     "execution_count": 28,
     "metadata": {},
     "output_type": "execute_result"
    }
   ],
   "source": [
    "df['converted'].value_counts()"
   ]
  },
  {
   "cell_type": "markdown",
   "metadata": {},
   "source": [
    "### Examine reasons why quotes did not convert"
   ]
  },
  {
   "cell_type": "code",
   "execution_count": 29,
   "metadata": {
    "collapsed": false
   },
   "outputs": [
    {
     "data": {
      "text/plain": [
       "Cancelled-Customer           33990\n",
       "Cancelled-NoResponse         10653\n",
       "Converted                     2860\n",
       "Cancelled-Other               2447\n",
       "Active                        1972\n",
       "Cancelled-Sendgrid-Unsub       173\n",
       "Cancelled-Price                144\n",
       "Cancelled-OtherProduct          36\n",
       "Quoted                          33\n",
       "Cancelled-Sendgrid-Spam         28\n",
       "Cancelled-TooSmall              21\n",
       "Cancelled-NoInventory            9\n",
       "Cancelled-Sendgrid-Bounce        5\n",
       "Unanswered                       1\n",
       "Name: quote_status, dtype: int64"
      ]
     },
     "execution_count": 29,
     "metadata": {},
     "output_type": "execute_result"
    }
   ],
   "source": [
    "df['quote_status'].value_counts(dropna=False)"
   ]
  },
  {
   "cell_type": "markdown",
   "metadata": {},
   "source": [
    "We don't really have any useful data here, just cancelled by customer either actively (`Cancelled-Customer`) or passively (`Cancelled-NoResponse`), so drop this column."
   ]
  },
  {
   "cell_type": "code",
   "execution_count": 30,
   "metadata": {
    "collapsed": true
   },
   "outputs": [],
   "source": [
    "# drop quote_status\n",
    "df = df.drop('quote_status', axis=1)"
   ]
  },
  {
   "cell_type": "markdown",
   "metadata": {},
   "source": [
    "### Create date grouping variables"
   ]
  },
  {
   "cell_type": "code",
   "execution_count": 31,
   "metadata": {
    "collapsed": true
   },
   "outputs": [],
   "source": [
    "# Drop timestamp from date_created\n",
    "df['date_created'] = [x.date() for x in df['date_created']]"
   ]
  },
  {
   "cell_type": "code",
   "execution_count": 32,
   "metadata": {
    "collapsed": true
   },
   "outputs": [],
   "source": [
    "# Create columns for month and year\n",
    "df['month'] = [x.month for x in df['date_created']]\n",
    "df['year'] = [x.year for x in df['date_created']]"
   ]
  },
  {
   "cell_type": "markdown",
   "metadata": {},
   "source": [
    "### Examine conversions by year"
   ]
  },
  {
   "cell_type": "code",
   "execution_count": 33,
   "metadata": {
    "collapsed": false
   },
   "outputs": [
    {
     "data": {
      "text/html": [
       "<div>\n",
       "<table border=\"1\" class=\"dataframe\">\n",
       "  <thead>\n",
       "    <tr style=\"text-align: right;\">\n",
       "      <th>converted</th>\n",
       "      <th>0</th>\n",
       "      <th>1</th>\n",
       "    </tr>\n",
       "    <tr>\n",
       "      <th>year</th>\n",
       "      <th></th>\n",
       "      <th></th>\n",
       "    </tr>\n",
       "  </thead>\n",
       "  <tbody>\n",
       "    <tr>\n",
       "      <th>2006.0</th>\n",
       "      <td>1434</td>\n",
       "      <td>1</td>\n",
       "    </tr>\n",
       "    <tr>\n",
       "      <th>2007.0</th>\n",
       "      <td>5190</td>\n",
       "      <td>8</td>\n",
       "    </tr>\n",
       "    <tr>\n",
       "      <th>2008.0</th>\n",
       "      <td>6262</td>\n",
       "      <td>165</td>\n",
       "    </tr>\n",
       "    <tr>\n",
       "      <th>2009.0</th>\n",
       "      <td>7016</td>\n",
       "      <td>451</td>\n",
       "    </tr>\n",
       "    <tr>\n",
       "      <th>2010.0</th>\n",
       "      <td>6362</td>\n",
       "      <td>474</td>\n",
       "    </tr>\n",
       "    <tr>\n",
       "      <th>2011.0</th>\n",
       "      <td>5746</td>\n",
       "      <td>378</td>\n",
       "    </tr>\n",
       "    <tr>\n",
       "      <th>2012.0</th>\n",
       "      <td>4687</td>\n",
       "      <td>356</td>\n",
       "    </tr>\n",
       "    <tr>\n",
       "      <th>2013.0</th>\n",
       "      <td>3938</td>\n",
       "      <td>365</td>\n",
       "    </tr>\n",
       "    <tr>\n",
       "      <th>2014.0</th>\n",
       "      <td>3930</td>\n",
       "      <td>368</td>\n",
       "    </tr>\n",
       "    <tr>\n",
       "      <th>2015.0</th>\n",
       "      <td>4110</td>\n",
       "      <td>251</td>\n",
       "    </tr>\n",
       "    <tr>\n",
       "      <th>2016.0</th>\n",
       "      <td>837</td>\n",
       "      <td>42</td>\n",
       "    </tr>\n",
       "  </tbody>\n",
       "</table>\n",
       "</div>"
      ],
      "text/plain": [
       "converted     0    1\n",
       "year                \n",
       "2006.0     1434    1\n",
       "2007.0     5190    8\n",
       "2008.0     6262  165\n",
       "2009.0     7016  451\n",
       "2010.0     6362  474\n",
       "2011.0     5746  378\n",
       "2012.0     4687  356\n",
       "2013.0     3938  365\n",
       "2014.0     3930  368\n",
       "2015.0     4110  251\n",
       "2016.0      837   42"
      ]
     },
     "execution_count": 33,
     "metadata": {},
     "output_type": "execute_result"
    }
   ],
   "source": [
    "pd.crosstab(df['year'], df['converted'])"
   ]
  },
  {
   "cell_type": "markdown",
   "metadata": {},
   "source": [
    "**Conclusions**: It looks like maybe the database wasn't correctly storing the conversion data for the earliest years since 2007 has 5190 quotes but only 8 conversions. I suspect this must have been corrected by 2009 because the conversions come up to a more expected level.\n",
    "\n",
    "Since I don't seem to have reliable data for the early years, I'll exclude quotes prior to 2009.\n",
    "\n",
    "There's also a surprising drop in conversions for 2015. Even though quotes were overall higher than the previous year, conversions were much lower."
   ]
  },
  {
   "cell_type": "code",
   "execution_count": 34,
   "metadata": {
    "collapsed": true
   },
   "outputs": [],
   "source": [
    "# Filter out quotes pre-2009\n",
    "df = df[df['year'] >= 2009]"
   ]
  },
  {
   "cell_type": "code",
   "execution_count": 35,
   "metadata": {
    "collapsed": false
   },
   "outputs": [
    {
     "data": {
      "text/plain": [
       "(39311, 24)"
      ]
     },
     "execution_count": 35,
     "metadata": {},
     "output_type": "execute_result"
    }
   ],
   "source": [
    "df.shape"
   ]
  },
  {
   "cell_type": "markdown",
   "metadata": {},
   "source": [
    "### Examine quotes by month"
   ]
  },
  {
   "cell_type": "code",
   "execution_count": 36,
   "metadata": {
    "collapsed": false
   },
   "outputs": [
    {
     "data": {
      "image/png": "[encoded data removed]",
      "text/plain": [
       "<matplotlib.figure.Figure at 0x112167910>"
      ]
     },
     "metadata": {},
     "output_type": "display_data"
    }
   ],
   "source": [
    "# Plot quotes by month\n",
    "xt = pd.crosstab(df['month'], df['converted']).reset_index()\n",
    "xt.plot.bar('month', 0);\n",
    "plt.ylabel('Number of quotes');\n",
    "plt.ylim([0,4000]);"
   ]
  },
  {
   "cell_type": "markdown",
   "metadata": {},
   "source": [
    "**Conclusions**: Quotes are highest during the first and third quarters. "
   ]
  },
  {
   "cell_type": "markdown",
   "metadata": {},
   "source": [
    "### Examine conversions by month"
   ]
  },
  {
   "cell_type": "code",
   "execution_count": 37,
   "metadata": {
    "collapsed": false
   },
   "outputs": [
    {
     "data": {
      "image/png": "[encoded data removed]",
      "text/plain": [
       "<matplotlib.figure.Figure at 0x10fbc9750>"
      ]
     },
     "metadata": {},
     "output_type": "display_data"
    }
   ],
   "source": [
    "# Plot conversions by month\n",
    "xt = pd.crosstab(df['month'], df['converted']).reset_index()\n",
    "xt.plot.bar('month', 1);\n",
    "plt.ylabel('Number of conversions');\n",
    "plt.ylim([0,300]);"
   ]
  },
  {
   "cell_type": "markdown",
   "metadata": {},
   "source": [
    "**Conclusions**: Conversions are highest during the first quarter and lowest during the second quarter."
   ]
  },
  {
   "cell_type": "markdown",
   "metadata": {},
   "source": [
    "### Handle messy labels"
   ]
  },
  {
   "cell_type": "markdown",
   "metadata": {},
   "source": [
    "#### ship_state\n",
    "Why are there more than 50 states?"
   ]
  },
  {
   "cell_type": "code",
   "execution_count": 39,
   "metadata": {
    "collapsed": false
   },
   "outputs": [
    {
     "data": {
      "text/plain": [
       "CA    4557\n",
       "NY    2990\n",
       "NJ    2809\n",
       "PA    2445\n",
       "FL    2019\n",
       "IL    1916\n",
       "VA    1705\n",
       "TX    1519\n",
       "MI    1374\n",
       "MD    1330\n",
       "MA    1247\n",
       "OH    1245\n",
       "WA    1200\n",
       "NC    1149\n",
       "GA     888\n",
       "       778\n",
       "CO     743\n",
       "TN     695\n",
       "IN     691\n",
       "MO     649\n",
       "SC     599\n",
       "MN     564\n",
       "CT     536\n",
       "WI     482\n",
       "OR     424\n",
       "KY     413\n",
       "LA     384\n",
       "AL     344\n",
       "AZ     291\n",
       "NH     253\n",
       "      ... \n",
       "RI     202\n",
       "NV     182\n",
       "ME     172\n",
       "KS     171\n",
       "HI     160\n",
       "VT     114\n",
       "OK     102\n",
       "MS     100\n",
       "AK      98\n",
       "AR      95\n",
       "ID      90\n",
       "DC      89\n",
       "MT      87\n",
       "ND      82\n",
       "NE      80\n",
       "NM      66\n",
       "ON      63\n",
       "WY      59\n",
       "SD      54\n",
       "AB      45\n",
       "QC      31\n",
       "BC      29\n",
       "NB       6\n",
       "SK       6\n",
       "MB       4\n",
       "NS       3\n",
       "--       2\n",
       "NL       1\n",
       "md       1\n",
       "NT       1\n",
       "Name: ship_state, dtype: int64"
      ]
     },
     "execution_count": 39,
     "metadata": {},
     "output_type": "execute_result"
    }
   ],
   "source": [
    "df['ship_state'].value_counts()"
   ]
  },
  {
   "cell_type": "markdown",
   "metadata": {},
   "source": [
    "Looks like there are some Canadian provinces as well as some missing values."
   ]
  },
  {
   "cell_type": "code",
   "execution_count": 40,
   "metadata": {
    "collapsed": true
   },
   "outputs": [],
   "source": [
    "# Change md to MD\n",
    "df.loc[df['ship_state'] == 'md', 'ship_state'] = 'MD'\n",
    "\n",
    "# Replace -- and '' with MISSING\n",
    "df.loc[df['ship_state'] == '', 'ship_state'] = 'MISSING'\n",
    "df.loc[df['ship_state'] == '--', 'ship_state'] = 'MISSING'"
   ]
  },
  {
   "cell_type": "markdown",
   "metadata": {},
   "source": [
    "#### install_subfloor"
   ]
  },
  {
   "cell_type": "code",
   "execution_count": 42,
   "metadata": {
    "collapsed": false
   },
   "outputs": [
    {
     "data": {
      "text/plain": [
       "Plywood     12789\n",
       "Concrete     3748\n",
       "Other         995\n",
       "              322\n",
       "Name: install_subfloor, dtype: int64"
      ]
     },
     "execution_count": 42,
     "metadata": {},
     "output_type": "execute_result"
    }
   ],
   "source": [
    "# Examine values for install_subfloor\n",
    "df['install_subfloor'].value_counts()"
   ]
  },
  {
   "cell_type": "code",
   "execution_count": 43,
   "metadata": {
    "collapsed": true
   },
   "outputs": [],
   "source": [
    "# Merge missing values with other\n",
    "df.loc[df['install_subfloor'] == '', 'install_subfloor'] = 'Other'"
   ]
  },
  {
   "cell_type": "markdown",
   "metadata": {},
   "source": [
    "#### employee_id"
   ]
  },
  {
   "cell_type": "code",
   "execution_count": 46,
   "metadata": {
    "collapsed": false
   },
   "outputs": [
    {
     "data": {
      "text/plain": [
       "SO     15604\n",
       "NP     12326\n",
       "DC      7589\n",
       "        1204\n",
       "SF      1120\n",
       "TW       795\n",
       "JO       362\n",
       "BV       157\n",
       "EDL       84\n",
       "JP        52\n",
       "MS        12\n",
       "TC         2\n",
       "RC         1\n",
       "JV         1\n",
       "LM         1\n",
       "SB         1\n",
       "Name: employee_id, dtype: int64"
      ]
     },
     "execution_count": 46,
     "metadata": {},
     "output_type": "execute_result"
    }
   ],
   "source": [
    "df['employee_id'].value_counts()"
   ]
  },
  {
   "cell_type": "markdown",
   "metadata": {},
   "source": [
    "The vast majority of quotes are handled by `SO`, `NP`, and `DC`. `NP` no longer works with the company, but it is still worth modeling since it makes sure a large proportion of the historical data. I'll merge all the remaining values into `OTHER`."
   ]
  },
  {
   "cell_type": "code",
   "execution_count": 48,
   "metadata": {
    "collapsed": false
   },
   "outputs": [],
   "source": [
    "# Merge values into OTHER\n",
    "df.loc[~df['employee_id'].isin(['SO', 'NP', 'DC']), 'employee_id'] = 'OTHER'"
   ]
  },
  {
   "cell_type": "code",
   "execution_count": 49,
   "metadata": {
    "collapsed": false
   },
   "outputs": [
    {
     "data": {
      "text/plain": [
       "SO       15604\n",
       "NP       12326\n",
       "DC        7589\n",
       "OTHER     3792\n",
       "Name: employee_id, dtype: int64"
      ]
     },
     "execution_count": 49,
     "metadata": {},
     "output_type": "execute_result"
    }
   ],
   "source": [
    "df['employee_id'].value_counts()"
   ]
  },
  {
   "cell_type": "markdown",
   "metadata": {},
   "source": [
    "#### common_name"
   ]
  },
  {
   "cell_type": "code",
   "execution_count": 56,
   "metadata": {
    "collapsed": false
   },
   "outputs": [
    {
     "data": {
      "text/html": [
       "<div>\n",
       "<table border=\"1\" class=\"dataframe\">\n",
       "  <thead>\n",
       "    <tr style=\"text-align: right;\">\n",
       "      <th>converted</th>\n",
       "      <th>common_name</th>\n",
       "      <th>0</th>\n",
       "      <th>1</th>\n",
       "    </tr>\n",
       "  </thead>\n",
       "  <tbody>\n",
       "    <tr>\n",
       "      <th>0</th>\n",
       "      <td>African Mahogany</td>\n",
       "      <td>1</td>\n",
       "      <td>0</td>\n",
       "    </tr>\n",
       "    <tr>\n",
       "      <th>1</th>\n",
       "      <td>Amendoim</td>\n",
       "      <td>1351</td>\n",
       "      <td>124</td>\n",
       "    </tr>\n",
       "    <tr>\n",
       "      <th>2</th>\n",
       "      <td>American Walnut</td>\n",
       "      <td>1</td>\n",
       "      <td>0</td>\n",
       "    </tr>\n",
       "    <tr>\n",
       "      <th>3</th>\n",
       "      <td>Brazilian Cherry</td>\n",
       "      <td>15360</td>\n",
       "      <td>984</td>\n",
       "    </tr>\n",
       "    <tr>\n",
       "      <th>4</th>\n",
       "      <td>Brazilian Teak</td>\n",
       "      <td>4799</td>\n",
       "      <td>445</td>\n",
       "    </tr>\n",
       "    <tr>\n",
       "      <th>5</th>\n",
       "      <td>Brazilian Walnut</td>\n",
       "      <td>4461</td>\n",
       "      <td>280</td>\n",
       "    </tr>\n",
       "    <tr>\n",
       "      <th>6</th>\n",
       "      <td>Caribbean Heart Pine</td>\n",
       "      <td>48</td>\n",
       "      <td>4</td>\n",
       "    </tr>\n",
       "    <tr>\n",
       "      <th>7</th>\n",
       "      <td>Guajara</td>\n",
       "      <td>157</td>\n",
       "      <td>6</td>\n",
       "    </tr>\n",
       "    <tr>\n",
       "      <th>8</th>\n",
       "      <td>Hard Maple</td>\n",
       "      <td>1</td>\n",
       "      <td>0</td>\n",
       "    </tr>\n",
       "    <tr>\n",
       "      <th>9</th>\n",
       "      <td>Hickory</td>\n",
       "      <td>3</td>\n",
       "      <td>0</td>\n",
       "    </tr>\n",
       "    <tr>\n",
       "      <th>10</th>\n",
       "      <td>Kempas</td>\n",
       "      <td>115</td>\n",
       "      <td>9</td>\n",
       "    </tr>\n",
       "    <tr>\n",
       "      <th>11</th>\n",
       "      <td>Other</td>\n",
       "      <td>10</td>\n",
       "      <td>0</td>\n",
       "    </tr>\n",
       "    <tr>\n",
       "      <th>12</th>\n",
       "      <td>Patagonian Rosewood</td>\n",
       "      <td>820</td>\n",
       "      <td>71</td>\n",
       "    </tr>\n",
       "    <tr>\n",
       "      <th>13</th>\n",
       "      <td>Red Oak</td>\n",
       "      <td>2</td>\n",
       "      <td>0</td>\n",
       "    </tr>\n",
       "    <tr>\n",
       "      <th>14</th>\n",
       "      <td>River Raisin Cherry</td>\n",
       "      <td>1</td>\n",
       "      <td>0</td>\n",
       "    </tr>\n",
       "    <tr>\n",
       "      <th>15</th>\n",
       "      <td>Santos Mahogany</td>\n",
       "      <td>4048</td>\n",
       "      <td>350</td>\n",
       "    </tr>\n",
       "    <tr>\n",
       "      <th>16</th>\n",
       "      <td>Sapele</td>\n",
       "      <td>84</td>\n",
       "      <td>2</td>\n",
       "    </tr>\n",
       "    <tr>\n",
       "      <th>17</th>\n",
       "      <td>Southern Chestnut</td>\n",
       "      <td>2</td>\n",
       "      <td>0</td>\n",
       "    </tr>\n",
       "    <tr>\n",
       "      <th>18</th>\n",
       "      <td>Tiete Chestnut</td>\n",
       "      <td>480</td>\n",
       "      <td>29</td>\n",
       "    </tr>\n",
       "    <tr>\n",
       "      <th>19</th>\n",
       "      <td>Tiete Rosewood</td>\n",
       "      <td>1226</td>\n",
       "      <td>137</td>\n",
       "    </tr>\n",
       "    <tr>\n",
       "      <th>20</th>\n",
       "      <td>Tigerwood</td>\n",
       "      <td>3621</td>\n",
       "      <td>243</td>\n",
       "    </tr>\n",
       "    <tr>\n",
       "      <th>21</th>\n",
       "      <td>Wenge</td>\n",
       "      <td>26</td>\n",
       "      <td>1</td>\n",
       "    </tr>\n",
       "    <tr>\n",
       "      <th>22</th>\n",
       "      <td>White Oak</td>\n",
       "      <td>9</td>\n",
       "      <td>0</td>\n",
       "    </tr>\n",
       "  </tbody>\n",
       "</table>\n",
       "</div>"
      ],
      "text/plain": [
       "converted           common_name      0    1\n",
       "0              African Mahogany      1    0\n",
       "1                      Amendoim   1351  124\n",
       "2               American Walnut      1    0\n",
       "3              Brazilian Cherry  15360  984\n",
       "4                Brazilian Teak   4799  445\n",
       "5              Brazilian Walnut   4461  280\n",
       "6          Caribbean Heart Pine     48    4\n",
       "7                       Guajara    157    6\n",
       "8                    Hard Maple      1    0\n",
       "9                       Hickory      3    0\n",
       "10                       Kempas    115    9\n",
       "11                        Other     10    0\n",
       "12          Patagonian Rosewood    820   71\n",
       "13                      Red Oak      2    0\n",
       "14          River Raisin Cherry      1    0\n",
       "15              Santos Mahogany   4048  350\n",
       "16                       Sapele     84    2\n",
       "17            Southern Chestnut      2    0\n",
       "18               Tiete Chestnut    480   29\n",
       "19               Tiete Rosewood   1226  137\n",
       "20                    Tigerwood   3621  243\n",
       "21                        Wenge     26    1\n",
       "22                    White Oak      9    0"
      ]
     },
     "execution_count": 56,
     "metadata": {},
     "output_type": "execute_result"
    }
   ],
   "source": [
    "# Crosstabulate species by converted\n",
    "xt_species = pd.crosstab(df['common_name'], df['converted']).reset_index()\n",
    "xt_species"
   ]
  },
  {
   "cell_type": "markdown",
   "metadata": {},
   "source": [
    "**Conclusions**: Most of the species have very few conversions. I'll group all the ones with < 50 conversions into the `Other` category."
   ]
  },
  {
   "cell_type": "code",
   "execution_count": 60,
   "metadata": {
    "collapsed": false
   },
   "outputs": [],
   "source": [
    "# identify species with < 50 conversions\n",
    "conversion_thresh = 50\n",
    "other_species = list(xt_species.loc[xt_species[1] < conversion_thresh, 'common_name'])"
   ]
  },
  {
   "cell_type": "code",
   "execution_count": 62,
   "metadata": {
    "collapsed": false
   },
   "outputs": [],
   "source": [
    "# merge labels\n",
    "df.loc[df['common_name'].isin(other_species), 'common_name'] = 'Other'"
   ]
  },
  {
   "cell_type": "code",
   "execution_count": 63,
   "metadata": {
    "collapsed": false
   },
   "outputs": [
    {
     "data": {
      "text/plain": [
       "Brazilian Cherry       16344\n",
       "Brazilian Teak          5244\n",
       "Brazilian Walnut        4741\n",
       "Santos Mahogany         4398\n",
       "Tigerwood               3864\n",
       "Amendoim                1475\n",
       "Tiete Rosewood          1363\n",
       "Other                    991\n",
       "Patagonian Rosewood      891\n",
       "Name: common_name, dtype: int64"
      ]
     },
     "execution_count": 63,
     "metadata": {},
     "output_type": "execute_result"
    }
   ],
   "source": [
    "df['common_name'].value_counts()"
   ]
  },
  {
   "cell_type": "markdown",
   "metadata": {},
   "source": [
    "#### finish"
   ]
  },
  {
   "cell_type": "code",
   "execution_count": 66,
   "metadata": {
    "collapsed": false
   },
   "outputs": [
    {
     "data": {
      "text/plain": [
       "Prefinished            30685\n",
       "Unfinished              8153\n",
       "                         417\n",
       "Prefinished Natural       56\n",
       "Name: finish, dtype: int64"
      ]
     },
     "execution_count": 66,
     "metadata": {},
     "output_type": "execute_result"
    }
   ],
   "source": [
    "df['finish'].value_counts(dropna=False)"
   ]
  },
  {
   "cell_type": "markdown",
   "metadata": {},
   "source": [
    "I'm going to merge `Prefinished Natural` into `Prefinished`."
   ]
  },
  {
   "cell_type": "code",
   "execution_count": 67,
   "metadata": {
    "collapsed": true
   },
   "outputs": [],
   "source": [
    "# relabel Prefinished Natural\n",
    "df.loc[df['finish'] == 'Prefinished Natural', 'finish'] = 'Prefinished'\n",
    "\n",
    "# label missing data\n",
    "df.loc[df['finish'] == '', 'finish'] = 'Missing'"
   ]
  },
  {
   "cell_type": "code",
   "execution_count": 68,
   "metadata": {
    "collapsed": false
   },
   "outputs": [
    {
     "data": {
      "text/plain": [
       "Prefinished    30741\n",
       "Unfinished      8153\n",
       "Missing          417\n",
       "Name: finish, dtype: int64"
      ]
     },
     "execution_count": 68,
     "metadata": {},
     "output_type": "execute_result"
    }
   ],
   "source": [
    "df['finish'].value_counts(dropna=False)"
   ]
  },
  {
   "cell_type": "markdown",
   "metadata": {},
   "source": [
    "#### grade"
   ]
  },
  {
   "cell_type": "code",
   "execution_count": 69,
   "metadata": {
    "collapsed": false
   },
   "outputs": [
    {
     "data": {
      "text/plain": [
       "Clear              33819\n",
       "Premium/A           2317\n",
       "Select & Better     1842\n",
       "                     891\n",
       "Select               387\n",
       "Rustic                55\n",
       "Name: grade, dtype: int64"
      ]
     },
     "execution_count": 69,
     "metadata": {},
     "output_type": "execute_result"
    }
   ],
   "source": [
    "df['grade'].value_counts(dropna=False)"
   ]
  },
  {
   "cell_type": "markdown",
   "metadata": {},
   "source": [
    "I'll merge `Select` into `Select & Better` and merge `Rustic` into a missing label."
   ]
  },
  {
   "cell_type": "code",
   "execution_count": 70,
   "metadata": {
    "collapsed": true
   },
   "outputs": [],
   "source": [
    "# relabel Select\n",
    "df.loc[df['grade'] == 'Select', 'grade'] = 'Select & Better'\n",
    "\n",
    "# relabel Rustic\n",
    "df.loc[df['grade'] == 'Rustic', 'grade'] = 'Missing'\n",
    "\n",
    "# relabel empty\n",
    "df.loc[df['grade'] == '', 'grade'] = 'Missing'"
   ]
  },
  {
   "cell_type": "code",
   "execution_count": 71,
   "metadata": {
    "collapsed": false
   },
   "outputs": [
    {
     "data": {
      "text/plain": [
       "Clear              33819\n",
       "Premium/A           2317\n",
       "Select & Better     2229\n",
       "Missing              946\n",
       "Name: grade, dtype: int64"
      ]
     },
     "execution_count": 71,
     "metadata": {},
     "output_type": "execute_result"
    }
   ],
   "source": [
    "df['grade'].value_counts(dropna=False)"
   ]
  },
  {
   "cell_type": "markdown",
   "metadata": {},
   "source": [
    "#### milling"
   ]
  },
  {
   "cell_type": "code",
   "execution_count": 72,
   "metadata": {
    "collapsed": false
   },
   "outputs": [
    {
     "data": {
      "text/plain": [
       "Micro Bevel 4 Sides    30679\n",
       "Square Edges            7875\n",
       "                         700\n",
       "NaN                       57\n",
       "Name: milling, dtype: int64"
      ]
     },
     "execution_count": 72,
     "metadata": {},
     "output_type": "execute_result"
    }
   ],
   "source": [
    "df['milling'].value_counts(dropna=False)"
   ]
  },
  {
   "cell_type": "markdown",
   "metadata": {},
   "source": [
    "Merge NaN and no label data into `Missing` category."
   ]
  },
  {
   "cell_type": "code",
   "execution_count": 85,
   "metadata": {
    "collapsed": false
   },
   "outputs": [],
   "source": [
    "# create missing label\n",
    "df.loc[df['milling'] == '', 'milling'] = 'Missing'\n",
    "\n",
    "# relabel nan\n",
    "df['milling'] = df['milling'].fillna(value = 'Missing')"
   ]
  },
  {
   "cell_type": "code",
   "execution_count": 86,
   "metadata": {
    "collapsed": false
   },
   "outputs": [
    {
     "data": {
      "text/plain": [
       "Micro Bevel 4 Sides    30679\n",
       "Square Edges            7875\n",
       "Missing                  757\n",
       "Name: milling, dtype: int64"
      ]
     },
     "execution_count": 86,
     "metadata": {},
     "output_type": "execute_result"
    }
   ],
   "source": [
    "df['milling'].value_counts(dropna=False)"
   ]
  },
  {
   "cell_type": "markdown",
   "metadata": {},
   "source": [
    "#### thickness"
   ]
  },
  {
   "cell_type": "code",
   "execution_count": 87,
   "metadata": {
    "collapsed": false
   },
   "outputs": [
    {
     "data": {
      "text/plain": [
       "3/4           35667\n",
       "1/2            1263\n",
       "9/16           1158\n",
       "3/8             790\n",
       "4/4 or 5/4      325\n",
       "3/4\"             48\n",
       " 3/4             21\n",
       " 3/8             18\n",
       " 1/2             11\n",
       "7/16             10\n",
       "Name: thickness, dtype: int64"
      ]
     },
     "execution_count": 87,
     "metadata": {},
     "output_type": "execute_result"
    }
   ],
   "source": [
    "df['thickness'].value_counts(dropna=False)"
   ]
  },
  {
   "cell_type": "markdown",
   "metadata": {},
   "source": [
    "First, let's strip the whitespace and remove \"."
   ]
  },
  {
   "cell_type": "code",
   "execution_count": 88,
   "metadata": {
    "collapsed": false
   },
   "outputs": [
    {
     "data": {
      "text/plain": [
       "3/4           35736\n",
       "1/2            1274\n",
       "9/16           1158\n",
       "3/8             808\n",
       "4/4 or 5/4      325\n",
       "7/16             10\n",
       "Name: thickness, dtype: int64"
      ]
     },
     "execution_count": 88,
     "metadata": {},
     "output_type": "execute_result"
    }
   ],
   "source": [
    "df['thickness'] = [x.strip().replace('\"', '') if x is not None and x != '' else np.nan for x in df['thickness'] ]\n",
    "df['thickness'].value_counts(dropna=False)"
   ]
  },
  {
   "cell_type": "markdown",
   "metadata": {},
   "source": [
    "Let's look at some of the more obscure thicknesses."
   ]
  },
  {
   "cell_type": "code",
   "execution_count": 94,
   "metadata": {
    "collapsed": false
   },
   "outputs": [
    {
     "data": {
      "text/html": [
       "<div>\n",
       "<table border=\"1\" class=\"dataframe\">\n",
       "  <thead>\n",
       "    <tr style=\"text-align: right;\">\n",
       "      <th></th>\n",
       "      <th>common_name</th>\n",
       "      <th>finish</th>\n",
       "      <th>grade</th>\n",
       "      <th>construction</th>\n",
       "    </tr>\n",
       "  </thead>\n",
       "  <tbody>\n",
       "    <tr>\n",
       "      <th>44155</th>\n",
       "      <td>Other</td>\n",
       "      <td>Prefinished</td>\n",
       "      <td>Missing</td>\n",
       "      <td>Solid</td>\n",
       "    </tr>\n",
       "  </tbody>\n",
       "</table>\n",
       "</div>"
      ],
      "text/plain": [
       "      common_name       finish    grade construction\n",
       "44155       Other  Prefinished  Missing        Solid"
      ]
     },
     "execution_count": 94,
     "metadata": {},
     "output_type": "execute_result"
    }
   ],
   "source": [
    "df.loc[df['thickness'] == '7/16', ['common_name', 'finish', 'grade', 'construction']].drop_duplicates()"
   ]
  },
  {
   "cell_type": "code",
   "execution_count": 95,
   "metadata": {
    "collapsed": false
   },
   "outputs": [
    {
     "data": {
      "text/html": [
       "<div>\n",
       "<table border=\"1\" class=\"dataframe\">\n",
       "  <thead>\n",
       "    <tr style=\"text-align: right;\">\n",
       "      <th></th>\n",
       "      <th>common_name</th>\n",
       "      <th>finish</th>\n",
       "      <th>grade</th>\n",
       "      <th>construction</th>\n",
       "    </tr>\n",
       "  </thead>\n",
       "  <tbody>\n",
       "    <tr>\n",
       "      <th>3033</th>\n",
       "      <td>Brazilian Walnut</td>\n",
       "      <td>Missing</td>\n",
       "      <td>Select &amp; Better</td>\n",
       "      <td></td>\n",
       "    </tr>\n",
       "  </tbody>\n",
       "</table>\n",
       "</div>"
      ],
      "text/plain": [
       "           common_name   finish            grade construction\n",
       "3033  Brazilian Walnut  Missing  Select & Better             "
      ]
     },
     "execution_count": 95,
     "metadata": {},
     "output_type": "execute_result"
    }
   ],
   "source": [
    "df.loc[df['thickness'] == '4/4 or 5/4', ['common_name', 'finish', 'grade', 'construction']].drop_duplicates()"
   ]
  },
  {
   "cell_type": "code",
   "execution_count": 96,
   "metadata": {
    "collapsed": false
   },
   "outputs": [
    {
     "data": {
      "text/html": [
       "<div>\n",
       "<table border=\"1\" class=\"dataframe\">\n",
       "  <thead>\n",
       "    <tr style=\"text-align: right;\">\n",
       "      <th></th>\n",
       "      <th>common_name</th>\n",
       "      <th>finish</th>\n",
       "      <th>grade</th>\n",
       "      <th>construction</th>\n",
       "    </tr>\n",
       "  </thead>\n",
       "  <tbody>\n",
       "    <tr>\n",
       "      <th>48</th>\n",
       "      <td>Brazilian Cherry</td>\n",
       "      <td>Prefinished</td>\n",
       "      <td>Clear</td>\n",
       "      <td>Solid</td>\n",
       "    </tr>\n",
       "    <tr>\n",
       "      <th>78</th>\n",
       "      <td>Other</td>\n",
       "      <td>Prefinished</td>\n",
       "      <td>Clear</td>\n",
       "      <td>Engineered</td>\n",
       "    </tr>\n",
       "    <tr>\n",
       "      <th>2900</th>\n",
       "      <td>Brazilian Cherry</td>\n",
       "      <td>Prefinished</td>\n",
       "      <td>Clear</td>\n",
       "      <td>Engineered</td>\n",
       "    </tr>\n",
       "    <tr>\n",
       "      <th>24441</th>\n",
       "      <td>Tigerwood</td>\n",
       "      <td>Prefinished</td>\n",
       "      <td>Clear</td>\n",
       "      <td>Solid</td>\n",
       "    </tr>\n",
       "    <tr>\n",
       "      <th>42174</th>\n",
       "      <td>Tigerwood</td>\n",
       "      <td>Prefinished</td>\n",
       "      <td>Premium/A</td>\n",
       "      <td>Engineered</td>\n",
       "    </tr>\n",
       "  </tbody>\n",
       "</table>\n",
       "</div>"
      ],
      "text/plain": [
       "            common_name       finish      grade construction\n",
       "48     Brazilian Cherry  Prefinished      Clear        Solid\n",
       "78                Other  Prefinished      Clear   Engineered\n",
       "2900   Brazilian Cherry  Prefinished      Clear   Engineered\n",
       "24441         Tigerwood  Prefinished      Clear        Solid\n",
       "42174         Tigerwood  Prefinished  Premium/A   Engineered"
      ]
     },
     "execution_count": 96,
     "metadata": {},
     "output_type": "execute_result"
    }
   ],
   "source": [
    "df.loc[df['thickness'] == '3/8', ['common_name', 'finish', 'grade', 'construction']].drop_duplicates()"
   ]
  },
  {
   "cell_type": "code",
   "execution_count": 97,
   "metadata": {
    "collapsed": false
   },
   "outputs": [
    {
     "data": {
      "text/html": [
       "<div>\n",
       "<table border=\"1\" class=\"dataframe\">\n",
       "  <thead>\n",
       "    <tr style=\"text-align: right;\">\n",
       "      <th></th>\n",
       "      <th>common_name</th>\n",
       "      <th>finish</th>\n",
       "      <th>grade</th>\n",
       "      <th>construction</th>\n",
       "    </tr>\n",
       "  </thead>\n",
       "  <tbody>\n",
       "    <tr>\n",
       "      <th>10</th>\n",
       "      <td>Brazilian Cherry</td>\n",
       "      <td>Prefinished</td>\n",
       "      <td>Clear</td>\n",
       "      <td>Engineered</td>\n",
       "    </tr>\n",
       "    <tr>\n",
       "      <th>3572</th>\n",
       "      <td>Tigerwood</td>\n",
       "      <td>Prefinished</td>\n",
       "      <td>Clear</td>\n",
       "      <td>Engineered</td>\n",
       "    </tr>\n",
       "    <tr>\n",
       "      <th>12191</th>\n",
       "      <td>Other</td>\n",
       "      <td>Prefinished</td>\n",
       "      <td>Missing</td>\n",
       "      <td>Engineered</td>\n",
       "    </tr>\n",
       "    <tr>\n",
       "      <th>28873</th>\n",
       "      <td>Brazilian Cherry</td>\n",
       "      <td>Prefinished</td>\n",
       "      <td>Select &amp; Better</td>\n",
       "      <td>Engineered</td>\n",
       "    </tr>\n",
       "  </tbody>\n",
       "</table>\n",
       "</div>"
      ],
      "text/plain": [
       "            common_name       finish            grade construction\n",
       "10     Brazilian Cherry  Prefinished            Clear   Engineered\n",
       "3572          Tigerwood  Prefinished            Clear   Engineered\n",
       "12191             Other  Prefinished          Missing   Engineered\n",
       "28873  Brazilian Cherry  Prefinished  Select & Better   Engineered"
      ]
     },
     "execution_count": 97,
     "metadata": {},
     "output_type": "execute_result"
    }
   ],
   "source": [
    "df.loc[df['thickness'] == '9/16', ['common_name', 'finish', 'grade', 'construction']].drop_duplicates()"
   ]
  },
  {
   "cell_type": "code",
   "execution_count": 98,
   "metadata": {
    "collapsed": false
   },
   "outputs": [
    {
     "data": {
      "text/html": [
       "<div>\n",
       "<table border=\"1\" class=\"dataframe\">\n",
       "  <thead>\n",
       "    <tr style=\"text-align: right;\">\n",
       "      <th></th>\n",
       "      <th>common_name</th>\n",
       "      <th>finish</th>\n",
       "      <th>grade</th>\n",
       "      <th>construction</th>\n",
       "    </tr>\n",
       "  </thead>\n",
       "  <tbody>\n",
       "    <tr>\n",
       "      <th>64</th>\n",
       "      <td>Tigerwood</td>\n",
       "      <td>Prefinished</td>\n",
       "      <td>Premium/A</td>\n",
       "      <td>Engineered</td>\n",
       "    </tr>\n",
       "    <tr>\n",
       "      <th>91</th>\n",
       "      <td>Brazilian Cherry</td>\n",
       "      <td>Prefinished</td>\n",
       "      <td>Premium/A</td>\n",
       "      <td>Engineered</td>\n",
       "    </tr>\n",
       "    <tr>\n",
       "      <th>139</th>\n",
       "      <td>Santos Mahogany</td>\n",
       "      <td>Prefinished</td>\n",
       "      <td>Premium/A</td>\n",
       "      <td>Engineered</td>\n",
       "    </tr>\n",
       "    <tr>\n",
       "      <th>4028</th>\n",
       "      <td>Other</td>\n",
       "      <td>Prefinished</td>\n",
       "      <td>Premium/A</td>\n",
       "      <td>Engineered</td>\n",
       "    </tr>\n",
       "    <tr>\n",
       "      <th>9816</th>\n",
       "      <td>Other</td>\n",
       "      <td>Prefinished</td>\n",
       "      <td>Premium/A</td>\n",
       "      <td>Engineered Click</td>\n",
       "    </tr>\n",
       "    <tr>\n",
       "      <th>43152</th>\n",
       "      <td>Santos Mahogany</td>\n",
       "      <td>Prefinished</td>\n",
       "      <td>Select &amp; Better</td>\n",
       "      <td>Engineered</td>\n",
       "    </tr>\n",
       "    <tr>\n",
       "      <th>48364</th>\n",
       "      <td>Brazilian Cherry</td>\n",
       "      <td>Prefinished</td>\n",
       "      <td>Select &amp; Better</td>\n",
       "      <td>Engineered</td>\n",
       "    </tr>\n",
       "    <tr>\n",
       "      <th>48540</th>\n",
       "      <td>Amendoim</td>\n",
       "      <td>Prefinished</td>\n",
       "      <td>Premium/A</td>\n",
       "      <td>Engineered</td>\n",
       "    </tr>\n",
       "  </tbody>\n",
       "</table>\n",
       "</div>"
      ],
      "text/plain": [
       "            common_name       finish            grade      construction\n",
       "64            Tigerwood  Prefinished        Premium/A        Engineered\n",
       "91     Brazilian Cherry  Prefinished        Premium/A        Engineered\n",
       "139     Santos Mahogany  Prefinished        Premium/A        Engineered\n",
       "4028              Other  Prefinished        Premium/A        Engineered\n",
       "9816              Other  Prefinished        Premium/A  Engineered Click\n",
       "43152   Santos Mahogany  Prefinished  Select & Better        Engineered\n",
       "48364  Brazilian Cherry  Prefinished  Select & Better        Engineered\n",
       "48540          Amendoim  Prefinished        Premium/A        Engineered"
      ]
     },
     "execution_count": 98,
     "metadata": {},
     "output_type": "execute_result"
    }
   ],
   "source": [
    "df.loc[df['thickness'] == '1/2', ['common_name', 'finish', 'grade', 'construction']].drop_duplicates()"
   ]
  },
  {
   "cell_type": "markdown",
   "metadata": {},
   "source": [
    "In contrast, here's the most common thickness."
   ]
  },
  {
   "cell_type": "code",
   "execution_count": 99,
   "metadata": {
    "collapsed": false
   },
   "outputs": [
    {
     "data": {
      "text/html": [
       "<div>\n",
       "<table border=\"1\" class=\"dataframe\">\n",
       "  <thead>\n",
       "    <tr style=\"text-align: right;\">\n",
       "      <th></th>\n",
       "      <th>common_name</th>\n",
       "      <th>finish</th>\n",
       "      <th>grade</th>\n",
       "      <th>construction</th>\n",
       "    </tr>\n",
       "  </thead>\n",
       "  <tbody>\n",
       "    <tr>\n",
       "      <th>1</th>\n",
       "      <td>Tigerwood</td>\n",
       "      <td>Prefinished</td>\n",
       "      <td>Clear</td>\n",
       "      <td>Solid</td>\n",
       "    </tr>\n",
       "    <tr>\n",
       "      <th>2</th>\n",
       "      <td>Brazilian Teak</td>\n",
       "      <td>Prefinished</td>\n",
       "      <td>Clear</td>\n",
       "      <td>Solid</td>\n",
       "    </tr>\n",
       "    <tr>\n",
       "      <th>3</th>\n",
       "      <td>Santos Mahogany</td>\n",
       "      <td>Prefinished</td>\n",
       "      <td>Clear</td>\n",
       "      <td>Solid</td>\n",
       "    </tr>\n",
       "    <tr>\n",
       "      <th>5</th>\n",
       "      <td>Brazilian Cherry</td>\n",
       "      <td>Prefinished</td>\n",
       "      <td>Clear</td>\n",
       "      <td>Solid</td>\n",
       "    </tr>\n",
       "    <tr>\n",
       "      <th>9</th>\n",
       "      <td>Amendoim</td>\n",
       "      <td>Prefinished</td>\n",
       "      <td>Select &amp; Better</td>\n",
       "      <td>Solid</td>\n",
       "    </tr>\n",
       "    <tr>\n",
       "      <th>13</th>\n",
       "      <td>Brazilian Cherry</td>\n",
       "      <td>Unfinished</td>\n",
       "      <td>Clear</td>\n",
       "      <td>Solid</td>\n",
       "    </tr>\n",
       "    <tr>\n",
       "      <th>15</th>\n",
       "      <td>Brazilian Teak</td>\n",
       "      <td>Unfinished</td>\n",
       "      <td>Clear</td>\n",
       "      <td>Solid</td>\n",
       "    </tr>\n",
       "    <tr>\n",
       "      <th>27</th>\n",
       "      <td>Brazilian Walnut</td>\n",
       "      <td>Prefinished</td>\n",
       "      <td>Clear</td>\n",
       "      <td>Solid</td>\n",
       "    </tr>\n",
       "    <tr>\n",
       "      <th>75</th>\n",
       "      <td>Patagonian Rosewood</td>\n",
       "      <td>Unfinished</td>\n",
       "      <td>Missing</td>\n",
       "      <td>Solid</td>\n",
       "    </tr>\n",
       "    <tr>\n",
       "      <th>76</th>\n",
       "      <td>Tiete Rosewood</td>\n",
       "      <td>Prefinished</td>\n",
       "      <td>Premium/A</td>\n",
       "      <td>Solid</td>\n",
       "    </tr>\n",
       "    <tr>\n",
       "      <th>85</th>\n",
       "      <td>Brazilian Walnut</td>\n",
       "      <td>Unfinished</td>\n",
       "      <td>Clear</td>\n",
       "      <td>Solid</td>\n",
       "    </tr>\n",
       "    <tr>\n",
       "      <th>97</th>\n",
       "      <td>Santos Mahogany</td>\n",
       "      <td>Unfinished</td>\n",
       "      <td>Clear</td>\n",
       "      <td>Solid</td>\n",
       "    </tr>\n",
       "    <tr>\n",
       "      <th>117</th>\n",
       "      <td>Amendoim</td>\n",
       "      <td>Unfinished</td>\n",
       "      <td>Select &amp; Better</td>\n",
       "      <td>Solid</td>\n",
       "    </tr>\n",
       "    <tr>\n",
       "      <th>210</th>\n",
       "      <td>Patagonian Rosewood</td>\n",
       "      <td>Prefinished</td>\n",
       "      <td>Missing</td>\n",
       "      <td>Solid</td>\n",
       "    </tr>\n",
       "    <tr>\n",
       "      <th>269</th>\n",
       "      <td>Brazilian Cherry</td>\n",
       "      <td>Unfinished</td>\n",
       "      <td>Clear</td>\n",
       "      <td>Solid Long Lengths</td>\n",
       "    </tr>\n",
       "    <tr>\n",
       "      <th>817</th>\n",
       "      <td>Tiete Rosewood</td>\n",
       "      <td>Prefinished</td>\n",
       "      <td>Select &amp; Better</td>\n",
       "      <td>Solid</td>\n",
       "    </tr>\n",
       "    <tr>\n",
       "      <th>2887</th>\n",
       "      <td>Other</td>\n",
       "      <td>Missing</td>\n",
       "      <td>Select &amp; Better</td>\n",
       "      <td>Engineered</td>\n",
       "    </tr>\n",
       "    <tr>\n",
       "      <th>5096</th>\n",
       "      <td>Tigerwood</td>\n",
       "      <td>Unfinished</td>\n",
       "      <td>Clear</td>\n",
       "      <td>Solid</td>\n",
       "    </tr>\n",
       "    <tr>\n",
       "      <th>5291</th>\n",
       "      <td>Other</td>\n",
       "      <td>Prefinished</td>\n",
       "      <td>Clear</td>\n",
       "      <td>Solid</td>\n",
       "    </tr>\n",
       "    <tr>\n",
       "      <th>13651</th>\n",
       "      <td>Tiete Rosewood</td>\n",
       "      <td>Unfinished</td>\n",
       "      <td>Premium/A</td>\n",
       "      <td>Solid</td>\n",
       "    </tr>\n",
       "    <tr>\n",
       "      <th>26559</th>\n",
       "      <td>Tiete Rosewood</td>\n",
       "      <td>Unfinished</td>\n",
       "      <td>Select &amp; Better</td>\n",
       "      <td>Solid</td>\n",
       "    </tr>\n",
       "    <tr>\n",
       "      <th>29011</th>\n",
       "      <td>Brazilian Walnut</td>\n",
       "      <td>Missing</td>\n",
       "      <td>Select &amp; Better</td>\n",
       "      <td>Solid Long Lengths</td>\n",
       "    </tr>\n",
       "    <tr>\n",
       "      <th>31044</th>\n",
       "      <td>Other</td>\n",
       "      <td>Missing</td>\n",
       "      <td>Select &amp; Better</td>\n",
       "      <td>Solid Long Lengths</td>\n",
       "    </tr>\n",
       "    <tr>\n",
       "      <th>31108</th>\n",
       "      <td>Santos Mahogany</td>\n",
       "      <td>Missing</td>\n",
       "      <td>Select &amp; Better</td>\n",
       "      <td>Engineered</td>\n",
       "    </tr>\n",
       "    <tr>\n",
       "      <th>31123</th>\n",
       "      <td>Other</td>\n",
       "      <td>Missing</td>\n",
       "      <td>Clear</td>\n",
       "      <td>Solid</td>\n",
       "    </tr>\n",
       "    <tr>\n",
       "      <th>31125</th>\n",
       "      <td>Other</td>\n",
       "      <td>Missing</td>\n",
       "      <td>Missing</td>\n",
       "      <td>Solid Long Lengths</td>\n",
       "    </tr>\n",
       "    <tr>\n",
       "      <th>31458</th>\n",
       "      <td>Brazilian Cherry</td>\n",
       "      <td>Missing</td>\n",
       "      <td>Select &amp; Better</td>\n",
       "      <td>Engineered</td>\n",
       "    </tr>\n",
       "    <tr>\n",
       "      <th>32238</th>\n",
       "      <td>Santos Mahogany</td>\n",
       "      <td>Missing</td>\n",
       "      <td>Select &amp; Better</td>\n",
       "      <td>Solid Long Lengths</td>\n",
       "    </tr>\n",
       "    <tr>\n",
       "      <th>35409</th>\n",
       "      <td>Brazilian Cherry</td>\n",
       "      <td>Missing</td>\n",
       "      <td>Select &amp; Better</td>\n",
       "      <td>Solid Long Lengths</td>\n",
       "    </tr>\n",
       "    <tr>\n",
       "      <th>42313</th>\n",
       "      <td>Brazilian Teak</td>\n",
       "      <td>Prefinished</td>\n",
       "      <td>Select &amp; Better</td>\n",
       "      <td>Solid</td>\n",
       "    </tr>\n",
       "    <tr>\n",
       "      <th>42397</th>\n",
       "      <td>Brazilian Cherry</td>\n",
       "      <td>Unfinished</td>\n",
       "      <td>Premium/A</td>\n",
       "      <td>Solid</td>\n",
       "    </tr>\n",
       "    <tr>\n",
       "      <th>43788</th>\n",
       "      <td>Patagonian Rosewood</td>\n",
       "      <td>Unfinished</td>\n",
       "      <td>Select &amp; Better</td>\n",
       "      <td>Solid</td>\n",
       "    </tr>\n",
       "    <tr>\n",
       "      <th>45181</th>\n",
       "      <td>Patagonian Rosewood</td>\n",
       "      <td>Prefinished</td>\n",
       "      <td>Select &amp; Better</td>\n",
       "      <td>Solid</td>\n",
       "    </tr>\n",
       "    <tr>\n",
       "      <th>45521</th>\n",
       "      <td>Brazilian Walnut</td>\n",
       "      <td>Prefinished</td>\n",
       "      <td>Select &amp; Better</td>\n",
       "      <td>Solid</td>\n",
       "    </tr>\n",
       "    <tr>\n",
       "      <th>49119</th>\n",
       "      <td>Other</td>\n",
       "      <td>Unfinished</td>\n",
       "      <td>Premium/A</td>\n",
       "      <td>Solid</td>\n",
       "    </tr>\n",
       "    <tr>\n",
       "      <th>49267</th>\n",
       "      <td>Other</td>\n",
       "      <td>Prefinished</td>\n",
       "      <td>Premium/A</td>\n",
       "      <td>Solid</td>\n",
       "    </tr>\n",
       "  </tbody>\n",
       "</table>\n",
       "</div>"
      ],
      "text/plain": [
       "               common_name       finish            grade        construction\n",
       "1                Tigerwood  Prefinished            Clear               Solid\n",
       "2           Brazilian Teak  Prefinished            Clear               Solid\n",
       "3          Santos Mahogany  Prefinished            Clear               Solid\n",
       "5         Brazilian Cherry  Prefinished            Clear               Solid\n",
       "9                 Amendoim  Prefinished  Select & Better               Solid\n",
       "13        Brazilian Cherry   Unfinished            Clear               Solid\n",
       "15          Brazilian Teak   Unfinished            Clear               Solid\n",
       "27        Brazilian Walnut  Prefinished            Clear               Solid\n",
       "75     Patagonian Rosewood   Unfinished          Missing               Solid\n",
       "76          Tiete Rosewood  Prefinished        Premium/A               Solid\n",
       "85        Brazilian Walnut   Unfinished            Clear               Solid\n",
       "97         Santos Mahogany   Unfinished            Clear               Solid\n",
       "117               Amendoim   Unfinished  Select & Better               Solid\n",
       "210    Patagonian Rosewood  Prefinished          Missing               Solid\n",
       "269       Brazilian Cherry   Unfinished            Clear  Solid Long Lengths\n",
       "817         Tiete Rosewood  Prefinished  Select & Better               Solid\n",
       "2887                 Other      Missing  Select & Better          Engineered\n",
       "5096             Tigerwood   Unfinished            Clear               Solid\n",
       "5291                 Other  Prefinished            Clear               Solid\n",
       "13651       Tiete Rosewood   Unfinished        Premium/A               Solid\n",
       "26559       Tiete Rosewood   Unfinished  Select & Better               Solid\n",
       "29011     Brazilian Walnut      Missing  Select & Better  Solid Long Lengths\n",
       "31044                Other      Missing  Select & Better  Solid Long Lengths\n",
       "31108      Santos Mahogany      Missing  Select & Better          Engineered\n",
       "31123                Other      Missing            Clear               Solid\n",
       "31125                Other      Missing          Missing  Solid Long Lengths\n",
       "31458     Brazilian Cherry      Missing  Select & Better          Engineered\n",
       "32238      Santos Mahogany      Missing  Select & Better  Solid Long Lengths\n",
       "35409     Brazilian Cherry      Missing  Select & Better  Solid Long Lengths\n",
       "42313       Brazilian Teak  Prefinished  Select & Better               Solid\n",
       "42397     Brazilian Cherry   Unfinished        Premium/A               Solid\n",
       "43788  Patagonian Rosewood   Unfinished  Select & Better               Solid\n",
       "45181  Patagonian Rosewood  Prefinished  Select & Better               Solid\n",
       "45521     Brazilian Walnut  Prefinished  Select & Better               Solid\n",
       "49119                Other   Unfinished        Premium/A               Solid\n",
       "49267                Other  Prefinished        Premium/A               Solid"
      ]
     },
     "execution_count": 99,
     "metadata": {},
     "output_type": "execute_result"
    }
   ],
   "source": [
    "df.loc[df['thickness'] == '3/4', ['common_name', 'finish', 'grade', 'construction']].drop_duplicates()"
   ]
  },
  {
   "cell_type": "markdown",
   "metadata": {},
   "source": [
    "Since there are only a handful of products that fall into the other thicknesses, I'm just going to drop this variable."
   ]
  },
  {
   "cell_type": "code",
   "execution_count": 100,
   "metadata": {
    "collapsed": true
   },
   "outputs": [],
   "source": [
    "# drop thickness\n",
    "df = df.drop('thickness', axis=1)"
   ]
  },
  {
   "cell_type": "markdown",
   "metadata": {},
   "source": [
    "#### width"
   ]
  },
  {
   "cell_type": "code",
   "execution_count": 101,
   "metadata": {
    "collapsed": false
   },
   "outputs": [
    {
     "data": {
      "text/plain": [
       "5             11261\n",
       "3 1/4         10750\n",
       "3              7851\n",
       "4              6926\n",
       "4 3/4          1296\n",
       "2 1/4           371\n",
       "4\" or 6\"        325\n",
       "5\", 6\", 7\"      299\n",
       "3 5/8            91\n",
       "3,4,5            40\n",
       "5                30\n",
       "5.5\", 7\"         26\n",
       "3\" - 8\"          22\n",
       "3 3/4            12\n",
       "5 1/4             5\n",
       "5,6,7,or 8        4\n",
       "4                 2\n",
       "Name: width, dtype: int64"
      ]
     },
     "execution_count": 101,
     "metadata": {},
     "output_type": "execute_result"
    }
   ],
   "source": [
    "df['width'].value_counts(dropna=False)"
   ]
  },
  {
   "cell_type": "markdown",
   "metadata": {},
   "source": [
    "Same as for thickness, we'll strip whitespace and drop \"."
   ]
  },
  {
   "cell_type": "code",
   "execution_count": 102,
   "metadata": {
    "collapsed": false
   },
   "outputs": [
    {
     "data": {
      "text/plain": [
       "5             11291\n",
       "3 1/4         10750\n",
       "3              7851\n",
       "4              6928\n",
       "4 3/4          1296\n",
       "2 1/4           371\n",
       "4 or 6          325\n",
       "5, 6, 7         299\n",
       "3 5/8            91\n",
       "3,4,5            40\n",
       "5.5, 7           26\n",
       "3 - 8            22\n",
       "3 3/4            12\n",
       "5 1/4             5\n",
       "5,6,7,or 8        4\n",
       "Name: width, dtype: int64"
      ]
     },
     "execution_count": 102,
     "metadata": {},
     "output_type": "execute_result"
    }
   ],
   "source": [
    "df['width'] = [x.strip().replace('\"', '') if x is not None and x != '' else np.nan for x in df['width'] ]\n",
    "df['width'].value_counts(dropna=False)"
   ]
  },
  {
   "cell_type": "markdown",
   "metadata": {},
   "source": [
    "Let's look at the less common widths."
   ]
  },
  {
   "cell_type": "code",
   "execution_count": 103,
   "metadata": {
    "collapsed": false
   },
   "outputs": [
    {
     "data": {
      "text/html": [
       "<div>\n",
       "<table border=\"1\" class=\"dataframe\">\n",
       "  <thead>\n",
       "    <tr style=\"text-align: right;\">\n",
       "      <th></th>\n",
       "      <th>width</th>\n",
       "      <th>common_name</th>\n",
       "      <th>finish</th>\n",
       "      <th>grade</th>\n",
       "      <th>construction</th>\n",
       "    </tr>\n",
       "  </thead>\n",
       "  <tbody>\n",
       "    <tr>\n",
       "      <th>114</th>\n",
       "      <td>2 1/4</td>\n",
       "      <td>Brazilian Cherry</td>\n",
       "      <td>Prefinished</td>\n",
       "      <td>Clear</td>\n",
       "      <td>Solid</td>\n",
       "    </tr>\n",
       "    <tr>\n",
       "      <th>269</th>\n",
       "      <td>5, 6, 7</td>\n",
       "      <td>Brazilian Cherry</td>\n",
       "      <td>Unfinished</td>\n",
       "      <td>Clear</td>\n",
       "      <td>Solid Long Lengths</td>\n",
       "    </tr>\n",
       "    <tr>\n",
       "      <th>2887</th>\n",
       "      <td>3 - 8</td>\n",
       "      <td>Other</td>\n",
       "      <td>Missing</td>\n",
       "      <td>Select &amp; Better</td>\n",
       "      <td>Engineered</td>\n",
       "    </tr>\n",
       "    <tr>\n",
       "      <th>3033</th>\n",
       "      <td>4 or 6</td>\n",
       "      <td>Brazilian Walnut</td>\n",
       "      <td>Missing</td>\n",
       "      <td>Select &amp; Better</td>\n",
       "      <td></td>\n",
       "    </tr>\n",
       "    <tr>\n",
       "      <th>5305</th>\n",
       "      <td>3 5/8</td>\n",
       "      <td>Other</td>\n",
       "      <td>Prefinished</td>\n",
       "      <td>Clear</td>\n",
       "      <td>Solid</td>\n",
       "    </tr>\n",
       "    <tr>\n",
       "      <th>29011</th>\n",
       "      <td>3,4,5</td>\n",
       "      <td>Brazilian Walnut</td>\n",
       "      <td>Missing</td>\n",
       "      <td>Select &amp; Better</td>\n",
       "      <td>Solid Long Lengths</td>\n",
       "    </tr>\n",
       "    <tr>\n",
       "      <th>31044</th>\n",
       "      <td>3,4,5</td>\n",
       "      <td>Other</td>\n",
       "      <td>Missing</td>\n",
       "      <td>Select &amp; Better</td>\n",
       "      <td>Solid Long Lengths</td>\n",
       "    </tr>\n",
       "    <tr>\n",
       "      <th>31108</th>\n",
       "      <td>3 - 8</td>\n",
       "      <td>Santos Mahogany</td>\n",
       "      <td>Missing</td>\n",
       "      <td>Select &amp; Better</td>\n",
       "      <td>Engineered</td>\n",
       "    </tr>\n",
       "    <tr>\n",
       "      <th>31123</th>\n",
       "      <td>5.5, 7</td>\n",
       "      <td>Other</td>\n",
       "      <td>Missing</td>\n",
       "      <td>Clear</td>\n",
       "      <td>Solid</td>\n",
       "    </tr>\n",
       "    <tr>\n",
       "      <th>31125</th>\n",
       "      <td>5,6,7,or 8</td>\n",
       "      <td>Other</td>\n",
       "      <td>Missing</td>\n",
       "      <td>Missing</td>\n",
       "      <td>Solid Long Lengths</td>\n",
       "    </tr>\n",
       "    <tr>\n",
       "      <th>31458</th>\n",
       "      <td>3 - 8</td>\n",
       "      <td>Brazilian Cherry</td>\n",
       "      <td>Missing</td>\n",
       "      <td>Select &amp; Better</td>\n",
       "      <td>Engineered</td>\n",
       "    </tr>\n",
       "    <tr>\n",
       "      <th>32238</th>\n",
       "      <td>3,4,5</td>\n",
       "      <td>Santos Mahogany</td>\n",
       "      <td>Missing</td>\n",
       "      <td>Select &amp; Better</td>\n",
       "      <td>Solid Long Lengths</td>\n",
       "    </tr>\n",
       "    <tr>\n",
       "      <th>35409</th>\n",
       "      <td>3,4,5</td>\n",
       "      <td>Brazilian Cherry</td>\n",
       "      <td>Missing</td>\n",
       "      <td>Select &amp; Better</td>\n",
       "      <td>Solid Long Lengths</td>\n",
       "    </tr>\n",
       "    <tr>\n",
       "      <th>39555</th>\n",
       "      <td>5,6,7,or 8</td>\n",
       "      <td>Other</td>\n",
       "      <td>Missing</td>\n",
       "      <td>Select &amp; Better</td>\n",
       "      <td>Solid Long Lengths</td>\n",
       "    </tr>\n",
       "    <tr>\n",
       "      <th>42313</th>\n",
       "      <td>3 3/4</td>\n",
       "      <td>Brazilian Teak</td>\n",
       "      <td>Prefinished</td>\n",
       "      <td>Select &amp; Better</td>\n",
       "      <td>Solid</td>\n",
       "    </tr>\n",
       "    <tr>\n",
       "      <th>44155</th>\n",
       "      <td>3 3/4</td>\n",
       "      <td>Other</td>\n",
       "      <td>Prefinished</td>\n",
       "      <td>Missing</td>\n",
       "      <td>Solid</td>\n",
       "    </tr>\n",
       "    <tr>\n",
       "      <th>45521</th>\n",
       "      <td>3 3/4</td>\n",
       "      <td>Brazilian Walnut</td>\n",
       "      <td>Prefinished</td>\n",
       "      <td>Select &amp; Better</td>\n",
       "      <td>Solid</td>\n",
       "    </tr>\n",
       "    <tr>\n",
       "      <th>48364</th>\n",
       "      <td>5 1/4</td>\n",
       "      <td>Brazilian Cherry</td>\n",
       "      <td>Prefinished</td>\n",
       "      <td>Select &amp; Better</td>\n",
       "      <td>Engineered</td>\n",
       "    </tr>\n",
       "  </tbody>\n",
       "</table>\n",
       "</div>"
      ],
      "text/plain": [
       "            width       common_name       finish            grade  \\\n",
       "114         2 1/4  Brazilian Cherry  Prefinished            Clear   \n",
       "269       5, 6, 7  Brazilian Cherry   Unfinished            Clear   \n",
       "2887        3 - 8             Other      Missing  Select & Better   \n",
       "3033       4 or 6  Brazilian Walnut      Missing  Select & Better   \n",
       "5305        3 5/8             Other  Prefinished            Clear   \n",
       "29011       3,4,5  Brazilian Walnut      Missing  Select & Better   \n",
       "31044       3,4,5             Other      Missing  Select & Better   \n",
       "31108       3 - 8   Santos Mahogany      Missing  Select & Better   \n",
       "31123      5.5, 7             Other      Missing            Clear   \n",
       "31125  5,6,7,or 8             Other      Missing          Missing   \n",
       "31458       3 - 8  Brazilian Cherry      Missing  Select & Better   \n",
       "32238       3,4,5   Santos Mahogany      Missing  Select & Better   \n",
       "35409       3,4,5  Brazilian Cherry      Missing  Select & Better   \n",
       "39555  5,6,7,or 8             Other      Missing  Select & Better   \n",
       "42313       3 3/4    Brazilian Teak  Prefinished  Select & Better   \n",
       "44155       3 3/4             Other  Prefinished          Missing   \n",
       "45521       3 3/4  Brazilian Walnut  Prefinished  Select & Better   \n",
       "48364       5 1/4  Brazilian Cherry  Prefinished  Select & Better   \n",
       "\n",
       "             construction  \n",
       "114                 Solid  \n",
       "269    Solid Long Lengths  \n",
       "2887           Engineered  \n",
       "3033                       \n",
       "5305                Solid  \n",
       "29011  Solid Long Lengths  \n",
       "31044  Solid Long Lengths  \n",
       "31108          Engineered  \n",
       "31123               Solid  \n",
       "31125  Solid Long Lengths  \n",
       "31458          Engineered  \n",
       "32238  Solid Long Lengths  \n",
       "35409  Solid Long Lengths  \n",
       "39555  Solid Long Lengths  \n",
       "42313               Solid  \n",
       "44155               Solid  \n",
       "45521               Solid  \n",
       "48364          Engineered  "
      ]
     },
     "execution_count": 103,
     "metadata": {},
     "output_type": "execute_result"
    }
   ],
   "source": [
    "weird_width = ['2 1/4', '4 or 6', '5, 6, 7', '3 5/8', '3,4,5', '5.5, 7', '3 - 8', '3 3/4', '5 1/4', '5,6,7,or 8']\n",
    "df.loc[df['width'].isin(weird_width), ['width', 'common_name', 'finish', 'grade', 'construction']].drop_duplicates()"
   ]
  },
  {
   "cell_type": "code",
   "execution_count": 104,
   "metadata": {
    "collapsed": false
   },
   "outputs": [
    {
     "data": {
      "text/html": [
       "<div>\n",
       "<table border=\"1\" class=\"dataframe\">\n",
       "  <thead>\n",
       "    <tr style=\"text-align: right;\">\n",
       "      <th>converted</th>\n",
       "      <th>0</th>\n",
       "      <th>1</th>\n",
       "    </tr>\n",
       "    <tr>\n",
       "      <th>width</th>\n",
       "      <th></th>\n",
       "      <th></th>\n",
       "    </tr>\n",
       "  </thead>\n",
       "  <tbody>\n",
       "    <tr>\n",
       "      <th>False</th>\n",
       "      <td>35478</td>\n",
       "      <td>2638</td>\n",
       "    </tr>\n",
       "    <tr>\n",
       "      <th>True</th>\n",
       "      <td>1148</td>\n",
       "      <td>47</td>\n",
       "    </tr>\n",
       "  </tbody>\n",
       "</table>\n",
       "</div>"
      ],
      "text/plain": [
       "converted      0     1\n",
       "width                 \n",
       "False      35478  2638\n",
       "True        1148    47"
      ]
     },
     "execution_count": 104,
     "metadata": {},
     "output_type": "execute_result"
    }
   ],
   "source": [
    "# cross tab on weird widths\n",
    "pd.crosstab(df['width'].isin(weird_width), df['converted'])"
   ]
  },
  {
   "cell_type": "markdown",
   "metadata": {},
   "source": [
    "Since there are very few quotes/conversions for weird widths, I'll merge them into `Other`."
   ]
  },
  {
   "cell_type": "code",
   "execution_count": 105,
   "metadata": {
    "collapsed": false
   },
   "outputs": [
    {
     "data": {
      "text/plain": [
       "5        11291\n",
       "3 1/4    10750\n",
       "3         7851\n",
       "4         6928\n",
       "4 3/4     1296\n",
       "Other     1195\n",
       "Name: width, dtype: int64"
      ]
     },
     "execution_count": 105,
     "metadata": {},
     "output_type": "execute_result"
    }
   ],
   "source": [
    "# merge weird widths\n",
    "df.loc[df['width'].isin(weird_width), 'width'] = 'Other'\n",
    "df['width'].value_counts(dropna=False)"
   ]
  },
  {
   "cell_type": "markdown",
   "metadata": {},
   "source": [
    "#### construction"
   ]
  },
  {
   "cell_type": "code",
   "execution_count": 106,
   "metadata": {
    "collapsed": false
   },
   "outputs": [
    {
     "data": {
      "text/plain": [
       "Solid                 35887\n",
       "Engineered             2719\n",
       "Solid Long Lengths      343\n",
       "                        325\n",
       "Engineered Click         37\n",
       "Name: construction, dtype: int64"
      ]
     },
     "execution_count": 106,
     "metadata": {},
     "output_type": "execute_result"
    }
   ],
   "source": [
    "df['construction'].value_counts(dropna=False)"
   ]
  },
  {
   "cell_type": "markdown",
   "metadata": {},
   "source": [
    "I'm going to merge `Engineered Click` into `Engineered`, merge `Solid Long Lengths` into `Solid`, and give the empty data a `Missing` label."
   ]
  },
  {
   "cell_type": "code",
   "execution_count": 107,
   "metadata": {
    "collapsed": true
   },
   "outputs": [],
   "source": [
    "# relabel Engineered Click\n",
    "df.loc[df['construction'] == 'Engineered Click', 'construction'] = 'Engineered'\n",
    "\n",
    "# relabel Solid Long Lengths\n",
    "df.loc[df['construction'] == 'Solid Long Lengths', 'construction'] = 'Solid'\n",
    "\n",
    "# relabel ''\n",
    "df.loc[df['construction'] == '', 'construction'] = 'Missing'"
   ]
  },
  {
   "cell_type": "code",
   "execution_count": 108,
   "metadata": {
    "collapsed": false
   },
   "outputs": [
    {
     "data": {
      "text/plain": [
       "Solid         36230\n",
       "Engineered     2756\n",
       "Missing         325\n",
       "Name: construction, dtype: int64"
      ]
     },
     "execution_count": 108,
     "metadata": {},
     "output_type": "execute_result"
    }
   ],
   "source": [
    "df['construction'].value_counts(dropna=False)"
   ]
  },
  {
   "cell_type": "code",
   "execution_count": null,
   "metadata": {
    "collapsed": true
   },
   "outputs": [],
   "source": []
  },
  {
   "cell_type": "code",
   "execution_count": null,
   "metadata": {
    "collapsed": true
   },
   "outputs": [],
   "source": []
  },
  {
   "cell_type": "code",
   "execution_count": 64,
   "metadata": {
    "collapsed": false
   },
   "outputs": [
    {
     "data": {
      "text/plain": [
       "Index([u'quote_id', u'email', u'date_created', u'days_until_needed',\n",
       "       u'urgency', u'phone_provided', u'ship_state', u'install_subfloor',\n",
       "       u'employee_id', u'sq_ft', u'cust_price', u'retail_price',\n",
       "       u'common_name', u'finish', u'grade', u'milling', u'thickness', u'width',\n",
       "       u'construction', u'days_until_needed_bin', u'sq_ft_bin', u'converted',\n",
       "       u'month', u'year'],\n",
       "      dtype='object')"
      ]
     },
     "execution_count": 64,
     "metadata": {},
     "output_type": "execute_result"
    }
   ],
   "source": [
    "df.columns"
   ]
  },
  {
   "cell_type": "markdown",
   "metadata": {},
   "source": [
    "## Visualize distributions of variables based on conversion"
   ]
  },
  {
   "cell_type": "code",
   "execution_count": 85,
   "metadata": {
    "collapsed": true
   },
   "outputs": [],
   "source": [
    "vis_vars = ['days_until_needed', 'urgency', 'sq_ft', 'cust_price', 'retail_price']"
   ]
  },
  {
   "cell_type": "code",
   "execution_count": 87,
   "metadata": {
    "collapsed": true
   },
   "outputs": [],
   "source": [
    "def conversion_hist(column_name, bins):\n",
    "    plt.figure();\n",
    "    df.groupby('converted')[column_name].plot.hist(bins=bins, alpha = 0.5);\n",
    "    plt.legend(loc='best');\n",
    "    plt.title(column_name);"
   ]
  },
  {
   "cell_type": "code",
   "execution_count": 91,
   "metadata": {
    "collapsed": false
   },
   "outputs": [
    {
     "data": {
      "image/png": "[encoded data removed]",
      "text/plain": [
       "<matplotlib.figure.Figure at 0x11d29cb50>"
      ]
     },
     "metadata": {},
     "output_type": "display_data"
    },
    {
     "data": {
      "image/png": "[encoded data removed]",
      "text/plain": [
       "<matplotlib.figure.Figure at 0x11be36ad0>"
      ]
     },
     "metadata": {},
     "output_type": "display_data"
    },
    {
     "data": {
      "image/png": "[encoded data removed]",
      "text/plain": [
       "<matplotlib.figure.Figure at 0x11bb15250>"
      ]
     },
     "metadata": {},
     "output_type": "display_data"
    },
    {
     "data": {
      "image/png": "[encoded data removed]",
      "text/plain": [
       "<matplotlib.figure.Figure at 0x1180c92d0>"
      ]
     },
     "metadata": {},
     "output_type": "display_data"
    },
    {
     "data": {
      "image/png": "[encoded data removed]",
      "text/plain": [
       "<matplotlib.figure.Figure at 0x1193336d0>"
      ]
     },
     "metadata": {},
     "output_type": "display_data"
    }
   ],
   "source": [
    "for column in vis_vars:\n",
    "    if column == 'days_until_needed':\n",
    "        bins = np.linspace(1, 180, 20)\n",
    "    elif column == 'sq_ft':\n",
    "        bins = np.linspace(100, 5000, 20)\n",
    "    else:\n",
    "        bins = np.linspace(min(df[column]),\n",
    "                      max(df[column]),\n",
    "                         20)\n",
    "    conversion_hist(column, bins)"
   ]
  },
  {
   "cell_type": "markdown",
   "metadata": {},
   "source": [
    "**Conclusions**: \n",
    "* Distributions for converted and not appear pretty similar for these variables\n",
    "* `retail_price` does not seem to be reliable since there is a massive spike (possible default value?); since it wasn't clear where this data came from, I think it's safe to drop it"
   ]
  },
  {
   "cell_type": "code",
   "execution_count": 93,
   "metadata": {
    "collapsed": false
   },
   "outputs": [],
   "source": [
    "# Drop retail_price column\n",
    "df = df.drop('retail_price', axis=1)"
   ]
  },
  {
   "cell_type": "code",
   "execution_count": 174,
   "metadata": {
    "collapsed": true
   },
   "outputs": [],
   "source": [
    "def conversion_barplot(column, df):\n",
    "    \n",
    "    # calculate crosstabs\n",
    "    xt = pd.crosstab(df[column], df['converted'], dropna=False).reset_index()\n",
    "    xt.columns = [column, 'no_conversion', 'conversion']\n",
    "    \n",
    "    # convert from counts to percent\n",
    "    xt_sum = xt.sum(numeric_only=True, axis=0)\n",
    "    xt[['conversion', 'no_conversion']] = xt[['conversion', 'no_conversion']].div(xt_sum) * 100\n",
    "    \n",
    "    # melt to long format\n",
    "    xt = pd.melt(xt, id_vars = column)\n",
    "    \n",
    "    # plot results\n",
    "    p = sns.barplot(x = xt[column], y = xt['value'], hue = xt['variable']);\n",
    "    for x in p.get_xticklabels():\n",
    "        x.set_rotation(90);\n",
    "    plt.ylabel('Percent');\n",
    "    plt.title(column)"
   ]
  },
  {
   "cell_type": "code",
   "execution_count": 185,
   "metadata": {
    "collapsed": false
   },
   "outputs": [
    {
     "data": {
      "image/png": "[encoded data removed]",
      "text/plain": [
       "<matplotlib.figure.Figure at 0x1242651d0>"
      ]
     },
     "metadata": {},
     "output_type": "display_data"
    }
   ],
   "source": [
    "plt.figure(figsize = (10,10))\n",
    "conversion_barplot('ship_state', df)"
   ]
  },
  {
   "cell_type": "code",
   "execution_count": 186,
   "metadata": {
    "collapsed": false
   },
   "outputs": [
    {
     "data": {
      "image/png": "[encoded data removed]",
      "text/plain": [
       "<matplotlib.figure.Figure at 0x120fd3350>"
      ]
     },
     "metadata": {},
     "output_type": "display_data"
    }
   ],
   "source": [
    "conversion_barplot('install_subfloor', df)"
   ]
  },
  {
   "cell_type": "code",
   "execution_count": 332,
   "metadata": {
    "collapsed": false
   },
   "outputs": [
    {
     "data": {
      "text/plain": [
       "array([None, '', 'Concrete', 'Other', 'Plywood'], dtype=object)"
      ]
     },
     "execution_count": 332,
     "metadata": {},
     "output_type": "execute_result"
    }
   ],
   "source": [
    "np.unique(df['install_subfloor'].values)"
   ]
  },
  {
   "cell_type": "code",
   "execution_count": 187,
   "metadata": {
    "collapsed": false
   },
   "outputs": [
    {
     "data": {
      "image/png": "[encoded data removed]",
      "text/plain": [
       "<matplotlib.figure.Figure at 0x120ffaa10>"
      ]
     },
     "metadata": {},
     "output_type": "display_data"
    }
   ],
   "source": [
    "conversion_barplot('employee_id', df)"
   ]
  },
  {
   "cell_type": "code",
   "execution_count": 333,
   "metadata": {
    "collapsed": false
   },
   "outputs": [
    {
     "data": {
      "text/plain": [
       "array(['', 'BV', 'DC', 'EDL', 'JJ', 'JO', 'JP', 'JV', 'LF', 'LM', 'MP',\n",
       "       'MS', 'NP', 'RC', 'SB', 'SF', 'SO', 'TC', 'TW'], dtype=object)"
      ]
     },
     "execution_count": 333,
     "metadata": {},
     "output_type": "execute_result"
    }
   ],
   "source": [
    "np.unique(df['employee_id'].values)"
   ]
  },
  {
   "cell_type": "code",
   "execution_count": 188,
   "metadata": {
    "collapsed": false
   },
   "outputs": [
    {
     "data": {
      "image/png": "[encoded data removed]",
      "text/plain": [
       "<matplotlib.figure.Figure at 0x11ffddb50>"
      ]
     },
     "metadata": {},
     "output_type": "display_data"
    }
   ],
   "source": [
    "conversion_barplot('common_name', df)"
   ]
  },
  {
   "cell_type": "code",
   "execution_count": 189,
   "metadata": {
    "collapsed": false
   },
   "outputs": [
    {
     "data": {
      "image/png": "[encoded data removed]",
      "text/plain": [
       "<matplotlib.figure.Figure at 0x120e80950>"
      ]
     },
     "metadata": {},
     "output_type": "display_data"
    }
   ],
   "source": [
    "conversion_barplot('finish', df)"
   ]
  },
  {
   "cell_type": "code",
   "execution_count": 190,
   "metadata": {
    "collapsed": false
   },
   "outputs": [
    {
     "data": {
      "image/png": "[encoded data removed]",
      "text/plain": [
       "<matplotlib.figure.Figure at 0x120df2b10>"
      ]
     },
     "metadata": {},
     "output_type": "display_data"
    }
   ],
   "source": [
    "conversion_barplot('milling', df)"
   ]
  },
  {
   "cell_type": "code",
   "execution_count": 191,
   "metadata": {
    "collapsed": false
   },
   "outputs": [
    {
     "data": {
      "image/png": "[encoded data removed]",
      "text/plain": [
       "<matplotlib.figure.Figure at 0x123c9de50>"
      ]
     },
     "metadata": {},
     "output_type": "display_data"
    }
   ],
   "source": [
    "conversion_barplot('thickness', df)"
   ]
  },
  {
   "cell_type": "code",
   "execution_count": 192,
   "metadata": {
    "collapsed": false
   },
   "outputs": [
    {
     "data": {
      "image/png": "[encoded data removed]",
      "text/plain": [
       "<matplotlib.figure.Figure at 0x120acca50>"
      ]
     },
     "metadata": {},
     "output_type": "display_data"
    }
   ],
   "source": [
    "conversion_barplot('milling', df)"
   ]
  },
  {
   "cell_type": "code",
   "execution_count": 193,
   "metadata": {
    "collapsed": false
   },
   "outputs": [
    {
     "data": {
      "image/png": "[encoded data removed]",
      "text/plain": [
       "<matplotlib.figure.Figure at 0x1236f8110>"
      ]
     },
     "metadata": {},
     "output_type": "display_data"
    }
   ],
   "source": [
    "conversion_barplot('width', df)"
   ]
  },
  {
   "cell_type": "code",
   "execution_count": 198,
   "metadata": {
    "collapsed": false
   },
   "outputs": [
    {
     "data": {
      "image/png": "[encoded data removed]",
      "text/plain": [
       "<matplotlib.figure.Figure at 0x122c03510>"
      ]
     },
     "metadata": {},
     "output_type": "display_data"
    }
   ],
   "source": [
    "conversion_barplot('construction', df)"
   ]
  },
  {
   "cell_type": "markdown",
   "metadata": {},
   "source": [
    "## Preprocess data for sklearn"
   ]
  },
  {
   "cell_type": "code",
   "execution_count": 254,
   "metadata": {
    "collapsed": false
   },
   "outputs": [
    {
     "name": "stdout",
     "output_type": "stream",
     "text": [
      "quote_id :  0\n",
      "email :  0\n",
      "quote_status :  0\n",
      "date_created :  1\n",
      "days_until_needed :  23450\n",
      "urgency :  0\n",
      "ship_state :  0\n",
      "install_subfloor :  21442\n",
      "employee_id :  0\n",
      "sq_ft :  0\n",
      "cust_price :  1775\n",
      "common_name :  0\n",
      "finish :  4\n",
      "grade :  4\n",
      "milling :  61\n",
      "thickness :  11\n",
      "width :  11\n",
      "construction :  4\n",
      "converted :  0\n"
     ]
    }
   ],
   "source": [
    "# Examine number of missing values in each column\n",
    "for col in df.columns:\n",
    "    print col, ': ', df[col].isnull().sum()"
   ]
  },
  {
   "cell_type": "markdown",
   "metadata": {},
   "source": [
    "We'll impute with the median value for the numerical columns that are missing data (`days_until_needed` and `cust_price`) and impute with the mode value for missing categorical data."
   ]
  },
  {
   "cell_type": "code",
   "execution_count": 258,
   "metadata": {
    "collapsed": true
   },
   "outputs": [],
   "source": [
    "from sklearn.preprocessing import Imputer"
   ]
  },
  {
   "cell_type": "code",
   "execution_count": 259,
   "metadata": {
    "collapsed": true
   },
   "outputs": [],
   "source": [
    "# column types\n",
    "cat_columns = ['urgency', 'ship_state', 'install_subfloor', 'employee_id', 'common_name', 'finish', 'grade', 'milling', 'thickness', 'width', 'construction']\n",
    "meas_columns = ['days_until_needed', 'sq_ft', 'cust_price']"
   ]
  },
  {
   "cell_type": "code",
   "execution_count": 260,
   "metadata": {
    "collapsed": true
   },
   "outputs": [],
   "source": [
    "# Extract categorical variables\n",
    "X_cat = df.as_matrix(columns=cat_columns)\n",
    "\n",
    "# Extract measured variables\n",
    "X_meas = df.as_matrix(columns=meas_columns)"
   ]
  },
  {
   "cell_type": "code",
   "execution_count": 263,
   "metadata": {
    "collapsed": false
   },
   "outputs": [],
   "source": [
    "# Impute measured variables\n",
    "imp_meas = Imputer(missing_values=np.nan, strategy='median', axis=0)\n",
    "\n",
    "# Fit imputer\n",
    "imp_meas.fit(X_meas)\n",
    "\n",
    "# Impute values\n",
    "X_meas_imp = imp_meas.transform(X_meas)"
   ]
  },
  {
   "cell_type": "code",
   "execution_count": 265,
   "metadata": {
    "collapsed": true
   },
   "outputs": [],
   "source": [
    "# Before imputing categorical data, need to convert from strings to 0-indexed integers\n",
    "from sklearn.preprocessing import LabelEncoder\n",
    "labels = {}\n",
    "for i, col in enumerate(cat_columns):\n",
    "    \n",
    "    # Extract the column values and convert to 0-indexed integers\n",
    "    x = X_cat[:, i]\n",
    "    le = LabelEncoder().fit(x)\n",
    "    X_cat[:, i] = le.transform(x)\n",
    "    \n",
    "    # Store label data\n",
    "    labels[col] = le"
   ]
  },
  {
   "cell_type": "code",
   "execution_count": 266,
   "metadata": {
    "collapsed": false
   },
   "outputs": [],
   "source": [
    "# Impute categorical variables\n",
    "imp_cat = Imputer(missing_values=np.nan, strategy='most_frequent', axis=0)\n",
    "\n",
    "# Fit imputer\n",
    "imp_cat.fit(X_cat)\n",
    "\n",
    "# Impute values\n",
    "X_cat_imp = imp_cat.transform(X_cat)"
   ]
  },
  {
   "cell_type": "code",
   "execution_count": 268,
   "metadata": {
    "collapsed": true
   },
   "outputs": [],
   "source": [
    "# Use one-hot encoding to transform categorical variable into\n",
    "# multiple binary variables\n",
    "from sklearn.preprocessing import OneHotEncoder\n",
    "\n",
    "enc = OneHotEncoder()\n",
    "enc.fit(X_cat_imp)\n",
    "\n",
    "# Apply one-hot encoding\n",
    "X_cat_imp = enc.transform(X_cat_imp).toarray()"
   ]
  },
  {
   "cell_type": "code",
   "execution_count": 270,
   "metadata": {
    "collapsed": false
   },
   "outputs": [],
   "source": [
    "# scale measure features\n",
    "from sklearn.preprocessing import scale\n",
    "X_meas_imp = scale(X_meas_imp)"
   ]
  },
  {
   "cell_type": "code",
   "execution_count": 271,
   "metadata": {
    "collapsed": true
   },
   "outputs": [],
   "source": [
    "# Concatenate features\n",
    "feature_type = ['cat'] * X_cat_imp.shape[1] + ['meas'] * X_meas_imp.shape[1]\n",
    "X = np.concatenate((X_cat_imp, X_meas_imp), axis=1)"
   ]
  },
  {
   "cell_type": "code",
   "execution_count": 272,
   "metadata": {
    "collapsed": false
   },
   "outputs": [],
   "source": [
    "y = df.as_matrix(columns=['converted'])"
   ]
  },
  {
   "cell_type": "markdown",
   "metadata": {},
   "source": [
    "## Prepare cross-validation using stratified k-fold"
   ]
  },
  {
   "cell_type": "code",
   "execution_count": 273,
   "metadata": {
    "collapsed": true
   },
   "outputs": [],
   "source": [
    "from sklearn.cross_validation import StratifiedShuffleSplit"
   ]
  },
  {
   "cell_type": "code",
   "execution_count": 299,
   "metadata": {
    "collapsed": false
   },
   "outputs": [],
   "source": [
    "sss = StratifiedShuffleSplit(y.ravel(), 10, test_size=0.33)"
   ]
  },
  {
   "cell_type": "markdown",
   "metadata": {},
   "source": [
    "## Fit parameters for random forest"
   ]
  },
  {
   "cell_type": "code",
   "execution_count": 287,
   "metadata": {
    "collapsed": true
   },
   "outputs": [],
   "source": [
    "from sklearn.ensemble import RandomForestClassifier\n",
    "from sklearn.cross_validation import train_test_split\n",
    "from sklearn.metrics import f1_score"
   ]
  },
  {
   "cell_type": "code",
   "execution_count": 282,
   "metadata": {
    "collapsed": false
   },
   "outputs": [],
   "source": [
    "# Build separate training and test sets\n",
    "X_train, X_test, y_train, y_test = train_test_split(X, y.ravel(), test_size=0.33, random_state=0, stratify = y)"
   ]
  },
  {
   "cell_type": "code",
   "execution_count": 288,
   "metadata": {
    "collapsed": false
   },
   "outputs": [
    {
     "data": {
      "image/png": "[encoded data removed]",
      "text/plain": [
       "<matplotlib.figure.Figure at 0x123bf5fd0>"
      ]
     },
     "metadata": {},
     "output_type": "display_data"
    }
   ],
   "source": [
    "# Optimize number of trees\n",
    "num_trees = [64, 128, 256, 512]\n",
    "scores = []\n",
    "for tree_size in num_trees:\n",
    "    clf = RandomForestClassifier(n_estimators=tree_size, \n",
    "                                 oob_score=True,\n",
    "                                 class_weight = 'balanced')\n",
    "    clf.fit(X_train, y_train)\n",
    "    y_pred = clf.predict(X_test)\n",
    "    scores.append(f1_score(y_test, y_pred))\n",
    "    \n",
    "plt.plot(num_trees, scores);\n",
    "plt.xlabel('Number of Trees');\n",
    "plt.ylabel('F1 Score');"
   ]
  },
  {
   "cell_type": "code",
   "execution_count": 293,
   "metadata": {
    "collapsed": false
   },
   "outputs": [],
   "source": [
    "best_tree_size = num_trees[scores.index(max(scores))]"
   ]
  },
  {
   "cell_type": "code",
   "execution_count": 294,
   "metadata": {
    "collapsed": false
   },
   "outputs": [
    {
     "data": {
      "text/plain": [
       "(52356, 165)"
      ]
     },
     "execution_count": 294,
     "metadata": {},
     "output_type": "execute_result"
    }
   ],
   "source": [
    "X.shape"
   ]
  },
  {
   "cell_type": "code",
   "execution_count": 295,
   "metadata": {
    "collapsed": false
   },
   "outputs": [
    {
     "data": {
      "image/png": "[encoded data removed]",
      "text/plain": [
       "<matplotlib.figure.Figure at 0x1238c50d0>"
      ]
     },
     "metadata": {},
     "output_type": "display_data"
    }
   ],
   "source": [
    "# Optimize parameters of Random Forest\n",
    "max_depth = range(1, X.shape[1]*2, 5)\n",
    "num_trees = best_tree_size\n",
    "scores = []\n",
    "for depth in max_depth:\n",
    "    clf = RandomForestClassifier(n_estimators=num_trees, \n",
    "                                 oob_score=True, \n",
    "                                 max_depth = depth,\n",
    "                                class_weight = 'balanced')\n",
    "    clf.fit(X_train, y_train)\n",
    "    y_pred = clf.predict(X_test)\n",
    "    scores.append(f1_score(y_test, y_pred))\n",
    "    \n",
    "plt.plot(max_depth, scores);\n",
    "plt.xlabel('Max Depth');\n",
    "plt.ylabel('F1 Score');\n",
    "best_depth = max_depth[scores.index(max(scores))]"
   ]
  },
  {
   "cell_type": "code",
   "execution_count": 296,
   "metadata": {
    "collapsed": false
   },
   "outputs": [
    {
     "data": {
      "image/png": "[encoded data removed]",
      "text/plain": [
       "<matplotlib.figure.Figure at 0x11b3a6190>"
      ]
     },
     "metadata": {},
     "output_type": "display_data"
    }
   ],
   "source": [
    "# Optimize number of features\n",
    "num_trees = best_tree_size\n",
    "max_depth = best_depth\n",
    "num_features = range(1, X.shape[1])\n",
    "scores = []\n",
    "for num in num_features:\n",
    "    clf = RandomForestClassifier(n_estimators=num_trees,\n",
    "                                oob_score = True,\n",
    "                                max_depth = max_depth,\n",
    "                                max_features = num,\n",
    "                                class_weight = 'balanced')\n",
    "    clf.fit(X_train, y_train)\n",
    "    y_pred = clf.predict(X_test)\n",
    "    scores.append(f1_score(y_test, y_pred))\n",
    "    \n",
    "plt.plot(num_features, scores);\n",
    "plt.xlabel('Max Number of Features');\n",
    "plt.ylabel('F1 Score');\n",
    "best_features = num_features[scores.index(max(scores))]"
   ]
  },
  {
   "cell_type": "code",
   "execution_count": 302,
   "metadata": {
    "collapsed": false
   },
   "outputs": [
    {
     "name": "stdout",
     "output_type": "stream",
     "text": [
      "0.449896821348\n"
     ]
    }
   ],
   "source": [
    "scores = []\n",
    "for train_index, test_index in sss:\n",
    "    X_train, X_test = X[train_index], X[test_index]\n",
    "    y_train, y_test = y[train_index].ravel(), y[test_index].ravel()\n",
    "    \n",
    "    rf = RandomForestClassifier(n_estimators=best_tree_size,\n",
    "                                oob_score = True,\n",
    "                                max_depth = best_depth,\n",
    "                                max_features = best_features,\n",
    "                                class_weight = 'balanced')\n",
    "    rf.fit(X_train, y_train)\n",
    "    y_pred = clf.predict(X_test)\n",
    "    scores.append(f1_score(y_test, y_pred))\n",
    "print np.mean(scores)\n",
    "    "
   ]
  },
  {
   "cell_type": "code",
   "execution_count": 305,
   "metadata": {
    "collapsed": false
   },
   "outputs": [
    {
     "name": "stdout",
     "output_type": "stream",
     "text": [
      "             precision    recall  f1-score   support\n",
      "\n",
      "          0       0.98      0.92      0.95     16335\n",
      "          1       0.34      0.71      0.46       943\n",
      "\n",
      "avg / total       0.95      0.91      0.92     17278\n",
      "\n"
     ]
    }
   ],
   "source": [
    "from sklearn import metrics\n",
    "le = LabelEncoder().fit(y.ravel())\n",
    "print metrics.classification_report(y_test, y_pred, target_names=[str(x) for x in le.classes_])"
   ]
  },
  {
   "cell_type": "code",
   "execution_count": 308,
   "metadata": {
    "collapsed": true
   },
   "outputs": [],
   "source": [
    "# Get the order of features in descending order\n",
    "feature_order = list(np.argsort(rf.feature_importances_)[::-1])"
   ]
  },
  {
   "cell_type": "code",
   "execution_count": 320,
   "metadata": {
    "collapsed": false
   },
   "outputs": [
    {
     "data": {
      "text/plain": [
       "[145, 101, 22, 27, 24, 160, 113, 96, 73, 103]"
      ]
     },
     "execution_count": 320,
     "metadata": {},
     "output_type": "execute_result"
    }
   ],
   "source": [
    "top_10_features_indices = [feature_order.index(x) for x in range(10)]\n",
    "top_10_features_indices"
   ]
  },
  {
   "cell_type": "code",
   "execution_count": 324,
   "metadata": {
    "collapsed": false
   },
   "outputs": [
    {
     "data": {
      "text/plain": [
       "['days_until_needed', 'sq_ft', 'cust_price']"
      ]
     },
     "execution_count": 324,
     "metadata": {},
     "output_type": "execute_result"
    }
   ],
   "source": [
    "meas_columns"
   ]
  },
  {
   "cell_type": "code",
   "execution_count": 325,
   "metadata": {
    "collapsed": false
   },
   "outputs": [
    {
     "data": {
      "text/plain": [
       "{'common_name': LabelEncoder(),\n",
       " 'construction': LabelEncoder(),\n",
       " 'employee_id': LabelEncoder(),\n",
       " 'finish': LabelEncoder(),\n",
       " 'grade': LabelEncoder(),\n",
       " 'install_subfloor': LabelEncoder(),\n",
       " 'milling': LabelEncoder(),\n",
       " 'ship_state': LabelEncoder(),\n",
       " 'thickness': LabelEncoder(),\n",
       " 'urgency': LabelEncoder(),\n",
       " 'width': LabelEncoder()}"
      ]
     },
     "execution_count": 325,
     "metadata": {},
     "output_type": "execute_result"
    }
   ],
   "source": [
    "labels"
   ]
  },
  {
   "cell_type": "code",
   "execution_count": 327,
   "metadata": {
    "collapsed": false
   },
   "outputs": [
    {
     "data": {
      "text/plain": [
       "array([None, '', 'Concrete', 'Other', 'Plywood'], dtype=object)"
      ]
     },
     "execution_count": 327,
     "metadata": {},
     "output_type": "execute_result"
    }
   ],
   "source": [
    "labels['install_subfloor'].classes_"
   ]
  }
 ],
 "metadata": {
  "kernelspec": {
   "display_name": "Python 2",
   "language": "python",
   "name": "python2"
  },
  "language_info": {
   "codemirror_mode": {
    "name": "ipython",
    "version": 2
   },
   "file_extension": ".py",
   "mimetype": "text/x-python",
   "name": "python",
   "nbconvert_exporter": "python",
   "pygments_lexer": "ipython2",
   "version": "2.7.11"
  }
 },
 "nbformat": 4,
 "nbformat_minor": 0
}
